{
 "cells": [
  {
   "cell_type": "markdown",
   "metadata": {},
   "source": [
    "# Load CSV file needed for analysis and import packages"
   ]
  },
  {
   "cell_type": "code",
   "execution_count": 1,
   "metadata": {},
   "outputs": [],
   "source": [
    "import numpy as np\n",
    "import pandas as pd\n",
    "import seaborn as sns\n",
    "import matplotlib.pyplot as plt\n"
   ]
  },
  {
   "cell_type": "markdown",
   "metadata": {},
   "source": [
    "We will load following files downloaded from FAO website, those are the same files we used for project 4. \n",
    "\n",
    "1. first file: food_balance_total.csv\n",
    "2. second file: food_balance_item_group.csv\n",
    "\n",
    "Also in terms of data cleaning and customizing, we will initially use same code that we used for project 4 below and then do manipulation based on our needs for this project."
   ]
  },
  {
   "cell_type": "code",
   "execution_count": 2,
   "metadata": {
    "scrolled": false
   },
   "outputs": [
    {
     "data": {
      "text/html": [
       "<div>\n",
       "<style scoped>\n",
       "    .dataframe tbody tr th:only-of-type {\n",
       "        vertical-align: middle;\n",
       "    }\n",
       "\n",
       "    .dataframe tbody tr th {\n",
       "        vertical-align: top;\n",
       "    }\n",
       "\n",
       "    .dataframe thead th {\n",
       "        text-align: right;\n",
       "    }\n",
       "</style>\n",
       "<table border=\"1\" class=\"dataframe\">\n",
       "  <thead>\n",
       "    <tr style=\"text-align: right;\">\n",
       "      <th></th>\n",
       "      <th>country_code</th>\n",
       "      <th>country</th>\n",
       "      <th>item_code</th>\n",
       "      <th>item</th>\n",
       "      <th>year</th>\n",
       "      <th>origin</th>\n",
       "      <th>domestic_supply_quantity</th>\n",
       "      <th>export_quantity</th>\n",
       "      <th>fat_supply_quantity_gcapitaday</th>\n",
       "      <th>feed</th>\n",
       "      <th>...</th>\n",
       "      <th>import_quantity</th>\n",
       "      <th>losses</th>\n",
       "      <th>other_uses</th>\n",
       "      <th>processing</th>\n",
       "      <th>production</th>\n",
       "      <th>protein_supply_quantity_gcapitaday</th>\n",
       "      <th>residuals</th>\n",
       "      <th>seed</th>\n",
       "      <th>stock_variation</th>\n",
       "      <th>tourist_consumption</th>\n",
       "    </tr>\n",
       "  </thead>\n",
       "  <tbody>\n",
       "    <tr>\n",
       "      <td>0</td>\n",
       "      <td>1</td>\n",
       "      <td>Armenia</td>\n",
       "      <td>2511</td>\n",
       "      <td>Wheat and products</td>\n",
       "      <td>2014</td>\n",
       "      <td>vegetal</td>\n",
       "      <td>639.0</td>\n",
       "      <td>1.0</td>\n",
       "      <td>3.90</td>\n",
       "      <td>110.0</td>\n",
       "      <td>...</td>\n",
       "      <td>344.0</td>\n",
       "      <td>30.0</td>\n",
       "      <td>0.0</td>\n",
       "      <td>16.0</td>\n",
       "      <td>338.0</td>\n",
       "      <td>33.01</td>\n",
       "      <td>46.0</td>\n",
       "      <td>32.0</td>\n",
       "      <td>42.0</td>\n",
       "      <td>NaN</td>\n",
       "    </tr>\n",
       "    <tr>\n",
       "      <td>1</td>\n",
       "      <td>1</td>\n",
       "      <td>Armenia</td>\n",
       "      <td>2511</td>\n",
       "      <td>Wheat and products</td>\n",
       "      <td>2015</td>\n",
       "      <td>vegetal</td>\n",
       "      <td>748.0</td>\n",
       "      <td>2.0</td>\n",
       "      <td>4.02</td>\n",
       "      <td>125.0</td>\n",
       "      <td>...</td>\n",
       "      <td>324.0</td>\n",
       "      <td>59.0</td>\n",
       "      <td>0.0</td>\n",
       "      <td>16.0</td>\n",
       "      <td>363.0</td>\n",
       "      <td>33.07</td>\n",
       "      <td>106.0</td>\n",
       "      <td>33.0</td>\n",
       "      <td>-63.0</td>\n",
       "      <td>NaN</td>\n",
       "    </tr>\n",
       "    <tr>\n",
       "      <td>2</td>\n",
       "      <td>1</td>\n",
       "      <td>Armenia</td>\n",
       "      <td>2511</td>\n",
       "      <td>Wheat and products</td>\n",
       "      <td>2016</td>\n",
       "      <td>vegetal</td>\n",
       "      <td>650.0</td>\n",
       "      <td>1.0</td>\n",
       "      <td>4.22</td>\n",
       "      <td>128.0</td>\n",
       "      <td>...</td>\n",
       "      <td>312.0</td>\n",
       "      <td>64.0</td>\n",
       "      <td>0.0</td>\n",
       "      <td>17.0</td>\n",
       "      <td>350.0</td>\n",
       "      <td>34.70</td>\n",
       "      <td>-22.0</td>\n",
       "      <td>33.0</td>\n",
       "      <td>11.0</td>\n",
       "      <td>NaN</td>\n",
       "    </tr>\n",
       "    <tr>\n",
       "      <td>3</td>\n",
       "      <td>1</td>\n",
       "      <td>Armenia</td>\n",
       "      <td>2511</td>\n",
       "      <td>Wheat and products</td>\n",
       "      <td>2017</td>\n",
       "      <td>vegetal</td>\n",
       "      <td>547.0</td>\n",
       "      <td>1.0</td>\n",
       "      <td>4.28</td>\n",
       "      <td>105.0</td>\n",
       "      <td>...</td>\n",
       "      <td>337.0</td>\n",
       "      <td>15.0</td>\n",
       "      <td>0.0</td>\n",
       "      <td>16.0</td>\n",
       "      <td>176.0</td>\n",
       "      <td>34.36</td>\n",
       "      <td>-42.0</td>\n",
       "      <td>25.0</td>\n",
       "      <td>-34.0</td>\n",
       "      <td>NaN</td>\n",
       "    </tr>\n",
       "    <tr>\n",
       "      <td>4</td>\n",
       "      <td>1</td>\n",
       "      <td>Armenia</td>\n",
       "      <td>2511</td>\n",
       "      <td>Wheat and products</td>\n",
       "      <td>2018</td>\n",
       "      <td>vegetal</td>\n",
       "      <td>571.0</td>\n",
       "      <td>1.0</td>\n",
       "      <td>4.40</td>\n",
       "      <td>118.0</td>\n",
       "      <td>...</td>\n",
       "      <td>379.0</td>\n",
       "      <td>16.0</td>\n",
       "      <td>0.0</td>\n",
       "      <td>16.0</td>\n",
       "      <td>187.0</td>\n",
       "      <td>34.25</td>\n",
       "      <td>-27.0</td>\n",
       "      <td>20.0</td>\n",
       "      <td>-5.0</td>\n",
       "      <td>NaN</td>\n",
       "    </tr>\n",
       "  </tbody>\n",
       "</table>\n",
       "<p>5 rows × 23 columns</p>\n",
       "</div>"
      ],
      "text/plain": [
       "   country_code  country  item_code                item  year   origin  \\\n",
       "0             1  Armenia       2511  Wheat and products  2014  vegetal   \n",
       "1             1  Armenia       2511  Wheat and products  2015  vegetal   \n",
       "2             1  Armenia       2511  Wheat and products  2016  vegetal   \n",
       "3             1  Armenia       2511  Wheat and products  2017  vegetal   \n",
       "4             1  Armenia       2511  Wheat and products  2018  vegetal   \n",
       "\n",
       "   domestic_supply_quantity  export_quantity  fat_supply_quantity_gcapitaday  \\\n",
       "0                     639.0              1.0                            3.90   \n",
       "1                     748.0              2.0                            4.02   \n",
       "2                     650.0              1.0                            4.22   \n",
       "3                     547.0              1.0                            4.28   \n",
       "4                     571.0              1.0                            4.40   \n",
       "\n",
       "    feed  ...  import_quantity  losses  other_uses  processing  production  \\\n",
       "0  110.0  ...            344.0    30.0         0.0        16.0       338.0   \n",
       "1  125.0  ...            324.0    59.0         0.0        16.0       363.0   \n",
       "2  128.0  ...            312.0    64.0         0.0        17.0       350.0   \n",
       "3  105.0  ...            337.0    15.0         0.0        16.0       176.0   \n",
       "4  118.0  ...            379.0    16.0         0.0        16.0       187.0   \n",
       "\n",
       "   protein_supply_quantity_gcapitaday  residuals  seed  stock_variation  \\\n",
       "0                               33.01       46.0  32.0             42.0   \n",
       "1                               33.07      106.0  33.0            -63.0   \n",
       "2                               34.70      -22.0  33.0             11.0   \n",
       "3                               34.36      -42.0  25.0            -34.0   \n",
       "4                               34.25      -27.0  20.0             -5.0   \n",
       "\n",
       "   tourist_consumption  \n",
       "0                  NaN  \n",
       "1                  NaN  \n",
       "2                  NaN  \n",
       "3                  NaN  \n",
       "4                  NaN  \n",
       "\n",
       "[5 rows x 23 columns]"
      ]
     },
     "execution_count": 2,
     "metadata": {},
     "output_type": "execute_result"
    }
   ],
   "source": [
    "total = pd.read_csv(\"food_balance_total.csv\",encoding = \"ISO-8859-1\", engine='python')\n",
    "item_group = pd.read_csv(\"food_balance_item_group.csv\")\n",
    "\n",
    "\n",
    "total=total.merge(item_group, on='Item Code', how='left')\n",
    "animal=total.loc[total['Item Group Code'] ==2941]\n",
    "vegetal=total.loc[total['Item Group Code'] ==2903]\n",
    "animal.to_csv('food_balance_animal.csv')\n",
    "vegetal.to_csv('food_balance_vegetal.csv')\n",
    "ani = pd.read_csv(\"food_balance_animal.csv\")\n",
    "veg = pd.read_csv(\"food_balance_vegetal.csv\")\n",
    "ani=ani.drop(['Unnamed: 0','Item Group Code', 'Item Group', 'Item_y', 'Factor', 'HS Code','HS07 Code', 'HS12 Code', 'CPC Code'], axis=1)\n",
    "veg=veg.drop(['Unnamed: 0','Item Group Code', 'Item Group', 'Item_y', 'Factor', 'HS Code','HS07 Code', 'HS12 Code', 'CPC Code'], axis=1)\n",
    "# Adds variable ‘origin’\n",
    "veg[\"origin\"] = \"vegetal\"\n",
    "ani[\"origin\"] = \"animal\"\n",
    "# Adds variable ‘origin’\n",
    "veg[\"origin\"] = \"vegetal\"\n",
    "ani[\"origin\"] = \"animal\"\n",
    "# Appends veg and ani to one dataframe\n",
    "temp = ani.append(veg)\n",
    "# Deletion of ani and veg file\n",
    "del ani, veg\n",
    "# Renaming of temp’s columns\n",
    "temp.columns = [\"country_code\", \"country\",'item_code','item','x1','element','x2','year','unit','value','x3','origin']\n",
    "# Transformation of ‘temp’ to a pivot table\n",
    "data = temp.pivot_table(\n",
    "index=[\"country_code\", \"country\", \"item_code\", \"item\", \"year\", \"origin\"],\n",
    "columns = [\"element\"], values=[\"value\"], aggfunc=sum)\n",
    "# Renaming of data’s columns (be careful, the order of the columns needs\n",
    "# to be adapted to your own data !)\n",
    "data.columns = ['domestic_supply_quantity', 'export_quantity','fat_supply_quantity_gcapitaday','feed',\n",
    "'food', 'food_supply_kcalcapitaday','food_supply_quantity_kgcapitayr', 'import_quantity','losses', 'other_uses',\n",
    "'processing', 'production', 'protein_supply_quantity_gcapitaday','residuals','seed', 'stock_variation', 'tourist_consumption']\n",
    "# Index columns need to be normal columns\n",
    "\n",
    "## \"data\" dataframe below will be the combined dataframe which will be manipulated into smaller dataframe based on needs\n",
    "\n",
    "data = data.reset_index()\n",
    "data.columns\n",
    "data.head()"
   ]
  },
  {
   "cell_type": "code",
   "execution_count": 3,
   "metadata": {},
   "outputs": [],
   "source": [
    "# only take columns needed for analysis later\n",
    "data.columns\n",
    "\n",
    "data=data[['country_code', 'country','item', 'year', 'origin',\n",
    "       'domestic_supply_quantity','food_supply_kcalcapitaday', 'food_supply_quantity_kgcapitayr',\n",
    "       'protein_supply_quantity_gcapitaday']]"
   ]
  },
  {
   "cell_type": "code",
   "execution_count": 4,
   "metadata": {
    "scrolled": true
   },
   "outputs": [
    {
     "name": "stdout",
     "output_type": "stream",
     "text": [
      "<class 'pandas.core.frame.DataFrame'>\n",
      "RangeIndex: 98729 entries, 0 to 98728\n",
      "Data columns (total 9 columns):\n",
      "country_code                          98729 non-null int64\n",
      "country                               98729 non-null object\n",
      "item                                  98729 non-null object\n",
      "year                                  98729 non-null int64\n",
      "origin                                98729 non-null object\n",
      "domestic_supply_quantity              98729 non-null float64\n",
      "food_supply_kcalcapitaday             89580 non-null float64\n",
      "food_supply_quantity_kgcapitayr       90231 non-null float64\n",
      "protein_supply_quantity_gcapitaday    89694 non-null float64\n",
      "dtypes: float64(4), int64(2), object(3)\n",
      "memory usage: 6.8+ MB\n"
     ]
    }
   ],
   "source": [
    "## check if we don't have any missing value \n",
    "\n",
    "data.info()\n",
    "\n",
    "## yes it seems there are missing values so let's get rid of it"
   ]
  },
  {
   "cell_type": "code",
   "execution_count": 5,
   "metadata": {},
   "outputs": [
    {
     "name": "stdout",
     "output_type": "stream",
     "text": [
      "<class 'pandas.core.frame.DataFrame'>\n",
      "Int64Index: 89580 entries, 0 to 98728\n",
      "Data columns (total 9 columns):\n",
      "country_code                          89580 non-null int64\n",
      "country                               89580 non-null object\n",
      "item                                  89580 non-null object\n",
      "year                                  89580 non-null int64\n",
      "origin                                89580 non-null object\n",
      "domestic_supply_quantity              89580 non-null float64\n",
      "food_supply_kcalcapitaday             89580 non-null float64\n",
      "food_supply_quantity_kgcapitayr       89580 non-null float64\n",
      "protein_supply_quantity_gcapitaday    89580 non-null float64\n",
      "dtypes: float64(4), int64(2), object(3)\n",
      "memory usage: 6.8+ MB\n"
     ]
    }
   ],
   "source": [
    "\n",
    "data=data.dropna()\n",
    "data.info()\n",
    "## now there is no NA value in this dataframe!"
   ]
  },
  {
   "cell_type": "markdown",
   "metadata": {},
   "source": [
    "* To get population dataframe, we use same code that was used for project 4. We know already that there is a duplicate value in China, so we are going to keep this code line."
   ]
  },
  {
   "cell_type": "code",
   "execution_count": 6,
   "metadata": {},
   "outputs": [
    {
     "data": {
      "text/html": [
       "<div>\n",
       "<style scoped>\n",
       "    .dataframe tbody tr th:only-of-type {\n",
       "        vertical-align: middle;\n",
       "    }\n",
       "\n",
       "    .dataframe tbody tr th {\n",
       "        vertical-align: top;\n",
       "    }\n",
       "\n",
       "    .dataframe thead th {\n",
       "        text-align: right;\n",
       "    }\n",
       "</style>\n",
       "<table border=\"1\" class=\"dataframe\">\n",
       "  <thead>\n",
       "    <tr style=\"text-align: right;\">\n",
       "      <th></th>\n",
       "      <th>country</th>\n",
       "      <th>population</th>\n",
       "      <th>year</th>\n",
       "    </tr>\n",
       "  </thead>\n",
       "  <tbody>\n",
       "    <tr>\n",
       "      <td>0</td>\n",
       "      <td>Afghanistan</td>\n",
       "      <td>33371000.000000</td>\n",
       "      <td>2014</td>\n",
       "    </tr>\n",
       "    <tr>\n",
       "      <td>1</td>\n",
       "      <td>Afghanistan</td>\n",
       "      <td>34414000.000000</td>\n",
       "      <td>2015</td>\n",
       "    </tr>\n",
       "    <tr>\n",
       "      <td>2</td>\n",
       "      <td>Afghanistan</td>\n",
       "      <td>35383000.000000</td>\n",
       "      <td>2016</td>\n",
       "    </tr>\n",
       "    <tr>\n",
       "      <td>3</td>\n",
       "      <td>Afghanistan</td>\n",
       "      <td>36296000.000000</td>\n",
       "      <td>2017</td>\n",
       "    </tr>\n",
       "    <tr>\n",
       "      <td>4</td>\n",
       "      <td>Afghanistan</td>\n",
       "      <td>37172000.000000</td>\n",
       "      <td>2018</td>\n",
       "    </tr>\n",
       "  </tbody>\n",
       "</table>\n",
       "</div>"
      ],
      "text/plain": [
       "       country      population  year\n",
       "0  Afghanistan 33371000.000000  2014\n",
       "1  Afghanistan 34414000.000000  2015\n",
       "2  Afghanistan 35383000.000000  2016\n",
       "3  Afghanistan 36296000.000000  2017\n",
       "4  Afghanistan 37172000.000000  2018"
      ]
     },
     "execution_count": 6,
     "metadata": {},
     "output_type": "execute_result"
    }
   ],
   "source": [
    "population = total [total.Flag != 'A']\n",
    "population = population.rename(columns = {'Area Code': 'Area_Code'})\n",
    "# Get rid of data on China using area code 351\n",
    "population= population[population.Area_Code!= 351]\n",
    "population= population[population.Element== 'Total Population - Both sexes']\n",
    "population=population[['Area', 'Value','Year']]\n",
    "population['Value']=population['Value']*1000\n",
    "population = population.rename(columns = {'Area': 'country', 'Value': 'population','Year':'year'}, inplace = False)\n",
    "population_by_year=population.groupby('year')['population'].sum()\n",
    "population_by_year=population_by_year.reset_index()\n",
    "pd.set_option('float_format', '{:f}'.format)\n",
    "population.head()"
   ]
  },
  {
   "cell_type": "code",
   "execution_count": 7,
   "metadata": {},
   "outputs": [
    {
     "data": {
      "text/plain": [
       "Congo                                 5\n",
       "Armenia                               5\n",
       "China, Hong Kong SAR                  5\n",
       "Albania                               5\n",
       "Solomon Islands                       5\n",
       "                                     ..\n",
       "Venezuela (Bolivarian Republic of)    5\n",
       "Lebanon                               5\n",
       "China, mainland                       5\n",
       "Viet Nam                              5\n",
       "Saint Lucia                           5\n",
       "Name: country, Length: 173, dtype: int64"
      ]
     },
     "execution_count": 7,
     "metadata": {},
     "output_type": "execute_result"
    }
   ],
   "source": [
    "population.country.value_counts()"
   ]
  },
  {
   "cell_type": "code",
   "execution_count": 8,
   "metadata": {},
   "outputs": [
    {
     "data": {
      "text/plain": [
       "year\n",
       "2014   7131485000.000000\n",
       "2015   7212776000.000000\n",
       "2016   7293574000.000000\n",
       "2017   7373798000.000000\n",
       "2018   7453133000.000000\n",
       "Name: population, dtype: float64"
      ]
     },
     "execution_count": 8,
     "metadata": {},
     "output_type": "execute_result"
    }
   ],
   "source": [
    "population.groupby('year')['population'].sum()\n",
    "\n",
    "## seems that population data here seems correct, we will use this dataframe to clean up data dataframe"
   ]
  },
  {
   "cell_type": "code",
   "execution_count": 9,
   "metadata": {},
   "outputs": [],
   "source": [
    "## now let's just put aside of countries dataframe so that we have data for later on in case we need country list\n",
    "countries=population['country'].value_counts().to_frame()\n",
    "countries['country']=countries['country'].astype(str)\n",
    "countries=countries.reset_index()"
   ]
  },
  {
   "cell_type": "code",
   "execution_count": 10,
   "metadata": {},
   "outputs": [
    {
     "data": {
      "text/plain": [
       "Index(['index', 'country'], dtype='object')"
      ]
     },
     "execution_count": 10,
     "metadata": {},
     "output_type": "execute_result"
    }
   ],
   "source": [
    "countries.columns"
   ]
  },
  {
   "cell_type": "code",
   "execution_count": 11,
   "metadata": {},
   "outputs": [
    {
     "data": {
      "text/html": [
       "<div>\n",
       "<style scoped>\n",
       "    .dataframe tbody tr th:only-of-type {\n",
       "        vertical-align: middle;\n",
       "    }\n",
       "\n",
       "    .dataframe tbody tr th {\n",
       "        vertical-align: top;\n",
       "    }\n",
       "\n",
       "    .dataframe thead th {\n",
       "        text-align: right;\n",
       "    }\n",
       "</style>\n",
       "<table border=\"1\" class=\"dataframe\">\n",
       "  <thead>\n",
       "    <tr style=\"text-align: right;\">\n",
       "      <th></th>\n",
       "      <th>country</th>\n",
       "      <th>number</th>\n",
       "    </tr>\n",
       "  </thead>\n",
       "  <tbody>\n",
       "    <tr>\n",
       "      <td>0</td>\n",
       "      <td>Congo</td>\n",
       "      <td>5</td>\n",
       "    </tr>\n",
       "    <tr>\n",
       "      <td>1</td>\n",
       "      <td>Armenia</td>\n",
       "      <td>5</td>\n",
       "    </tr>\n",
       "    <tr>\n",
       "      <td>2</td>\n",
       "      <td>China, Hong Kong SAR</td>\n",
       "      <td>5</td>\n",
       "    </tr>\n",
       "    <tr>\n",
       "      <td>3</td>\n",
       "      <td>Albania</td>\n",
       "      <td>5</td>\n",
       "    </tr>\n",
       "    <tr>\n",
       "      <td>4</td>\n",
       "      <td>Solomon Islands</td>\n",
       "      <td>5</td>\n",
       "    </tr>\n",
       "    <tr>\n",
       "      <td>...</td>\n",
       "      <td>...</td>\n",
       "      <td>...</td>\n",
       "    </tr>\n",
       "    <tr>\n",
       "      <td>168</td>\n",
       "      <td>Venezuela (Bolivarian Republic of)</td>\n",
       "      <td>5</td>\n",
       "    </tr>\n",
       "    <tr>\n",
       "      <td>169</td>\n",
       "      <td>Lebanon</td>\n",
       "      <td>5</td>\n",
       "    </tr>\n",
       "    <tr>\n",
       "      <td>170</td>\n",
       "      <td>China, mainland</td>\n",
       "      <td>5</td>\n",
       "    </tr>\n",
       "    <tr>\n",
       "      <td>171</td>\n",
       "      <td>Viet Nam</td>\n",
       "      <td>5</td>\n",
       "    </tr>\n",
       "    <tr>\n",
       "      <td>172</td>\n",
       "      <td>Saint Lucia</td>\n",
       "      <td>5</td>\n",
       "    </tr>\n",
       "  </tbody>\n",
       "</table>\n",
       "<p>173 rows × 2 columns</p>\n",
       "</div>"
      ],
      "text/plain": [
       "                                country number\n",
       "0                                 Congo      5\n",
       "1                               Armenia      5\n",
       "2                  China, Hong Kong SAR      5\n",
       "3                               Albania      5\n",
       "4                       Solomon Islands      5\n",
       "..                                  ...    ...\n",
       "168  Venezuela (Bolivarian Republic of)      5\n",
       "169                             Lebanon      5\n",
       "170                     China, mainland      5\n",
       "171                            Viet Nam      5\n",
       "172                         Saint Lucia      5\n",
       "\n",
       "[173 rows x 2 columns]"
      ]
     },
     "execution_count": 11,
     "metadata": {},
     "output_type": "execute_result"
    }
   ],
   "source": [
    "countries=countries.rename(columns={\"index\": \"country\", \"country\": \"number\"})\n",
    "countries"
   ]
  },
  {
   "cell_type": "code",
   "execution_count": 12,
   "metadata": {},
   "outputs": [
    {
     "name": "stdout",
     "output_type": "stream",
     "text": [
      "<class 'pandas.core.frame.DataFrame'>\n",
      "Int64Index: 72974 entries, 0 to 72973\n",
      "Data columns (total 10 columns):\n",
      "country_code                          72974 non-null int64\n",
      "country                               72974 non-null object\n",
      "item                                  72974 non-null object\n",
      "year                                  72974 non-null int64\n",
      "origin                                72974 non-null object\n",
      "domestic_supply_quantity              72974 non-null float64\n",
      "food_supply_kcalcapitaday             72974 non-null float64\n",
      "food_supply_quantity_kgcapitayr       72974 non-null float64\n",
      "protein_supply_quantity_gcapitaday    72974 non-null float64\n",
      "number                                72974 non-null object\n",
      "dtypes: float64(4), int64(2), object(4)\n",
      "memory usage: 6.1+ MB\n"
     ]
    }
   ],
   "source": [
    "## clean the data based on country list \n",
    "\n",
    "data_cleaned=pd.merge(data,countries,on='country')\n",
    "data_cleaned.info()"
   ]
  },
  {
   "cell_type": "markdown",
   "metadata": {},
   "source": [
    "# 2. Preparing Samples of Countries\n",
    "\n",
    "\n",
    "    "
   ]
  },
  {
   "cell_type": "markdown",
   "metadata": {},
   "source": [
    "1) Difference in Poluation dataframe\\\n",
    "- Difference in population between a previous year (elective) and the current year, expressed as a percentage.= we will manipulate polulation dataframe we made previously.\n",
    "\n",
    "For below 5 variables, we will you 'data_cleaned' dataframe that we previously obtained and manipulate to get what we need.\\\n",
    "2) Proportion of animal proteins compared to the total amount of proteins available in the country.\\\n",
    "3) Food availability in protein per capita.\\\n",
    "4) Food availability in calories per capita.\\\n",
    "5) Poultry consmuption trend (previous 5 years)\\\n",
    "6) Poultry domestic supply\n",
    "\n",
    "For GDP variable, we will use dowloaded data from FAO\\\n",
    "7) GDP per capita- each country\\\n",
    "After we gain each of data frame, we will put them together and filter data to make short list of targeted countries.\n",
    "\n"
   ]
  },
  {
   "cell_type": "markdown",
   "metadata": {},
   "source": [
    "## 2.1 Difference in population between previous year and current year and expressed as a percentage"
   ]
  },
  {
   "cell_type": "code",
   "execution_count": 13,
   "metadata": {},
   "outputs": [
    {
     "data": {
      "text/html": [
       "<div>\n",
       "<style scoped>\n",
       "    .dataframe tbody tr th:only-of-type {\n",
       "        vertical-align: middle;\n",
       "    }\n",
       "\n",
       "    .dataframe tbody tr th {\n",
       "        vertical-align: top;\n",
       "    }\n",
       "\n",
       "    .dataframe thead th {\n",
       "        text-align: right;\n",
       "    }\n",
       "</style>\n",
       "<table border=\"1\" class=\"dataframe\">\n",
       "  <thead>\n",
       "    <tr style=\"text-align: right;\">\n",
       "      <th></th>\n",
       "      <th>country</th>\n",
       "      <th>population</th>\n",
       "      <th>year</th>\n",
       "    </tr>\n",
       "  </thead>\n",
       "  <tbody>\n",
       "    <tr>\n",
       "      <td>0</td>\n",
       "      <td>Afghanistan</td>\n",
       "      <td>33371000.000000</td>\n",
       "      <td>2014</td>\n",
       "    </tr>\n",
       "    <tr>\n",
       "      <td>1</td>\n",
       "      <td>Afghanistan</td>\n",
       "      <td>34414000.000000</td>\n",
       "      <td>2015</td>\n",
       "    </tr>\n",
       "    <tr>\n",
       "      <td>2</td>\n",
       "      <td>Afghanistan</td>\n",
       "      <td>35383000.000000</td>\n",
       "      <td>2016</td>\n",
       "    </tr>\n",
       "    <tr>\n",
       "      <td>3</td>\n",
       "      <td>Afghanistan</td>\n",
       "      <td>36296000.000000</td>\n",
       "      <td>2017</td>\n",
       "    </tr>\n",
       "    <tr>\n",
       "      <td>4</td>\n",
       "      <td>Afghanistan</td>\n",
       "      <td>37172000.000000</td>\n",
       "      <td>2018</td>\n",
       "    </tr>\n",
       "  </tbody>\n",
       "</table>\n",
       "</div>"
      ],
      "text/plain": [
       "       country      population  year\n",
       "0  Afghanistan 33371000.000000  2014\n",
       "1  Afghanistan 34414000.000000  2015\n",
       "2  Afghanistan 35383000.000000  2016\n",
       "3  Afghanistan 36296000.000000  2017\n",
       "4  Afghanistan 37172000.000000  2018"
      ]
     },
     "execution_count": 13,
     "metadata": {},
     "output_type": "execute_result"
    }
   ],
   "source": [
    "## checking out population dataframe to have an idea how to manipulate data to get population difference, it seems we have population per year 2014,2015,2016,2017,2018\n",
    "\n",
    "population.head()"
   ]
  },
  {
   "cell_type": "code",
   "execution_count": 14,
   "metadata": {},
   "outputs": [
    {
     "name": "stdout",
     "output_type": "stream",
     "text": [
      "<class 'pandas.core.frame.DataFrame'>\n",
      "Int64Index: 865 entries, 0 to 2962069\n",
      "Data columns (total 3 columns):\n",
      "country       865 non-null object\n",
      "population    865 non-null float64\n",
      "year          865 non-null int64\n",
      "dtypes: float64(1), int64(1), object(1)\n",
      "memory usage: 27.0+ KB\n"
     ]
    }
   ],
   "source": [
    "# check if there is missing or NA value\n",
    "\n",
    "population.info()"
   ]
  },
  {
   "cell_type": "code",
   "execution_count": 15,
   "metadata": {},
   "outputs": [
    {
     "data": {
      "text/plain": [
       "Congo                                 5\n",
       "Armenia                               5\n",
       "China, Hong Kong SAR                  5\n",
       "Albania                               5\n",
       "Solomon Islands                       5\n",
       "                                     ..\n",
       "Venezuela (Bolivarian Republic of)    5\n",
       "Lebanon                               5\n",
       "China, mainland                       5\n",
       "Viet Nam                              5\n",
       "Saint Lucia                           5\n",
       "Name: country, Length: 173, dtype: int64"
      ]
     },
     "execution_count": 15,
     "metadata": {},
     "output_type": "execute_result"
    }
   ],
   "source": [
    "population.country.value_counts()\n",
    "\n",
    "## 173 countries in the list\n"
   ]
  },
  {
   "cell_type": "code",
   "execution_count": 16,
   "metadata": {},
   "outputs": [],
   "source": [
    "## we will only get 2017, 2018 population data to calculate population difference\n",
    "\n",
    "population_cleaned = population[(population['year'] >=2017) ]"
   ]
  },
  {
   "cell_type": "code",
   "execution_count": 17,
   "metadata": {},
   "outputs": [
    {
     "name": "stderr",
     "output_type": "stream",
     "text": [
      "C:\\Python\\lib\\site-packages\\ipykernel_launcher.py:1: SettingWithCopyWarning: \n",
      "A value is trying to be set on a copy of a slice from a DataFrame.\n",
      "Try using .loc[row_indexer,col_indexer] = value instead\n",
      "\n",
      "See the caveats in the documentation: http://pandas.pydata.org/pandas-docs/stable/user_guide/indexing.html#returning-a-view-versus-a-copy\n",
      "  \"\"\"Entry point for launching an IPython kernel.\n"
     ]
    }
   ],
   "source": [
    "population_cleaned['population_difference']=population_cleaned.population.pct_change()*100\n"
   ]
  },
  {
   "cell_type": "code",
   "execution_count": 18,
   "metadata": {},
   "outputs": [
    {
     "data": {
      "text/html": [
       "<div>\n",
       "<style scoped>\n",
       "    .dataframe tbody tr th:only-of-type {\n",
       "        vertical-align: middle;\n",
       "    }\n",
       "\n",
       "    .dataframe tbody tr th {\n",
       "        vertical-align: top;\n",
       "    }\n",
       "\n",
       "    .dataframe thead th {\n",
       "        text-align: right;\n",
       "    }\n",
       "</style>\n",
       "<table border=\"1\" class=\"dataframe\">\n",
       "  <thead>\n",
       "    <tr style=\"text-align: right;\">\n",
       "      <th></th>\n",
       "      <th>country</th>\n",
       "      <th>population</th>\n",
       "      <th>year</th>\n",
       "      <th>population_difference</th>\n",
       "    </tr>\n",
       "  </thead>\n",
       "  <tbody>\n",
       "    <tr>\n",
       "      <td>3</td>\n",
       "      <td>Afghanistan</td>\n",
       "      <td>36296000.000000</td>\n",
       "      <td>2017</td>\n",
       "      <td>nan</td>\n",
       "    </tr>\n",
       "    <tr>\n",
       "      <td>4</td>\n",
       "      <td>Afghanistan</td>\n",
       "      <td>37172000.000000</td>\n",
       "      <td>2018</td>\n",
       "      <td>2.413489</td>\n",
       "    </tr>\n",
       "    <tr>\n",
       "      <td>15673</td>\n",
       "      <td>Albania</td>\n",
       "      <td>2884000.000000</td>\n",
       "      <td>2017</td>\n",
       "      <td>-92.241472</td>\n",
       "    </tr>\n",
       "    <tr>\n",
       "      <td>15674</td>\n",
       "      <td>Albania</td>\n",
       "      <td>2883000.000000</td>\n",
       "      <td>2018</td>\n",
       "      <td>-0.034674</td>\n",
       "    </tr>\n",
       "    <tr>\n",
       "      <td>31141</td>\n",
       "      <td>Algeria</td>\n",
       "      <td>41389000.000000</td>\n",
       "      <td>2017</td>\n",
       "      <td>1335.622615</td>\n",
       "    </tr>\n",
       "    <tr>\n",
       "      <td>...</td>\n",
       "      <td>...</td>\n",
       "      <td>...</td>\n",
       "      <td>...</td>\n",
       "      <td>...</td>\n",
       "    </tr>\n",
       "    <tr>\n",
       "      <td>2924846</td>\n",
       "      <td>Yemen</td>\n",
       "      <td>28499000.000000</td>\n",
       "      <td>2018</td>\n",
       "      <td>2.385486</td>\n",
       "    </tr>\n",
       "    <tr>\n",
       "      <td>2943590</td>\n",
       "      <td>Zambia</td>\n",
       "      <td>16854000.000000</td>\n",
       "      <td>2017</td>\n",
       "      <td>-40.861083</td>\n",
       "    </tr>\n",
       "    <tr>\n",
       "      <td>2943591</td>\n",
       "      <td>Zambia</td>\n",
       "      <td>17352000.000000</td>\n",
       "      <td>2018</td>\n",
       "      <td>2.954788</td>\n",
       "    </tr>\n",
       "    <tr>\n",
       "      <td>2962068</td>\n",
       "      <td>Zimbabwe</td>\n",
       "      <td>14237000.000000</td>\n",
       "      <td>2017</td>\n",
       "      <td>-17.951821</td>\n",
       "    </tr>\n",
       "    <tr>\n",
       "      <td>2962069</td>\n",
       "      <td>Zimbabwe</td>\n",
       "      <td>14439000.000000</td>\n",
       "      <td>2018</td>\n",
       "      <td>1.418838</td>\n",
       "    </tr>\n",
       "  </tbody>\n",
       "</table>\n",
       "<p>346 rows × 4 columns</p>\n",
       "</div>"
      ],
      "text/plain": [
       "             country      population  year  population_difference\n",
       "3        Afghanistan 36296000.000000  2017                    nan\n",
       "4        Afghanistan 37172000.000000  2018               2.413489\n",
       "15673        Albania  2884000.000000  2017             -92.241472\n",
       "15674        Albania  2883000.000000  2018              -0.034674\n",
       "31141        Algeria 41389000.000000  2017            1335.622615\n",
       "...              ...             ...   ...                    ...\n",
       "2924846        Yemen 28499000.000000  2018               2.385486\n",
       "2943590       Zambia 16854000.000000  2017             -40.861083\n",
       "2943591       Zambia 17352000.000000  2018               2.954788\n",
       "2962068     Zimbabwe 14237000.000000  2017             -17.951821\n",
       "2962069     Zimbabwe 14439000.000000  2018               1.418838\n",
       "\n",
       "[346 rows x 4 columns]"
      ]
     },
     "execution_count": 18,
     "metadata": {},
     "output_type": "execute_result"
    }
   ],
   "source": [
    "## we will see now year 2017,2018 and population difference column, now we will only extract last year 2018 to get most recent year for population and keep population difference percentage\n",
    "\n",
    "population_cleaned"
   ]
  },
  {
   "cell_type": "code",
   "execution_count": 19,
   "metadata": {},
   "outputs": [],
   "source": [
    "population_difference_per_country= population_cleaned[(population_cleaned['year'] >=2018) ]"
   ]
  },
  {
   "cell_type": "markdown",
   "metadata": {},
   "source": [
    "* data frame made with population difference(2017VS2018) for each country"
   ]
  },
  {
   "cell_type": "code",
   "execution_count": 20,
   "metadata": {},
   "outputs": [
    {
     "data": {
      "text/html": [
       "<div>\n",
       "<style scoped>\n",
       "    .dataframe tbody tr th:only-of-type {\n",
       "        vertical-align: middle;\n",
       "    }\n",
       "\n",
       "    .dataframe tbody tr th {\n",
       "        vertical-align: top;\n",
       "    }\n",
       "\n",
       "    .dataframe thead th {\n",
       "        text-align: right;\n",
       "    }\n",
       "</style>\n",
       "<table border=\"1\" class=\"dataframe\">\n",
       "  <thead>\n",
       "    <tr style=\"text-align: right;\">\n",
       "      <th></th>\n",
       "      <th>country</th>\n",
       "      <th>population</th>\n",
       "      <th>year</th>\n",
       "      <th>population_difference</th>\n",
       "    </tr>\n",
       "  </thead>\n",
       "  <tbody>\n",
       "    <tr>\n",
       "      <td>4</td>\n",
       "      <td>Afghanistan</td>\n",
       "      <td>37172000.000000</td>\n",
       "      <td>2018</td>\n",
       "      <td>2.413489</td>\n",
       "    </tr>\n",
       "    <tr>\n",
       "      <td>15674</td>\n",
       "      <td>Albania</td>\n",
       "      <td>2883000.000000</td>\n",
       "      <td>2018</td>\n",
       "      <td>-0.034674</td>\n",
       "    </tr>\n",
       "    <tr>\n",
       "      <td>31142</td>\n",
       "      <td>Algeria</td>\n",
       "      <td>42228000.000000</td>\n",
       "      <td>2018</td>\n",
       "      <td>2.027109</td>\n",
       "    </tr>\n",
       "    <tr>\n",
       "      <td>47562</td>\n",
       "      <td>Angola</td>\n",
       "      <td>30810000.000000</td>\n",
       "      <td>2018</td>\n",
       "      <td>3.330315</td>\n",
       "    </tr>\n",
       "    <tr>\n",
       "      <td>65563</td>\n",
       "      <td>Antigua and Barbuda</td>\n",
       "      <td>96000.000000</td>\n",
       "      <td>2018</td>\n",
       "      <td>1.052632</td>\n",
       "    </tr>\n",
       "  </tbody>\n",
       "</table>\n",
       "</div>"
      ],
      "text/plain": [
       "                   country      population  year  population_difference\n",
       "4              Afghanistan 37172000.000000  2018               2.413489\n",
       "15674              Albania  2883000.000000  2018              -0.034674\n",
       "31142              Algeria 42228000.000000  2018               2.027109\n",
       "47562               Angola 30810000.000000  2018               3.330315\n",
       "65563  Antigua and Barbuda    96000.000000  2018               1.052632"
      ]
     },
     "execution_count": 20,
     "metadata": {},
     "output_type": "execute_result"
    }
   ],
   "source": [
    "## checking out last result!\n",
    "\n",
    "population_difference_per_country.head()"
   ]
  },
  {
   "cell_type": "code",
   "execution_count": 21,
   "metadata": {},
   "outputs": [
    {
     "data": {
      "text/html": [
       "<div>\n",
       "<style scoped>\n",
       "    .dataframe tbody tr th:only-of-type {\n",
       "        vertical-align: middle;\n",
       "    }\n",
       "\n",
       "    .dataframe tbody tr th {\n",
       "        vertical-align: top;\n",
       "    }\n",
       "\n",
       "    .dataframe thead th {\n",
       "        text-align: right;\n",
       "    }\n",
       "</style>\n",
       "<table border=\"1\" class=\"dataframe\">\n",
       "  <thead>\n",
       "    <tr style=\"text-align: right;\">\n",
       "      <th></th>\n",
       "      <th>country</th>\n",
       "      <th>population</th>\n",
       "      <th>year</th>\n",
       "    </tr>\n",
       "  </thead>\n",
       "  <tbody>\n",
       "    <tr>\n",
       "      <td>4</td>\n",
       "      <td>Afghanistan</td>\n",
       "      <td>37172000.000000</td>\n",
       "      <td>2018</td>\n",
       "    </tr>\n",
       "    <tr>\n",
       "      <td>15674</td>\n",
       "      <td>Albania</td>\n",
       "      <td>2883000.000000</td>\n",
       "      <td>2018</td>\n",
       "    </tr>\n",
       "    <tr>\n",
       "      <td>31142</td>\n",
       "      <td>Algeria</td>\n",
       "      <td>42228000.000000</td>\n",
       "      <td>2018</td>\n",
       "    </tr>\n",
       "    <tr>\n",
       "      <td>47562</td>\n",
       "      <td>Angola</td>\n",
       "      <td>30810000.000000</td>\n",
       "      <td>2018</td>\n",
       "    </tr>\n",
       "    <tr>\n",
       "      <td>65563</td>\n",
       "      <td>Antigua and Barbuda</td>\n",
       "      <td>96000.000000</td>\n",
       "      <td>2018</td>\n",
       "    </tr>\n",
       "  </tbody>\n",
       "</table>\n",
       "</div>"
      ],
      "text/plain": [
       "                   country      population  year\n",
       "4              Afghanistan 37172000.000000  2018\n",
       "15674              Albania  2883000.000000  2018\n",
       "31142              Algeria 42228000.000000  2018\n",
       "47562               Angola 30810000.000000  2018\n",
       "65563  Antigua and Barbuda    96000.000000  2018"
      ]
     },
     "execution_count": 21,
     "metadata": {},
     "output_type": "execute_result"
    }
   ],
   "source": [
    "## meantime, let's just put aside 'popualtion' dataframe, in case we only want to have population data, not a percentage for later on.\n",
    "\n",
    "population=population_cleaned[(population_cleaned['year'] >=2018) ]\n",
    "population=population[['country','population','year']]\n",
    "population.head()"
   ]
  },
  {
   "cell_type": "code",
   "execution_count": 22,
   "metadata": {},
   "outputs": [
    {
     "data": {
      "image/png": "[encoded data removed]",
      "text/plain": [
       "<Figure size 432x288 with 1 Axes>"
      ]
     },
     "metadata": {
      "needs_background": "light"
     },
     "output_type": "display_data"
    },
    {
     "name": "stdout",
     "output_type": "stream",
     "text": [
      "1.240687651475247\n"
     ]
    }
   ],
   "source": [
    "# check out mean growth of population worldwide to see mean value\n",
    "\n",
    "population_difference_per_country[[\"population_difference\"]].boxplot(whis=3,showmeans=True)\n",
    "mean = population_difference_per_country['population_difference'].mean()\n",
    "plt.show()\n",
    "print(mean)"
   ]
  },
  {
   "cell_type": "code",
   "execution_count": 23,
   "metadata": {},
   "outputs": [
    {
     "data": {
      "text/html": [
       "<div>\n",
       "<style scoped>\n",
       "    .dataframe tbody tr th:only-of-type {\n",
       "        vertical-align: middle;\n",
       "    }\n",
       "\n",
       "    .dataframe tbody tr th {\n",
       "        vertical-align: top;\n",
       "    }\n",
       "\n",
       "    .dataframe thead th {\n",
       "        text-align: right;\n",
       "    }\n",
       "</style>\n",
       "<table border=\"1\" class=\"dataframe\">\n",
       "  <thead>\n",
       "    <tr style=\"text-align: right;\">\n",
       "      <th></th>\n",
       "      <th>country</th>\n",
       "    </tr>\n",
       "  </thead>\n",
       "  <tbody>\n",
       "    <tr>\n",
       "      <td>4</td>\n",
       "      <td>Afghanistan</td>\n",
       "    </tr>\n",
       "    <tr>\n",
       "      <td>15674</td>\n",
       "      <td>Albania</td>\n",
       "    </tr>\n",
       "    <tr>\n",
       "      <td>31142</td>\n",
       "      <td>Algeria</td>\n",
       "    </tr>\n",
       "    <tr>\n",
       "      <td>47562</td>\n",
       "      <td>Angola</td>\n",
       "    </tr>\n",
       "    <tr>\n",
       "      <td>65563</td>\n",
       "      <td>Antigua and Barbuda</td>\n",
       "    </tr>\n",
       "    <tr>\n",
       "      <td>...</td>\n",
       "      <td>...</td>\n",
       "    </tr>\n",
       "    <tr>\n",
       "      <td>2887962</td>\n",
       "      <td>Venezuela (Bolivarian Republic of)</td>\n",
       "    </tr>\n",
       "    <tr>\n",
       "      <td>2906731</td>\n",
       "      <td>Viet Nam</td>\n",
       "    </tr>\n",
       "    <tr>\n",
       "      <td>2924846</td>\n",
       "      <td>Yemen</td>\n",
       "    </tr>\n",
       "    <tr>\n",
       "      <td>2943591</td>\n",
       "      <td>Zambia</td>\n",
       "    </tr>\n",
       "    <tr>\n",
       "      <td>2962069</td>\n",
       "      <td>Zimbabwe</td>\n",
       "    </tr>\n",
       "  </tbody>\n",
       "</table>\n",
       "<p>173 rows × 1 columns</p>\n",
       "</div>"
      ],
      "text/plain": [
       "                                    country\n",
       "4                               Afghanistan\n",
       "15674                               Albania\n",
       "31142                               Algeria\n",
       "47562                                Angola\n",
       "65563                   Antigua and Barbuda\n",
       "...                                     ...\n",
       "2887962  Venezuela (Bolivarian Republic of)\n",
       "2906731                            Viet Nam\n",
       "2924846                               Yemen\n",
       "2943591                              Zambia\n",
       "2962069                            Zimbabwe\n",
       "\n",
       "[173 rows x 1 columns]"
      ]
     },
     "execution_count": 23,
     "metadata": {},
     "output_type": "execute_result"
    }
   ],
   "source": [
    "country_list=population_difference_per_country['country']\n",
    "country_list=country_list.to_frame()\n",
    "country_list"
   ]
  },
  {
   "cell_type": "markdown",
   "metadata": {},
   "source": [
    "## 2.2 Proportion of animal proteins compared to the total amount of protein available in the country"
   ]
  },
  {
   "cell_type": "code",
   "execution_count": 24,
   "metadata": {},
   "outputs": [
    {
     "data": {
      "text/plain": [
       "Index(['country_code', 'country', 'item', 'year', 'origin',\n",
       "       'domestic_supply_quantity', 'food_supply_kcalcapitaday',\n",
       "       'food_supply_quantity_kgcapitayr', 'protein_supply_quantity_gcapitaday',\n",
       "       'number'],\n",
       "      dtype='object')"
      ]
     },
     "execution_count": 24,
     "metadata": {},
     "output_type": "execute_result"
    }
   ],
   "source": [
    "## let's check data_cleaned data frame's columns to see how we could filter out only columns we need for variable.\n",
    "data_cleaned.columns"
   ]
  },
  {
   "cell_type": "code",
   "execution_count": 25,
   "metadata": {},
   "outputs": [],
   "source": [
    "## filter only column that is needed and also filter only 2018 to get most recent year data only\n",
    "\n",
    "animal_pro_vs_all=data_cleaned[['country', 'item','year','origin','protein_supply_quantity_gcapitaday']]\n",
    "animal_pro_vs_all= animal_pro_vs_all[animal_pro_vs_all['year']==2018]"
   ]
  },
  {
   "cell_type": "code",
   "execution_count": 26,
   "metadata": {},
   "outputs": [
    {
     "data": {
      "text/html": [
       "<div>\n",
       "<style scoped>\n",
       "    .dataframe tbody tr th:only-of-type {\n",
       "        vertical-align: middle;\n",
       "    }\n",
       "\n",
       "    .dataframe tbody tr th {\n",
       "        vertical-align: top;\n",
       "    }\n",
       "\n",
       "    .dataframe thead th {\n",
       "        text-align: right;\n",
       "    }\n",
       "</style>\n",
       "<table border=\"1\" class=\"dataframe\">\n",
       "  <thead>\n",
       "    <tr style=\"text-align: right;\">\n",
       "      <th></th>\n",
       "      <th>country</th>\n",
       "      <th>item</th>\n",
       "      <th>year</th>\n",
       "      <th>origin</th>\n",
       "      <th>protein_supply_quantity_gcapitaday</th>\n",
       "    </tr>\n",
       "  </thead>\n",
       "  <tbody>\n",
       "    <tr>\n",
       "      <td>4</td>\n",
       "      <td>Armenia</td>\n",
       "      <td>Wheat and products</td>\n",
       "      <td>2018</td>\n",
       "      <td>vegetal</td>\n",
       "      <td>34.250000</td>\n",
       "    </tr>\n",
       "    <tr>\n",
       "      <td>9</td>\n",
       "      <td>Armenia</td>\n",
       "      <td>Barley and products</td>\n",
       "      <td>2018</td>\n",
       "      <td>vegetal</td>\n",
       "      <td>0.200000</td>\n",
       "    </tr>\n",
       "    <tr>\n",
       "      <td>14</td>\n",
       "      <td>Armenia</td>\n",
       "      <td>Maize and products</td>\n",
       "      <td>2018</td>\n",
       "      <td>vegetal</td>\n",
       "      <td>0.030000</td>\n",
       "    </tr>\n",
       "    <tr>\n",
       "      <td>19</td>\n",
       "      <td>Armenia</td>\n",
       "      <td>Rye and products</td>\n",
       "      <td>2018</td>\n",
       "      <td>vegetal</td>\n",
       "      <td>0.030000</td>\n",
       "    </tr>\n",
       "    <tr>\n",
       "      <td>24</td>\n",
       "      <td>Armenia</td>\n",
       "      <td>Oats</td>\n",
       "      <td>2018</td>\n",
       "      <td>vegetal</td>\n",
       "      <td>0.230000</td>\n",
       "    </tr>\n",
       "  </tbody>\n",
       "</table>\n",
       "</div>"
      ],
      "text/plain": [
       "    country                 item  year   origin  \\\n",
       "4   Armenia   Wheat and products  2018  vegetal   \n",
       "9   Armenia  Barley and products  2018  vegetal   \n",
       "14  Armenia   Maize and products  2018  vegetal   \n",
       "19  Armenia     Rye and products  2018  vegetal   \n",
       "24  Armenia                 Oats  2018  vegetal   \n",
       "\n",
       "    protein_supply_quantity_gcapitaday  \n",
       "4                            34.250000  \n",
       "9                             0.200000  \n",
       "14                            0.030000  \n",
       "19                            0.030000  \n",
       "24                            0.230000  "
      ]
     },
     "execution_count": 26,
     "metadata": {},
     "output_type": "execute_result"
    }
   ],
   "source": [
    "animal_pro_vs_all.head()"
   ]
  },
  {
   "cell_type": "code",
   "execution_count": 27,
   "metadata": {},
   "outputs": [],
   "source": [
    "animal_protein_proportion=animal_pro_vs_all.groupby(['country', 'origin'])['protein_supply_quantity_gcapitaday'].sum()\n"
   ]
  },
  {
   "cell_type": "code",
   "execution_count": 28,
   "metadata": {},
   "outputs": [
    {
     "data": {
      "text/html": [
       "<div>\n",
       "<style scoped>\n",
       "    .dataframe tbody tr th:only-of-type {\n",
       "        vertical-align: middle;\n",
       "    }\n",
       "\n",
       "    .dataframe tbody tr th {\n",
       "        vertical-align: top;\n",
       "    }\n",
       "\n",
       "    .dataframe thead th {\n",
       "        text-align: right;\n",
       "    }\n",
       "</style>\n",
       "<table border=\"1\" class=\"dataframe\">\n",
       "  <thead>\n",
       "    <tr style=\"text-align: right;\">\n",
       "      <th></th>\n",
       "      <th>country</th>\n",
       "      <th>origin</th>\n",
       "      <th>protein_supply_quantity_gcapitaday</th>\n",
       "    </tr>\n",
       "  </thead>\n",
       "  <tbody>\n",
       "    <tr>\n",
       "      <td>0</td>\n",
       "      <td>Afghanistan</td>\n",
       "      <td>animal</td>\n",
       "      <td>10.790000</td>\n",
       "    </tr>\n",
       "    <tr>\n",
       "      <td>1</td>\n",
       "      <td>Afghanistan</td>\n",
       "      <td>vegetal</td>\n",
       "      <td>44.710000</td>\n",
       "    </tr>\n",
       "    <tr>\n",
       "      <td>2</td>\n",
       "      <td>Albania</td>\n",
       "      <td>animal</td>\n",
       "      <td>61.740000</td>\n",
       "    </tr>\n",
       "    <tr>\n",
       "      <td>3</td>\n",
       "      <td>Albania</td>\n",
       "      <td>vegetal</td>\n",
       "      <td>53.930000</td>\n",
       "    </tr>\n",
       "    <tr>\n",
       "      <td>4</td>\n",
       "      <td>Algeria</td>\n",
       "      <td>animal</td>\n",
       "      <td>24.720000</td>\n",
       "    </tr>\n",
       "  </tbody>\n",
       "</table>\n",
       "</div>"
      ],
      "text/plain": [
       "       country   origin  protein_supply_quantity_gcapitaday\n",
       "0  Afghanistan   animal                           10.790000\n",
       "1  Afghanistan  vegetal                           44.710000\n",
       "2      Albania   animal                           61.740000\n",
       "3      Albania  vegetal                           53.930000\n",
       "4      Algeria   animal                           24.720000"
      ]
     },
     "execution_count": 28,
     "metadata": {},
     "output_type": "execute_result"
    }
   ],
   "source": [
    "animal_protein_proportion=animal_protein_proportion.to_frame()\n",
    "animal_protein_proportion=animal_protein_proportion.reset_index()\n",
    "animal_protein_proportion.head()"
   ]
  },
  {
   "cell_type": "code",
   "execution_count": 29,
   "metadata": {},
   "outputs": [],
   "source": [
    "animal_protein_proportion=pd.pivot_table(animal_protein_proportion,index=[\"country\"],values=[\"protein_supply_quantity_gcapitaday\"],\n",
    "               columns=[\"origin\"],aggfunc=[np.sum])\n"
   ]
  },
  {
   "cell_type": "code",
   "execution_count": 30,
   "metadata": {},
   "outputs": [
    {
     "data": {
      "text/plain": [
       "MultiIndex([('sum', 'protein_supply_quantity_gcapitaday',  'animal'),\n",
       "            ('sum', 'protein_supply_quantity_gcapitaday', 'vegetal')],\n",
       "           names=[None, None, 'origin'])"
      ]
     },
     "execution_count": 30,
     "metadata": {},
     "output_type": "execute_result"
    }
   ],
   "source": [
    "animal_protein_proportion.columns"
   ]
  },
  {
   "cell_type": "code",
   "execution_count": 31,
   "metadata": {},
   "outputs": [],
   "source": [
    "animal_protein_proportion.columns = ['animal_protein_gcapitaday', 'vegetal_protein_gcapitaday']"
   ]
  },
  {
   "cell_type": "code",
   "execution_count": 32,
   "metadata": {},
   "outputs": [],
   "source": [
    "animal_protein_proportion['animal_protein_vs_total_protein']=animal_protein_proportion['animal_protein_gcapitaday']/(animal_protein_proportion['animal_protein_gcapitaday']+animal_protein_proportion['vegetal_protein_gcapitaday'])\n",
    "animal_protein_proportion=animal_protein_proportion.fillna(0)\n",
    "animal_protein_proportion = pd.merge(left=animal_protein_proportion, right=country_list, left_on='country', right_on='country')\n",
    "animal_protein_proportion['animal_protein_vs_total_protein']=animal_protein_proportion['animal_protein_vs_total_protein']*100"
   ]
  },
  {
   "cell_type": "code",
   "execution_count": 33,
   "metadata": {},
   "outputs": [
    {
     "data": {
      "image/png": "[encoded data removed]",
      "text/plain": [
       "<Figure size 432x288 with 1 Axes>"
      ]
     },
     "metadata": {
      "needs_background": "light"
     },
     "output_type": "display_data"
    },
    {
     "name": "stdout",
     "output_type": "stream",
     "text": [
      "42.92482169040531\n"
     ]
    }
   ],
   "source": [
    "animal_protein_proportion[[\"animal_protein_vs_total_protein\"]].boxplot(whis=3,showmeans=True)\n",
    "mean_animal_protein_proportion=animal_protein_proportion[\"animal_protein_vs_total_protein\"].mean()\n",
    "plt.show()\n",
    "print(mean_animal_protein_proportion)"
   ]
  },
  {
   "cell_type": "markdown",
   "metadata": {},
   "source": [
    "## 2.3 Food Availability in Protein Per Capita\n"
   ]
  },
  {
   "cell_type": "code",
   "execution_count": 34,
   "metadata": {},
   "outputs": [
    {
     "data": {
      "text/html": [
       "<div>\n",
       "<style scoped>\n",
       "    .dataframe tbody tr th:only-of-type {\n",
       "        vertical-align: middle;\n",
       "    }\n",
       "\n",
       "    .dataframe tbody tr th {\n",
       "        vertical-align: top;\n",
       "    }\n",
       "\n",
       "    .dataframe thead th {\n",
       "        text-align: right;\n",
       "    }\n",
       "</style>\n",
       "<table border=\"1\" class=\"dataframe\">\n",
       "  <thead>\n",
       "    <tr style=\"text-align: right;\">\n",
       "      <th></th>\n",
       "      <th>country</th>\n",
       "      <th>protein_supply_quantity_gcapitaday</th>\n",
       "    </tr>\n",
       "  </thead>\n",
       "  <tbody>\n",
       "    <tr>\n",
       "      <td>0</td>\n",
       "      <td>Afghanistan</td>\n",
       "      <td>55.500000</td>\n",
       "    </tr>\n",
       "    <tr>\n",
       "      <td>1</td>\n",
       "      <td>Albania</td>\n",
       "      <td>115.670000</td>\n",
       "    </tr>\n",
       "    <tr>\n",
       "      <td>2</td>\n",
       "      <td>Algeria</td>\n",
       "      <td>91.820000</td>\n",
       "    </tr>\n",
       "    <tr>\n",
       "      <td>3</td>\n",
       "      <td>Angola</td>\n",
       "      <td>53.050000</td>\n",
       "    </tr>\n",
       "    <tr>\n",
       "      <td>4</td>\n",
       "      <td>Antigua and Barbuda</td>\n",
       "      <td>79.910000</td>\n",
       "    </tr>\n",
       "    <tr>\n",
       "      <td>...</td>\n",
       "      <td>...</td>\n",
       "      <td>...</td>\n",
       "    </tr>\n",
       "    <tr>\n",
       "      <td>168</td>\n",
       "      <td>Venezuela (Bolivarian Republic of)</td>\n",
       "      <td>54.170000</td>\n",
       "    </tr>\n",
       "    <tr>\n",
       "      <td>169</td>\n",
       "      <td>Viet Nam</td>\n",
       "      <td>98.570000</td>\n",
       "    </tr>\n",
       "    <tr>\n",
       "      <td>170</td>\n",
       "      <td>Yemen</td>\n",
       "      <td>54.500000</td>\n",
       "    </tr>\n",
       "    <tr>\n",
       "      <td>171</td>\n",
       "      <td>Zambia</td>\n",
       "      <td>60.500000</td>\n",
       "    </tr>\n",
       "    <tr>\n",
       "      <td>172</td>\n",
       "      <td>Zimbabwe</td>\n",
       "      <td>44.130000</td>\n",
       "    </tr>\n",
       "  </tbody>\n",
       "</table>\n",
       "<p>173 rows × 2 columns</p>\n",
       "</div>"
      ],
      "text/plain": [
       "                                country  protein_supply_quantity_gcapitaday\n",
       "0                           Afghanistan                           55.500000\n",
       "1                               Albania                          115.670000\n",
       "2                               Algeria                           91.820000\n",
       "3                                Angola                           53.050000\n",
       "4                   Antigua and Barbuda                           79.910000\n",
       "..                                  ...                                 ...\n",
       "168  Venezuela (Bolivarian Republic of)                           54.170000\n",
       "169                            Viet Nam                           98.570000\n",
       "170                               Yemen                           54.500000\n",
       "171                              Zambia                           60.500000\n",
       "172                            Zimbabwe                           44.130000\n",
       "\n",
       "[173 rows x 2 columns]"
      ]
     },
     "execution_count": 34,
     "metadata": {},
     "output_type": "execute_result"
    }
   ],
   "source": [
    "food_availability_protein_capita= data_cleaned[(data_cleaned['year'] >=2018)]\n",
    "food_availability_protein_capita=food_availability_protein_capita[['country','origin','year','protein_supply_quantity_gcapitaday']]\n",
    "food_availability_protein_capita=food_availability_protein_capita.groupby('country')['protein_supply_quantity_gcapitaday'].sum()\n",
    "food_availability_protein_capita=food_availability_protein_capita.to_frame()\n",
    "food_availability_protein_capita=food_availability_protein_capita.reset_index()\n",
    "food_availability_protein_capita = pd.merge(left=food_availability_protein_capita, right=country_list, left_on='country', right_on='country')\n",
    "food_availability_protein_capita"
   ]
  },
  {
   "cell_type": "code",
   "execution_count": 35,
   "metadata": {},
   "outputs": [
    {
     "data": {
      "image/png": "[encoded data removed]",
      "text/plain": [
       "<Figure size 432x288 with 1 Axes>"
      ]
     },
     "metadata": {
      "needs_background": "light"
     },
     "output_type": "display_data"
    },
    {
     "name": "stdout",
     "output_type": "stream",
     "text": [
      "81.79687861271674\n"
     ]
    }
   ],
   "source": [
    "food_availability_protein_capita[[\"protein_supply_quantity_gcapitaday\"]].boxplot(whis=3,showmeans=True)\n",
    "food_availability_protein_capita_mean=food_availability_protein_capita[\"protein_supply_quantity_gcapitaday\"].mean()\n",
    "plt.show()\n",
    "print(food_availability_protein_capita_mean)"
   ]
  },
  {
   "cell_type": "markdown",
   "metadata": {},
   "source": [
    "## 2.4 Food Availability in Kcal Per Capita"
   ]
  },
  {
   "cell_type": "code",
   "execution_count": 36,
   "metadata": {},
   "outputs": [
    {
     "data": {
      "text/html": [
       "<div>\n",
       "<style scoped>\n",
       "    .dataframe tbody tr th:only-of-type {\n",
       "        vertical-align: middle;\n",
       "    }\n",
       "\n",
       "    .dataframe tbody tr th {\n",
       "        vertical-align: top;\n",
       "    }\n",
       "\n",
       "    .dataframe thead th {\n",
       "        text-align: right;\n",
       "    }\n",
       "</style>\n",
       "<table border=\"1\" class=\"dataframe\">\n",
       "  <thead>\n",
       "    <tr style=\"text-align: right;\">\n",
       "      <th></th>\n",
       "      <th>country</th>\n",
       "      <th>food_supply_kcalcapitaday</th>\n",
       "    </tr>\n",
       "  </thead>\n",
       "  <tbody>\n",
       "    <tr>\n",
       "      <td>0</td>\n",
       "      <td>Afghanistan</td>\n",
       "      <td>2038.000000</td>\n",
       "    </tr>\n",
       "    <tr>\n",
       "      <td>1</td>\n",
       "      <td>Albania</td>\n",
       "      <td>3361.000000</td>\n",
       "    </tr>\n",
       "    <tr>\n",
       "      <td>2</td>\n",
       "      <td>Algeria</td>\n",
       "      <td>3321.000000</td>\n",
       "    </tr>\n",
       "    <tr>\n",
       "      <td>3</td>\n",
       "      <td>Angola</td>\n",
       "      <td>2383.000000</td>\n",
       "    </tr>\n",
       "    <tr>\n",
       "      <td>4</td>\n",
       "      <td>Antigua and Barbuda</td>\n",
       "      <td>2442.000000</td>\n",
       "    </tr>\n",
       "    <tr>\n",
       "      <td>...</td>\n",
       "      <td>...</td>\n",
       "      <td>...</td>\n",
       "    </tr>\n",
       "    <tr>\n",
       "      <td>168</td>\n",
       "      <td>Venezuela (Bolivarian Republic of)</td>\n",
       "      <td>2120.000000</td>\n",
       "    </tr>\n",
       "    <tr>\n",
       "      <td>169</td>\n",
       "      <td>Viet Nam</td>\n",
       "      <td>3023.000000</td>\n",
       "    </tr>\n",
       "    <tr>\n",
       "      <td>170</td>\n",
       "      <td>Yemen</td>\n",
       "      <td>2152.000000</td>\n",
       "    </tr>\n",
       "    <tr>\n",
       "      <td>171</td>\n",
       "      <td>Zambia</td>\n",
       "      <td>2000.000000</td>\n",
       "    </tr>\n",
       "    <tr>\n",
       "      <td>172</td>\n",
       "      <td>Zimbabwe</td>\n",
       "      <td>1904.000000</td>\n",
       "    </tr>\n",
       "  </tbody>\n",
       "</table>\n",
       "<p>173 rows × 2 columns</p>\n",
       "</div>"
      ],
      "text/plain": [
       "                                country  food_supply_kcalcapitaday\n",
       "0                           Afghanistan                2038.000000\n",
       "1                               Albania                3361.000000\n",
       "2                               Algeria                3321.000000\n",
       "3                                Angola                2383.000000\n",
       "4                   Antigua and Barbuda                2442.000000\n",
       "..                                  ...                        ...\n",
       "168  Venezuela (Bolivarian Republic of)                2120.000000\n",
       "169                            Viet Nam                3023.000000\n",
       "170                               Yemen                2152.000000\n",
       "171                              Zambia                2000.000000\n",
       "172                            Zimbabwe                1904.000000\n",
       "\n",
       "[173 rows x 2 columns]"
      ]
     },
     "execution_count": 36,
     "metadata": {},
     "output_type": "execute_result"
    }
   ],
   "source": [
    "food_availability_kcal_capita= data_cleaned[(data_cleaned['year'] >=2018)]\n",
    "food_availability_kcal_capita=food_availability_kcal_capita[['country','origin','year','food_supply_kcalcapitaday']]\n",
    "food_availability_kcal_capita=food_availability_kcal_capita.groupby('country')['food_supply_kcalcapitaday'].sum()\n",
    "food_availability_kcal_capita=food_availability_kcal_capita.to_frame()\n",
    "food_availability_kcal_capita=food_availability_kcal_capita.reset_index()\n",
    "food_availability_kcal_capita = pd.merge(left=food_availability_kcal_capita, right=country_list, left_on='country', right_on='country')\n",
    "food_availability_kcal_capita"
   ]
  },
  {
   "cell_type": "code",
   "execution_count": 37,
   "metadata": {},
   "outputs": [
    {
     "data": {
      "image/png": "[encoded data removed]",
      "text/plain": [
       "<Figure size 432x288 with 1 Axes>"
      ]
     },
     "metadata": {
      "needs_background": "light"
     },
     "output_type": "display_data"
    },
    {
     "name": "stdout",
     "output_type": "stream",
     "text": [
      "2867.843930635838\n"
     ]
    }
   ],
   "source": [
    "food_availability_kcal_capita[[\"food_supply_kcalcapitaday\"]].boxplot(whis=3,showmeans=True)\n",
    "food_availability_kcal_capita_mean=food_availability_kcal_capita[\"food_supply_kcalcapitaday\"].mean()\n",
    "plt.show()\n",
    "print(food_availability_kcal_capita_mean)"
   ]
  },
  {
   "cell_type": "markdown",
   "metadata": {},
   "source": [
    "## 2.5 GDP per country"
   ]
  },
  {
   "cell_type": "markdown",
   "metadata": {},
   "source": [
    "* Download GDP CSV file from FAO website"
   ]
  },
  {
   "cell_type": "code",
   "execution_count": 38,
   "metadata": {},
   "outputs": [
    {
     "data": {
      "text/html": [
       "<div>\n",
       "<style scoped>\n",
       "    .dataframe tbody tr th:only-of-type {\n",
       "        vertical-align: middle;\n",
       "    }\n",
       "\n",
       "    .dataframe tbody tr th {\n",
       "        vertical-align: top;\n",
       "    }\n",
       "\n",
       "    .dataframe thead th {\n",
       "        text-align: right;\n",
       "    }\n",
       "</style>\n",
       "<table border=\"1\" class=\"dataframe\">\n",
       "  <thead>\n",
       "    <tr style=\"text-align: right;\">\n",
       "      <th></th>\n",
       "      <th>country</th>\n",
       "    </tr>\n",
       "  </thead>\n",
       "  <tbody>\n",
       "    <tr>\n",
       "      <td>4</td>\n",
       "      <td>Afghanistan</td>\n",
       "    </tr>\n",
       "    <tr>\n",
       "      <td>15674</td>\n",
       "      <td>Albania</td>\n",
       "    </tr>\n",
       "    <tr>\n",
       "      <td>31142</td>\n",
       "      <td>Algeria</td>\n",
       "    </tr>\n",
       "    <tr>\n",
       "      <td>47562</td>\n",
       "      <td>Angola</td>\n",
       "    </tr>\n",
       "    <tr>\n",
       "      <td>65563</td>\n",
       "      <td>Antigua and Barbuda</td>\n",
       "    </tr>\n",
       "  </tbody>\n",
       "</table>\n",
       "</div>"
      ],
      "text/plain": [
       "                   country\n",
       "4              Afghanistan\n",
       "15674              Albania\n",
       "31142              Algeria\n",
       "47562               Angola\n",
       "65563  Antigua and Barbuda"
      ]
     },
     "execution_count": 38,
     "metadata": {},
     "output_type": "execute_result"
    }
   ],
   "source": [
    "# again let's bring country list so that we could do join later so that we only get GDP data for countires that we will study\n",
    "country_list.head()"
   ]
  },
  {
   "cell_type": "code",
   "execution_count": 39,
   "metadata": {},
   "outputs": [
    {
     "data": {
      "text/html": [
       "<div>\n",
       "<style scoped>\n",
       "    .dataframe tbody tr th:only-of-type {\n",
       "        vertical-align: middle;\n",
       "    }\n",
       "\n",
       "    .dataframe tbody tr th {\n",
       "        vertical-align: top;\n",
       "    }\n",
       "\n",
       "    .dataframe thead th {\n",
       "        text-align: right;\n",
       "    }\n",
       "</style>\n",
       "<table border=\"1\" class=\"dataframe\">\n",
       "  <thead>\n",
       "    <tr style=\"text-align: right;\">\n",
       "      <th></th>\n",
       "      <th>country</th>\n",
       "      <th>gdp</th>\n",
       "    </tr>\n",
       "  </thead>\n",
       "  <tbody>\n",
       "    <tr>\n",
       "      <td>0</td>\n",
       "      <td>Luxembourg</td>\n",
       "      <td>120137.955478</td>\n",
       "    </tr>\n",
       "    <tr>\n",
       "      <td>1</td>\n",
       "      <td>China, Macao SAR</td>\n",
       "      <td>86248.547881</td>\n",
       "    </tr>\n",
       "    <tr>\n",
       "      <td>2</td>\n",
       "      <td>Switzerland</td>\n",
       "      <td>82530.174862</td>\n",
       "    </tr>\n",
       "    <tr>\n",
       "      <td>3</td>\n",
       "      <td>Norway</td>\n",
       "      <td>81101.658048</td>\n",
       "    </tr>\n",
       "    <tr>\n",
       "      <td>4</td>\n",
       "      <td>Ireland</td>\n",
       "      <td>79661.622685</td>\n",
       "    </tr>\n",
       "    <tr>\n",
       "      <td>...</td>\n",
       "      <td>...</td>\n",
       "      <td>...</td>\n",
       "    </tr>\n",
       "    <tr>\n",
       "      <td>167</td>\n",
       "      <td>Madagascar</td>\n",
       "      <td>527.386601</td>\n",
       "    </tr>\n",
       "    <tr>\n",
       "      <td>168</td>\n",
       "      <td>Mozambique</td>\n",
       "      <td>482.063443</td>\n",
       "    </tr>\n",
       "    <tr>\n",
       "      <td>169</td>\n",
       "      <td>Central African Republic</td>\n",
       "      <td>473.499434</td>\n",
       "    </tr>\n",
       "    <tr>\n",
       "      <td>170</td>\n",
       "      <td>Liberia</td>\n",
       "      <td>437.118973</td>\n",
       "    </tr>\n",
       "    <tr>\n",
       "      <td>171</td>\n",
       "      <td>Malawi</td>\n",
       "      <td>375.490370</td>\n",
       "    </tr>\n",
       "  </tbody>\n",
       "</table>\n",
       "<p>172 rows × 2 columns</p>\n",
       "</div>"
      ],
      "text/plain": [
       "                      country           gdp\n",
       "0                  Luxembourg 120137.955478\n",
       "1            China, Macao SAR  86248.547881\n",
       "2                 Switzerland  82530.174862\n",
       "3                      Norway  81101.658048\n",
       "4                     Ireland  79661.622685\n",
       "..                        ...           ...\n",
       "167                Madagascar    527.386601\n",
       "168                Mozambique    482.063443\n",
       "169  Central African Republic    473.499434\n",
       "170                   Liberia    437.118973\n",
       "171                    Malawi    375.490370\n",
       "\n",
       "[172 rows x 2 columns]"
      ]
     },
     "execution_count": 39,
     "metadata": {},
     "output_type": "execute_result"
    }
   ],
   "source": [
    "gdp_per_country = pd.read_csv(\"gdp_per_country.csv\")\n",
    "gdp_per_country=gdp_per_country[['Area','Value']]\n",
    "gdp_per_country.rename(columns={'Area': 'country', 'Value': 'gdp'}, inplace=True)\n",
    "gdp_per_country=gdp_per_country.sort_values(by='gdp', ascending=False)\n",
    "gdp_per_country = pd.merge(left=gdp_per_country, right=country_list, left_on='country', right_on='country')\n",
    "gdp_per_country"
   ]
  },
  {
   "cell_type": "code",
   "execution_count": 40,
   "metadata": {},
   "outputs": [],
   "source": [
    "gdp_per_country.to_csv('gdp_check.csv')"
   ]
  },
  {
   "cell_type": "code",
   "execution_count": 41,
   "metadata": {},
   "outputs": [
    {
     "data": {
      "image/png": "[encoded data removed]",
      "text/plain": [
       "<Figure size 432x288 with 1 Axes>"
      ]
     },
     "metadata": {
      "needs_background": "light"
     },
     "output_type": "display_data"
    },
    {
     "name": "stdout",
     "output_type": "stream",
     "text": [
      "14738.507210906968\n"
     ]
    }
   ],
   "source": [
    "gdp_per_country[[\"gdp\"]].boxplot(whis=15,showmeans=True)\n",
    "gdp_mean=gdp_per_country[\"gdp\"].mean()\n",
    "plt.show()\n",
    "print(gdp_mean)\n"
   ]
  },
  {
   "cell_type": "markdown",
   "metadata": {},
   "source": [
    "## 2.6 Poultry Supply Trend"
   ]
  },
  {
   "cell_type": "markdown",
   "metadata": {},
   "source": [
    "* we will make average of 2014-2018 poulty consumption trend so that we see how latest poultry consumption trend could be guessed.\n",
    "* Here we are using column 'domestic_supply_quantity' which equals to production+import-export of poultry meat. This does not tell us directly how many are consumped, but based on supply q'ty we could guess probably consumption trend as well indirectly."
   ]
  },
  {
   "cell_type": "code",
   "execution_count": 42,
   "metadata": {},
   "outputs": [
    {
     "data": {
      "text/html": [
       "<div>\n",
       "<style scoped>\n",
       "    .dataframe tbody tr th:only-of-type {\n",
       "        vertical-align: middle;\n",
       "    }\n",
       "\n",
       "    .dataframe tbody tr th {\n",
       "        vertical-align: top;\n",
       "    }\n",
       "\n",
       "    .dataframe thead th {\n",
       "        text-align: right;\n",
       "    }\n",
       "</style>\n",
       "<table border=\"1\" class=\"dataframe\">\n",
       "  <thead>\n",
       "    <tr style=\"text-align: right;\">\n",
       "      <th></th>\n",
       "      <th>2014</th>\n",
       "      <th>2015</th>\n",
       "      <th>2016</th>\n",
       "      <th>2017</th>\n",
       "      <th>2018</th>\n",
       "      <th>five_year_average</th>\n",
       "    </tr>\n",
       "    <tr>\n",
       "      <th>country</th>\n",
       "      <th></th>\n",
       "      <th></th>\n",
       "      <th></th>\n",
       "      <th></th>\n",
       "      <th></th>\n",
       "      <th></th>\n",
       "    </tr>\n",
       "  </thead>\n",
       "  <tbody>\n",
       "    <tr>\n",
       "      <td>Afghanistan</td>\n",
       "      <td>nan</td>\n",
       "      <td>-0.040541</td>\n",
       "      <td>-0.112676</td>\n",
       "      <td>-0.095238</td>\n",
       "      <td>-0.070175</td>\n",
       "      <td>-0.079658</td>\n",
       "    </tr>\n",
       "    <tr>\n",
       "      <td>Albania</td>\n",
       "      <td>nan</td>\n",
       "      <td>0.000000</td>\n",
       "      <td>0.147059</td>\n",
       "      <td>-0.153846</td>\n",
       "      <td>-0.181818</td>\n",
       "      <td>-0.047151</td>\n",
       "    </tr>\n",
       "    <tr>\n",
       "      <td>Algeria</td>\n",
       "      <td>nan</td>\n",
       "      <td>0.023026</td>\n",
       "      <td>0.028939</td>\n",
       "      <td>-0.050000</td>\n",
       "      <td>-0.029605</td>\n",
       "      <td>-0.006910</td>\n",
       "    </tr>\n",
       "    <tr>\n",
       "      <td>Angola</td>\n",
       "      <td>nan</td>\n",
       "      <td>-0.367397</td>\n",
       "      <td>-0.057692</td>\n",
       "      <td>0.240816</td>\n",
       "      <td>0.190789</td>\n",
       "      <td>0.001629</td>\n",
       "    </tr>\n",
       "    <tr>\n",
       "      <td>Antigua and Barbuda</td>\n",
       "      <td>nan</td>\n",
       "      <td>0.000000</td>\n",
       "      <td>0.000000</td>\n",
       "      <td>0.000000</td>\n",
       "      <td>0.000000</td>\n",
       "      <td>0.000000</td>\n",
       "    </tr>\n",
       "    <tr>\n",
       "      <td>...</td>\n",
       "      <td>...</td>\n",
       "      <td>...</td>\n",
       "      <td>...</td>\n",
       "      <td>...</td>\n",
       "      <td>...</td>\n",
       "      <td>...</td>\n",
       "    </tr>\n",
       "    <tr>\n",
       "      <td>Venezuela (Bolivarian Republic of)</td>\n",
       "      <td>nan</td>\n",
       "      <td>-0.279635</td>\n",
       "      <td>-0.303797</td>\n",
       "      <td>-0.263636</td>\n",
       "      <td>-0.072016</td>\n",
       "      <td>-0.229771</td>\n",
       "    </tr>\n",
       "    <tr>\n",
       "      <td>Viet Nam</td>\n",
       "      <td>nan</td>\n",
       "      <td>0.059970</td>\n",
       "      <td>0.019802</td>\n",
       "      <td>0.000000</td>\n",
       "      <td>0.052705</td>\n",
       "      <td>0.033119</td>\n",
       "    </tr>\n",
       "    <tr>\n",
       "      <td>Yemen</td>\n",
       "      <td>nan</td>\n",
       "      <td>-0.342105</td>\n",
       "      <td>-0.120000</td>\n",
       "      <td>-0.075758</td>\n",
       "      <td>0.516393</td>\n",
       "      <td>-0.005367</td>\n",
       "    </tr>\n",
       "    <tr>\n",
       "      <td>Zambia</td>\n",
       "      <td>nan</td>\n",
       "      <td>0.019608</td>\n",
       "      <td>0.038462</td>\n",
       "      <td>0.037037</td>\n",
       "      <td>0.035714</td>\n",
       "      <td>0.032705</td>\n",
       "    </tr>\n",
       "    <tr>\n",
       "      <td>Zimbabwe</td>\n",
       "      <td>nan</td>\n",
       "      <td>-0.126582</td>\n",
       "      <td>0.086957</td>\n",
       "      <td>0.000000</td>\n",
       "      <td>-0.066667</td>\n",
       "      <td>-0.026573</td>\n",
       "    </tr>\n",
       "  </tbody>\n",
       "</table>\n",
       "<p>173 rows × 6 columns</p>\n",
       "</div>"
      ],
      "text/plain": [
       "                                    2014      2015      2016      2017  \\\n",
       "country                                                                  \n",
       "Afghanistan                          nan -0.040541 -0.112676 -0.095238   \n",
       "Albania                              nan  0.000000  0.147059 -0.153846   \n",
       "Algeria                              nan  0.023026  0.028939 -0.050000   \n",
       "Angola                               nan -0.367397 -0.057692  0.240816   \n",
       "Antigua and Barbuda                  nan  0.000000  0.000000  0.000000   \n",
       "...                                  ...       ...       ...       ...   \n",
       "Venezuela (Bolivarian Republic of)   nan -0.279635 -0.303797 -0.263636   \n",
       "Viet Nam                             nan  0.059970  0.019802  0.000000   \n",
       "Yemen                                nan -0.342105 -0.120000 -0.075758   \n",
       "Zambia                               nan  0.019608  0.038462  0.037037   \n",
       "Zimbabwe                             nan -0.126582  0.086957  0.000000   \n",
       "\n",
       "                                        2018  five_year_average  \n",
       "country                                                          \n",
       "Afghanistan                        -0.070175          -0.079658  \n",
       "Albania                            -0.181818          -0.047151  \n",
       "Algeria                            -0.029605          -0.006910  \n",
       "Angola                              0.190789           0.001629  \n",
       "Antigua and Barbuda                 0.000000           0.000000  \n",
       "...                                      ...                ...  \n",
       "Venezuela (Bolivarian Republic of) -0.072016          -0.229771  \n",
       "Viet Nam                            0.052705           0.033119  \n",
       "Yemen                               0.516393          -0.005367  \n",
       "Zambia                              0.035714           0.032705  \n",
       "Zimbabwe                           -0.066667          -0.026573  \n",
       "\n",
       "[173 rows x 6 columns]"
      ]
     },
     "execution_count": 42,
     "metadata": {},
     "output_type": "execute_result"
    }
   ],
   "source": [
    "poultry_supply_trend = data_cleaned[(data_cleaned['year'] >=2013) ]\n",
    "poultry_supply_trend=poultry_supply_trend[(poultry_supply_trend['item'] =='Poultry Meat')]\n",
    "poultry_supply_trend=poultry_supply_trend[['country', 'year','domestic_supply_quantity']]\n",
    "\n",
    "\n",
    "poultry_supply_trend=pd.pivot_table(poultry_supply_trend,index=[\"country\"],values=[\"domestic_supply_quantity\"],columns=[\"year\"],aggfunc=[np.sum])\n",
    "\n",
    "poultry_supply_trend=poultry_supply_trend.reset_index()\n",
    "\n",
    "poultry_supply_trend.columns = ['country', '2014','2015','2016','2017','2018']\n",
    "poultry_supply_trend=poultry_supply_trend.set_index('country')\n",
    "poultry_supply_trend=poultry_supply_trend.pct_change(axis='columns')\n",
    "poultry_supply_trend['five_year_average']=(poultry_supply_trend['2015']+poultry_supply_trend['2016']+poultry_supply_trend['2017']+poultry_supply_trend['2018'])/4\n",
    "poultry_supply_trend['five_year_average']\n",
    "poultry_supply_trend"
   ]
  },
  {
   "cell_type": "code",
   "execution_count": 43,
   "metadata": {},
   "outputs": [
    {
     "data": {
      "text/html": [
       "<div>\n",
       "<style scoped>\n",
       "    .dataframe tbody tr th:only-of-type {\n",
       "        vertical-align: middle;\n",
       "    }\n",
       "\n",
       "    .dataframe tbody tr th {\n",
       "        vertical-align: top;\n",
       "    }\n",
       "\n",
       "    .dataframe thead th {\n",
       "        text-align: right;\n",
       "    }\n",
       "</style>\n",
       "<table border=\"1\" class=\"dataframe\">\n",
       "  <thead>\n",
       "    <tr style=\"text-align: right;\">\n",
       "      <th></th>\n",
       "      <th>country</th>\n",
       "      <th>five_year_average</th>\n",
       "    </tr>\n",
       "  </thead>\n",
       "  <tbody>\n",
       "    <tr>\n",
       "      <td>0</td>\n",
       "      <td>Afghanistan</td>\n",
       "      <td>-0.079658</td>\n",
       "    </tr>\n",
       "    <tr>\n",
       "      <td>1</td>\n",
       "      <td>Albania</td>\n",
       "      <td>-0.047151</td>\n",
       "    </tr>\n",
       "    <tr>\n",
       "      <td>2</td>\n",
       "      <td>Algeria</td>\n",
       "      <td>-0.006910</td>\n",
       "    </tr>\n",
       "    <tr>\n",
       "      <td>3</td>\n",
       "      <td>Angola</td>\n",
       "      <td>0.001629</td>\n",
       "    </tr>\n",
       "    <tr>\n",
       "      <td>4</td>\n",
       "      <td>Antigua and Barbuda</td>\n",
       "      <td>0.000000</td>\n",
       "    </tr>\n",
       "    <tr>\n",
       "      <td>...</td>\n",
       "      <td>...</td>\n",
       "      <td>...</td>\n",
       "    </tr>\n",
       "    <tr>\n",
       "      <td>168</td>\n",
       "      <td>Venezuela (Bolivarian Republic of)</td>\n",
       "      <td>-0.229771</td>\n",
       "    </tr>\n",
       "    <tr>\n",
       "      <td>169</td>\n",
       "      <td>Viet Nam</td>\n",
       "      <td>0.033119</td>\n",
       "    </tr>\n",
       "    <tr>\n",
       "      <td>170</td>\n",
       "      <td>Yemen</td>\n",
       "      <td>-0.005367</td>\n",
       "    </tr>\n",
       "    <tr>\n",
       "      <td>171</td>\n",
       "      <td>Zambia</td>\n",
       "      <td>0.032705</td>\n",
       "    </tr>\n",
       "    <tr>\n",
       "      <td>172</td>\n",
       "      <td>Zimbabwe</td>\n",
       "      <td>-0.026573</td>\n",
       "    </tr>\n",
       "  </tbody>\n",
       "</table>\n",
       "<p>173 rows × 2 columns</p>\n",
       "</div>"
      ],
      "text/plain": [
       "                                country  five_year_average\n",
       "0                           Afghanistan          -0.079658\n",
       "1                               Albania          -0.047151\n",
       "2                               Algeria          -0.006910\n",
       "3                                Angola           0.001629\n",
       "4                   Antigua and Barbuda           0.000000\n",
       "..                                  ...                ...\n",
       "168  Venezuela (Bolivarian Republic of)          -0.229771\n",
       "169                            Viet Nam           0.033119\n",
       "170                               Yemen          -0.005367\n",
       "171                              Zambia           0.032705\n",
       "172                            Zimbabwe          -0.026573\n",
       "\n",
       "[173 rows x 2 columns]"
      ]
     },
     "execution_count": 43,
     "metadata": {},
     "output_type": "execute_result"
    }
   ],
   "source": [
    "poultry_supply_trend=poultry_supply_trend.reset_index()\n",
    "poultry_supply_trend=poultry_supply_trend[['country', 'five_year_average']]\n",
    "poultry_supply_trend = pd.merge(left=poultry_supply_trend, right=country_list, left_on='country', right_on='country')\n",
    "poultry_supply_trend"
   ]
  },
  {
   "cell_type": "code",
   "execution_count": 44,
   "metadata": {},
   "outputs": [
    {
     "data": {
      "image/png": "[encoded data removed]",
      "text/plain": [
       "<Figure size 432x288 with 1 Axes>"
      ]
     },
     "metadata": {
      "needs_background": "light"
     },
     "output_type": "display_data"
    },
    {
     "name": "stdout",
     "output_type": "stream",
     "text": [
      "0.02944372192541258\n"
     ]
    }
   ],
   "source": [
    "poultry_supply_trend[[\"five_year_average\"]].boxplot(whis=15,showmeans=True)\n",
    "trend_mean=poultry_supply_trend[\"five_year_average\"].mean()\n",
    "plt.show()\n",
    "\n",
    "print(trend_mean)\n"
   ]
  },
  {
   "cell_type": "markdown",
   "metadata": {},
   "source": [
    "## 2.7 Poultry Domestic Supply Per Capita"
   ]
  },
  {
   "cell_type": "code",
   "execution_count": 45,
   "metadata": {},
   "outputs": [
    {
     "data": {
      "text/plain": [
       "7453133000.0"
      ]
     },
     "execution_count": 45,
     "metadata": {},
     "output_type": "execute_result"
    }
   ],
   "source": [
    "population_2018 = population_cleaned[population_cleaned['year']==2018]\n",
    "population_2018.population.sum()"
   ]
  },
  {
   "cell_type": "code",
   "execution_count": 46,
   "metadata": {},
   "outputs": [
    {
     "data": {
      "text/html": [
       "<div>\n",
       "<style scoped>\n",
       "    .dataframe tbody tr th:only-of-type {\n",
       "        vertical-align: middle;\n",
       "    }\n",
       "\n",
       "    .dataframe tbody tr th {\n",
       "        vertical-align: top;\n",
       "    }\n",
       "\n",
       "    .dataframe thead th {\n",
       "        text-align: right;\n",
       "    }\n",
       "</style>\n",
       "<table border=\"1\" class=\"dataframe\">\n",
       "  <thead>\n",
       "    <tr style=\"text-align: right;\">\n",
       "      <th></th>\n",
       "      <th>country</th>\n",
       "      <th>item</th>\n",
       "      <th>domestic_supply_quantity</th>\n",
       "      <th>population</th>\n",
       "      <th>poultry_supply_per_cap</th>\n",
       "    </tr>\n",
       "  </thead>\n",
       "  <tbody>\n",
       "    <tr>\n",
       "      <td>0</td>\n",
       "      <td>Sao Tome and Principe</td>\n",
       "      <td>Poultry Meat</td>\n",
       "      <td>2.000000</td>\n",
       "      <td>211000.000000</td>\n",
       "      <td>9.478673</td>\n",
       "    </tr>\n",
       "    <tr>\n",
       "      <td>1</td>\n",
       "      <td>Kiribati</td>\n",
       "      <td>Poultry Meat</td>\n",
       "      <td>2.000000</td>\n",
       "      <td>116000.000000</td>\n",
       "      <td>17.241379</td>\n",
       "    </tr>\n",
       "    <tr>\n",
       "      <td>2</td>\n",
       "      <td>Solomon Islands</td>\n",
       "      <td>Poultry Meat</td>\n",
       "      <td>3.000000</td>\n",
       "      <td>653000.000000</td>\n",
       "      <td>4.594181</td>\n",
       "    </tr>\n",
       "    <tr>\n",
       "      <td>3</td>\n",
       "      <td>Djibouti</td>\n",
       "      <td>Poultry Meat</td>\n",
       "      <td>3.000000</td>\n",
       "      <td>959000.000000</td>\n",
       "      <td>3.128259</td>\n",
       "    </tr>\n",
       "    <tr>\n",
       "      <td>4</td>\n",
       "      <td>Guinea-Bissau</td>\n",
       "      <td>Poultry Meat</td>\n",
       "      <td>4.000000</td>\n",
       "      <td>1874000.000000</td>\n",
       "      <td>2.134472</td>\n",
       "    </tr>\n",
       "  </tbody>\n",
       "</table>\n",
       "</div>"
      ],
      "text/plain": [
       "                 country          item  domestic_supply_quantity  \\\n",
       "0  Sao Tome and Principe  Poultry Meat                  2.000000   \n",
       "1               Kiribati  Poultry Meat                  2.000000   \n",
       "2        Solomon Islands  Poultry Meat                  3.000000   \n",
       "3               Djibouti  Poultry Meat                  3.000000   \n",
       "4          Guinea-Bissau  Poultry Meat                  4.000000   \n",
       "\n",
       "      population  poultry_supply_per_cap  \n",
       "0  211000.000000                9.478673  \n",
       "1  116000.000000               17.241379  \n",
       "2  653000.000000                4.594181  \n",
       "3  959000.000000                3.128259  \n",
       "4 1874000.000000                2.134472  "
      ]
     },
     "execution_count": 46,
     "metadata": {},
     "output_type": "execute_result"
    }
   ],
   "source": [
    "# take out domestic supply quantity by country which is equal to production+import-export\n",
    "\n",
    "poultry_data=data[['country','item','year','domestic_supply_quantity']]\n",
    "poultry_data= poultry_data[(poultry_data['year'] >=2018)]\n",
    "poultry_data=poultry_data[(poultry_data['item'] =='Poultry Meat')]\n",
    "population_2018 = population[(population['year'] >=2018) ]\n",
    "poultry_data=pd.merge(left=poultry_data, right=population_2018, left_on='country', right_on='country')\n",
    "#poultry_data=poultry_data.sort_values(by='food', ascending=False).head(35)\n",
    "poultry_data=poultry_data.sort_values(by='domestic_supply_quantity')\n",
    "poultry_data=poultry_data[['country','item','domestic_supply_quantity']]\n",
    "poultry_data = pd.merge(left=poultry_data, right=population_2018, left_on='country', right_on='country')\n",
    "poultry_data=poultry_data[['country','item','domestic_supply_quantity','population']]\n",
    "poultry_data['poultry_supply_per_cap']=poultry_data['domestic_supply_quantity']*1000000/poultry_data['population']\n",
    "poultry_data.head()\n",
    "\n",
    "#poultry_data.to_csv('poultry_data.csv')"
   ]
  },
  {
   "cell_type": "code",
   "execution_count": 47,
   "metadata": {},
   "outputs": [
    {
     "data": {
      "text/plain": [
       "22.327365704386697"
      ]
     },
     "execution_count": 47,
     "metadata": {},
     "output_type": "execute_result"
    }
   ],
   "source": [
    "poultry_data['poultry_supply_per_cap'].mean()\n",
    "\n"
   ]
  },
  {
   "cell_type": "code",
   "execution_count": 48,
   "metadata": {},
   "outputs": [
    {
     "data": {
      "text/plain": [
       "Text(24.56010227482537, 34.019999999999996, 'Mean: 22.33')"
      ]
     },
     "execution_count": 48,
     "metadata": {},
     "output_type": "execute_result"
    },
    {
     "data": {
      "image/png": "[encoded data removed]",
      "text/plain": [
       "<Figure size 432x288 with 1 Axes>"
      ]
     },
     "metadata": {
      "needs_background": "light"
     },
     "output_type": "display_data"
    }
   ],
   "source": [
    "## Let's figure out mean figure for domestic supply of poultry meat in order to filter data\n",
    "## normally world average poultry consumption is around 15.6kg according to google search\n",
    "\n",
    "\n",
    "result = plt.hist(poultry_data[\"poultry_supply_per_cap\"], bins=20, color='c', edgecolor='k', alpha=0.65)\n",
    "plt.axvline(poultry_data[\"poultry_supply_per_cap\"].mean(), color='k', linestyle='dashed', linewidth=1)\n",
    "\n",
    "min_ylim, max_ylim = plt.ylim()\n",
    "plt.text(poultry_data[\"poultry_supply_per_cap\"].mean()*1.1, max_ylim*0.9, 'Mean: {:.2f}'.format(poultry_data[\"poultry_supply_per_cap\"].mean()))"
   ]
  },
  {
   "cell_type": "markdown",
   "metadata": {},
   "source": [
    "# 3. Making Dendogram containing all the studies countries - split into Five Groups"
   ]
  },
  {
   "cell_type": "markdown",
   "metadata": {},
   "source": [
    "## 3.1 Dendogram -with seven variables"
   ]
  },
  {
   "cell_type": "markdown",
   "metadata": {},
   "source": [
    "* First we will create one integrated dataframe based on varialbes we collected from 2.1 to 2.6 before we create dendogram\n"
   ]
  },
  {
   "cell_type": "code",
   "execution_count": 49,
   "metadata": {},
   "outputs": [
    {
     "data": {
      "text/html": [
       "<div>\n",
       "<style scoped>\n",
       "    .dataframe tbody tr th:only-of-type {\n",
       "        vertical-align: middle;\n",
       "    }\n",
       "\n",
       "    .dataframe tbody tr th {\n",
       "        vertical-align: top;\n",
       "    }\n",
       "\n",
       "    .dataframe thead th {\n",
       "        text-align: right;\n",
       "    }\n",
       "</style>\n",
       "<table border=\"1\" class=\"dataframe\">\n",
       "  <thead>\n",
       "    <tr style=\"text-align: right;\">\n",
       "      <th></th>\n",
       "      <th>population_difference</th>\n",
       "      <th>animal_protein_vs_total_protein</th>\n",
       "      <th>protein_supply_quantity_gcapitaday</th>\n",
       "      <th>food_supply_kcalcapitaday</th>\n",
       "      <th>gdp</th>\n",
       "      <th>five_year_average</th>\n",
       "      <th>poultry_supply_per_cap</th>\n",
       "    </tr>\n",
       "    <tr>\n",
       "      <th>country</th>\n",
       "      <th></th>\n",
       "      <th></th>\n",
       "      <th></th>\n",
       "      <th></th>\n",
       "      <th></th>\n",
       "      <th></th>\n",
       "      <th></th>\n",
       "    </tr>\n",
       "  </thead>\n",
       "  <tbody>\n",
       "    <tr>\n",
       "      <td>Sao Tome and Principe</td>\n",
       "      <td>1.932367</td>\n",
       "      <td>30.451542</td>\n",
       "      <td>54.480000</td>\n",
       "      <td>2447.000000</td>\n",
       "      <td>1968.732492</td>\n",
       "      <td>0.000000</td>\n",
       "      <td>9.478673</td>\n",
       "    </tr>\n",
       "    <tr>\n",
       "      <td>Kiribati</td>\n",
       "      <td>1.754386</td>\n",
       "      <td>49.014008</td>\n",
       "      <td>73.530000</td>\n",
       "      <td>3078.000000</td>\n",
       "      <td>1592.082641</td>\n",
       "      <td>0.000000</td>\n",
       "      <td>17.241379</td>\n",
       "    </tr>\n",
       "    <tr>\n",
       "      <td>Solomon Islands</td>\n",
       "      <td>2.672956</td>\n",
       "      <td>28.929042</td>\n",
       "      <td>53.130000</td>\n",
       "      <td>2412.000000</td>\n",
       "      <td>2039.282045</td>\n",
       "      <td>0.000000</td>\n",
       "      <td>4.594181</td>\n",
       "    </tr>\n",
       "    <tr>\n",
       "      <td>Djibouti</td>\n",
       "      <td>1.588983</td>\n",
       "      <td>21.401313</td>\n",
       "      <td>65.510000</td>\n",
       "      <td>2695.000000</td>\n",
       "      <td>3009.407574</td>\n",
       "      <td>0.125000</td>\n",
       "      <td>3.128259</td>\n",
       "    </tr>\n",
       "    <tr>\n",
       "      <td>Guinea-Bissau</td>\n",
       "      <td>2.516411</td>\n",
       "      <td>21.304650</td>\n",
       "      <td>43.230000</td>\n",
       "      <td>2229.000000</td>\n",
       "      <td>764.899506</td>\n",
       "      <td>0.000000</td>\n",
       "      <td>2.134472</td>\n",
       "    </tr>\n",
       "  </tbody>\n",
       "</table>\n",
       "</div>"
      ],
      "text/plain": [
       "                       population_difference  animal_protein_vs_total_protein  \\\n",
       "country                                                                         \n",
       "Sao Tome and Principe               1.932367                        30.451542   \n",
       "Kiribati                            1.754386                        49.014008   \n",
       "Solomon Islands                     2.672956                        28.929042   \n",
       "Djibouti                            1.588983                        21.401313   \n",
       "Guinea-Bissau                       2.516411                        21.304650   \n",
       "\n",
       "                       protein_supply_quantity_gcapitaday  \\\n",
       "country                                                     \n",
       "Sao Tome and Principe                           54.480000   \n",
       "Kiribati                                        73.530000   \n",
       "Solomon Islands                                 53.130000   \n",
       "Djibouti                                        65.510000   \n",
       "Guinea-Bissau                                   43.230000   \n",
       "\n",
       "                       food_supply_kcalcapitaday         gdp  \\\n",
       "country                                                        \n",
       "Sao Tome and Principe                2447.000000 1968.732492   \n",
       "Kiribati                             3078.000000 1592.082641   \n",
       "Solomon Islands                      2412.000000 2039.282045   \n",
       "Djibouti                             2695.000000 3009.407574   \n",
       "Guinea-Bissau                        2229.000000  764.899506   \n",
       "\n",
       "                       five_year_average  poultry_supply_per_cap  \n",
       "country                                                           \n",
       "Sao Tome and Principe           0.000000                9.478673  \n",
       "Kiribati                        0.000000               17.241379  \n",
       "Solomon Islands                 0.000000                4.594181  \n",
       "Djibouti                        0.125000                3.128259  \n",
       "Guinea-Bissau                   0.000000                2.134472  "
      ]
     },
     "execution_count": 49,
     "metadata": {},
     "output_type": "execute_result"
    }
   ],
   "source": [
    "#from functools import reduce\n",
    "\n",
    "df1=population_difference_per_country\n",
    "df2=animal_protein_proportion\n",
    "df3=food_availability_protein_capita\n",
    "df3=df3.groupby('country')['protein_supply_quantity_gcapitaday'].sum()\n",
    "df3= pd.DataFrame(data = df3)\n",
    "df4=food_availability_kcal_capita\n",
    "df4=df4.groupby('country')['food_supply_kcalcapitaday'].sum()\n",
    "df4= pd.DataFrame(data = df4) \n",
    "df5=gdp_per_country\n",
    "df6=poultry_supply_trend\n",
    "\n",
    "total_data=pd.merge(poultry_data,df1,on='country',how='inner')\n",
    "total_data=pd.merge(total_data,df2,on='country',how='inner')\n",
    "total_data=pd.merge(total_data,df3,on='country',how='inner')\n",
    "total_data=pd.merge(total_data,df4,on='country',how='inner')\n",
    "total_data=pd.merge(total_data,df5,on='country',how='inner')\n",
    "total_data=pd.merge(total_data,df6,on='country',how='inner')\n",
    "\n",
    "\n",
    "total_data=total_data[['country','population_difference','animal_protein_vs_total_protein','protein_supply_quantity_gcapitaday','food_supply_kcalcapitaday','gdp','five_year_average','poultry_supply_per_cap']]\n",
    "#Missing value Taiwan GDP- fillna\n",
    "total_data=total_data.fillna(30981)\n",
    "total_data=total_data.set_index('country')\n",
    "total_data.head()\n"
   ]
  },
  {
   "cell_type": "code",
   "execution_count": 50,
   "metadata": {},
   "outputs": [],
   "source": [
    "\n",
    "from functools import reduce"
   ]
  },
  {
   "cell_type": "markdown",
   "metadata": {},
   "source": [
    "* Standardize data set"
   ]
  },
  {
   "cell_type": "code",
   "execution_count": 51,
   "metadata": {},
   "outputs": [
    {
     "data": {
      "text/plain": [
       "array([[ 0.61960089, -0.78065082, -1.31621295, ..., -0.62260072,\n",
       "        -0.44612718, -0.67719892],\n",
       "       [ 0.45878085,  0.38526051, -0.39747687, ..., -0.64096458,\n",
       "        -0.44612718, -0.26557756],\n",
       "       [ 1.28878135, -0.87627927, -1.38132023, ..., -0.61916101,\n",
       "        -0.44612718, -0.93620154],\n",
       "       ...,\n",
       "       [-0.41561287,  0.83655336,  0.66980027, ..., -0.2865367 ,\n",
       "        -0.11951994,  1.3149086 ],\n",
       "       [-0.56748469,  1.36960089,  1.53403914, ...,  2.3521207 ,\n",
       "         0.05225337,  1.84272862],\n",
       "       [-0.70512082, -0.2218115 ,  0.91479656, ..., -0.24971512,\n",
       "        -0.24053851, -0.46601807]])"
      ]
     },
     "execution_count": 51,
     "metadata": {},
     "output_type": "execute_result"
    }
   ],
   "source": [
    "# Import the hierarchical clustering algorithm\n",
    "from sklearn.cluster import AgglomerativeClustering\n",
    "# Import functions created for this course\n",
    "# Import the sklearn function\n",
    "from sklearn.preprocessing import StandardScaler\n",
    "\n",
    "X=total_data\n",
    "# Standardize the data\n",
    "scaler = StandardScaler()\n",
    "X_scaled = scaler.fit_transform(X)\n",
    "X_scaled\n"
   ]
  },
  {
   "cell_type": "code",
   "execution_count": 52,
   "metadata": {},
   "outputs": [
    {
     "data": {
      "text/html": [
       "<div>\n",
       "<style scoped>\n",
       "    .dataframe tbody tr th:only-of-type {\n",
       "        vertical-align: middle;\n",
       "    }\n",
       "\n",
       "    .dataframe tbody tr th {\n",
       "        vertical-align: top;\n",
       "    }\n",
       "\n",
       "    .dataframe thead th {\n",
       "        text-align: right;\n",
       "    }\n",
       "</style>\n",
       "<table border=\"1\" class=\"dataframe\">\n",
       "  <thead>\n",
       "    <tr style=\"text-align: right;\">\n",
       "      <th></th>\n",
       "      <th>population_difference</th>\n",
       "      <th>animal_protein_vs_total_protein</th>\n",
       "      <th>protein_supply_quantity_gcapitaday</th>\n",
       "      <th>food_supply_kcalcapitaday</th>\n",
       "      <th>gdp</th>\n",
       "      <th>five_year_average</th>\n",
       "      <th>poultry_supply_per_cap</th>\n",
       "      <th>cluster</th>\n",
       "    </tr>\n",
       "    <tr>\n",
       "      <th>country</th>\n",
       "      <th></th>\n",
       "      <th></th>\n",
       "      <th></th>\n",
       "      <th></th>\n",
       "      <th></th>\n",
       "      <th></th>\n",
       "      <th></th>\n",
       "      <th></th>\n",
       "    </tr>\n",
       "  </thead>\n",
       "  <tbody>\n",
       "    <tr>\n",
       "      <td>Sao Tome and Principe</td>\n",
       "      <td>0.619601</td>\n",
       "      <td>-0.780651</td>\n",
       "      <td>-1.316213</td>\n",
       "      <td>-0.920060</td>\n",
       "      <td>-0.622601</td>\n",
       "      <td>-0.446127</td>\n",
       "      <td>-0.677199</td>\n",
       "      <td>1</td>\n",
       "    </tr>\n",
       "    <tr>\n",
       "      <td>Kiribati</td>\n",
       "      <td>0.458781</td>\n",
       "      <td>0.385261</td>\n",
       "      <td>-0.397477</td>\n",
       "      <td>0.461685</td>\n",
       "      <td>-0.640965</td>\n",
       "      <td>-0.446127</td>\n",
       "      <td>-0.265578</td>\n",
       "      <td>2</td>\n",
       "    </tr>\n",
       "    <tr>\n",
       "      <td>Solomon Islands</td>\n",
       "      <td>1.288781</td>\n",
       "      <td>-0.876279</td>\n",
       "      <td>-1.381320</td>\n",
       "      <td>-0.996702</td>\n",
       "      <td>-0.619161</td>\n",
       "      <td>-0.446127</td>\n",
       "      <td>-0.936202</td>\n",
       "      <td>1</td>\n",
       "    </tr>\n",
       "    <tr>\n",
       "      <td>Djibouti</td>\n",
       "      <td>0.309326</td>\n",
       "      <td>-1.349097</td>\n",
       "      <td>-0.784262</td>\n",
       "      <td>-0.376997</td>\n",
       "      <td>-0.571862</td>\n",
       "      <td>1.445651</td>\n",
       "      <td>-1.013933</td>\n",
       "      <td>1</td>\n",
       "    </tr>\n",
       "    <tr>\n",
       "      <td>Guinea-Bissau</td>\n",
       "      <td>1.147331</td>\n",
       "      <td>-1.355169</td>\n",
       "      <td>-1.858774</td>\n",
       "      <td>-1.397430</td>\n",
       "      <td>-0.681295</td>\n",
       "      <td>-0.446127</td>\n",
       "      <td>-1.066629</td>\n",
       "      <td>1</td>\n",
       "    </tr>\n",
       "    <tr>\n",
       "      <td>...</td>\n",
       "      <td>...</td>\n",
       "      <td>...</td>\n",
       "      <td>...</td>\n",
       "      <td>...</td>\n",
       "      <td>...</td>\n",
       "      <td>...</td>\n",
       "      <td>...</td>\n",
       "      <td>...</td>\n",
       "    </tr>\n",
       "    <tr>\n",
       "      <td>Mexico</td>\n",
       "      <td>-0.102490</td>\n",
       "      <td>0.382622</td>\n",
       "      <td>0.466280</td>\n",
       "      <td>0.634677</td>\n",
       "      <td>-0.262421</td>\n",
       "      <td>0.074432</td>\n",
       "      <td>0.647221</td>\n",
       "      <td>4</td>\n",
       "    </tr>\n",
       "    <tr>\n",
       "      <td>Russian Federation</td>\n",
       "      <td>-0.999784</td>\n",
       "      <td>0.750372</td>\n",
       "      <td>0.947109</td>\n",
       "      <td>1.039784</td>\n",
       "      <td>-0.156230</td>\n",
       "      <td>-0.085074</td>\n",
       "      <td>0.489175</td>\n",
       "      <td>0</td>\n",
       "    </tr>\n",
       "    <tr>\n",
       "      <td>Brazil</td>\n",
       "      <td>-0.415613</td>\n",
       "      <td>0.836553</td>\n",
       "      <td>0.669800</td>\n",
       "      <td>0.947814</td>\n",
       "      <td>-0.286537</td>\n",
       "      <td>-0.119520</td>\n",
       "      <td>1.314909</td>\n",
       "      <td>0</td>\n",
       "    </tr>\n",
       "    <tr>\n",
       "      <td>United States of America</td>\n",
       "      <td>-0.567485</td>\n",
       "      <td>1.369601</td>\n",
       "      <td>1.534039</td>\n",
       "      <td>1.992334</td>\n",
       "      <td>2.352121</td>\n",
       "      <td>0.052253</td>\n",
       "      <td>1.842729</td>\n",
       "      <td>0</td>\n",
       "    </tr>\n",
       "    <tr>\n",
       "      <td>China, mainland</td>\n",
       "      <td>-0.705121</td>\n",
       "      <td>-0.221812</td>\n",
       "      <td>0.914797</td>\n",
       "      <td>0.709129</td>\n",
       "      <td>-0.249715</td>\n",
       "      <td>-0.240539</td>\n",
       "      <td>-0.466018</td>\n",
       "      <td>2</td>\n",
       "    </tr>\n",
       "  </tbody>\n",
       "</table>\n",
       "<p>172 rows × 8 columns</p>\n",
       "</div>"
      ],
      "text/plain": [
       "                          population_difference  \\\n",
       "country                                           \n",
       "Sao Tome and Principe                  0.619601   \n",
       "Kiribati                               0.458781   \n",
       "Solomon Islands                        1.288781   \n",
       "Djibouti                               0.309326   \n",
       "Guinea-Bissau                          1.147331   \n",
       "...                                         ...   \n",
       "Mexico                                -0.102490   \n",
       "Russian Federation                    -0.999784   \n",
       "Brazil                                -0.415613   \n",
       "United States of America              -0.567485   \n",
       "China, mainland                       -0.705121   \n",
       "\n",
       "                          animal_protein_vs_total_protein  \\\n",
       "country                                                     \n",
       "Sao Tome and Principe                           -0.780651   \n",
       "Kiribati                                         0.385261   \n",
       "Solomon Islands                                 -0.876279   \n",
       "Djibouti                                        -1.349097   \n",
       "Guinea-Bissau                                   -1.355169   \n",
       "...                                                   ...   \n",
       "Mexico                                           0.382622   \n",
       "Russian Federation                               0.750372   \n",
       "Brazil                                           0.836553   \n",
       "United States of America                         1.369601   \n",
       "China, mainland                                 -0.221812   \n",
       "\n",
       "                          protein_supply_quantity_gcapitaday  \\\n",
       "country                                                        \n",
       "Sao Tome and Principe                              -1.316213   \n",
       "Kiribati                                           -0.397477   \n",
       "Solomon Islands                                    -1.381320   \n",
       "Djibouti                                           -0.784262   \n",
       "Guinea-Bissau                                      -1.858774   \n",
       "...                                                      ...   \n",
       "Mexico                                              0.466280   \n",
       "Russian Federation                                  0.947109   \n",
       "Brazil                                              0.669800   \n",
       "United States of America                            1.534039   \n",
       "China, mainland                                     0.914797   \n",
       "\n",
       "                          food_supply_kcalcapitaday       gdp  \\\n",
       "country                                                         \n",
       "Sao Tome and Principe                     -0.920060 -0.622601   \n",
       "Kiribati                                   0.461685 -0.640965   \n",
       "Solomon Islands                           -0.996702 -0.619161   \n",
       "Djibouti                                  -0.376997 -0.571862   \n",
       "Guinea-Bissau                             -1.397430 -0.681295   \n",
       "...                                             ...       ...   \n",
       "Mexico                                     0.634677 -0.262421   \n",
       "Russian Federation                         1.039784 -0.156230   \n",
       "Brazil                                     0.947814 -0.286537   \n",
       "United States of America                   1.992334  2.352121   \n",
       "China, mainland                            0.709129 -0.249715   \n",
       "\n",
       "                          five_year_average  poultry_supply_per_cap  cluster  \n",
       "country                                                                       \n",
       "Sao Tome and Principe             -0.446127               -0.677199        1  \n",
       "Kiribati                          -0.446127               -0.265578        2  \n",
       "Solomon Islands                   -0.446127               -0.936202        1  \n",
       "Djibouti                           1.445651               -1.013933        1  \n",
       "Guinea-Bissau                     -0.446127               -1.066629        1  \n",
       "...                                     ...                     ...      ...  \n",
       "Mexico                             0.074432                0.647221        4  \n",
       "Russian Federation                -0.085074                0.489175        0  \n",
       "Brazil                            -0.119520                1.314909        0  \n",
       "United States of America           0.052253                1.842729        0  \n",
       "China, mainland                   -0.240539               -0.466018        2  \n",
       "\n",
       "[172 rows x 8 columns]"
      ]
     },
     "execution_count": 52,
     "metadata": {},
     "output_type": "execute_result"
    }
   ],
   "source": [
    "# Create a hierarchical clustering model\n",
    "hiercluster = AgglomerativeClustering(affinity='euclidean', linkage='ward', compute_full_tree=True)\n",
    "\n",
    "# Fit the data to the model and determine which clusters each data point belongs to:\n",
    "hiercluster.set_params(n_clusters=5)\n",
    "clusters = hiercluster.fit_predict(X_scaled) \n",
    "np.bincount(clusters) # count of data points in each cluster\n",
    "# Read off 5 clusters:\n",
    "hiercluster.set_params(n_clusters=5)\n",
    "clusters = hiercluster.fit_predict(X_scaled) \n",
    "np.bincount(clusters)\n",
    "# Add cluster number to the original data\n",
    "X_scaled_clustered = pd.DataFrame(X_scaled, columns=X.columns, index=X.index)\n",
    "X_scaled_clustered['cluster'] = clusters\n",
    "\n",
    "X_scaled_clustered"
   ]
  },
  {
   "cell_type": "code",
   "execution_count": 53,
   "metadata": {},
   "outputs": [
    {
     "data": {
      "text/plain": [
       "1    57\n",
       "0    47\n",
       "2    35\n",
       "4    27\n",
       "3     6\n",
       "Name: cluster, dtype: int64"
      ]
     },
     "execution_count": 53,
     "metadata": {},
     "output_type": "execute_result"
    }
   ],
   "source": [
    "# Find the size of the clusters\n",
    "X_scaled_clustered[\"cluster\"].value_counts()"
   ]
  },
  {
   "cell_type": "markdown",
   "metadata": {},
   "source": [
    "* Here we are going to export CSV file for countries-cluster connection as it's required for project deliverables"
   ]
  },
  {
   "cell_type": "code",
   "execution_count": 55,
   "metadata": {},
   "outputs": [
    {
     "data": {
      "text/html": [
       "<div>\n",
       "<style scoped>\n",
       "    .dataframe tbody tr th:only-of-type {\n",
       "        vertical-align: middle;\n",
       "    }\n",
       "\n",
       "    .dataframe tbody tr th {\n",
       "        vertical-align: top;\n",
       "    }\n",
       "\n",
       "    .dataframe thead th {\n",
       "        text-align: right;\n",
       "    }\n",
       "</style>\n",
       "<table border=\"1\" class=\"dataframe\">\n",
       "  <thead>\n",
       "    <tr style=\"text-align: right;\">\n",
       "      <th></th>\n",
       "      <th>country</th>\n",
       "      <th>cluster</th>\n",
       "    </tr>\n",
       "  </thead>\n",
       "  <tbody>\n",
       "    <tr>\n",
       "      <td>0</td>\n",
       "      <td>Sao Tome and Principe</td>\n",
       "      <td>1</td>\n",
       "    </tr>\n",
       "    <tr>\n",
       "      <td>1</td>\n",
       "      <td>Kiribati</td>\n",
       "      <td>2</td>\n",
       "    </tr>\n",
       "    <tr>\n",
       "      <td>2</td>\n",
       "      <td>Solomon Islands</td>\n",
       "      <td>1</td>\n",
       "    </tr>\n",
       "    <tr>\n",
       "      <td>3</td>\n",
       "      <td>Djibouti</td>\n",
       "      <td>1</td>\n",
       "    </tr>\n",
       "    <tr>\n",
       "      <td>4</td>\n",
       "      <td>Guinea-Bissau</td>\n",
       "      <td>1</td>\n",
       "    </tr>\n",
       "    <tr>\n",
       "      <td>...</td>\n",
       "      <td>...</td>\n",
       "      <td>...</td>\n",
       "    </tr>\n",
       "    <tr>\n",
       "      <td>167</td>\n",
       "      <td>Mexico</td>\n",
       "      <td>4</td>\n",
       "    </tr>\n",
       "    <tr>\n",
       "      <td>168</td>\n",
       "      <td>Russian Federation</td>\n",
       "      <td>0</td>\n",
       "    </tr>\n",
       "    <tr>\n",
       "      <td>169</td>\n",
       "      <td>Brazil</td>\n",
       "      <td>0</td>\n",
       "    </tr>\n",
       "    <tr>\n",
       "      <td>170</td>\n",
       "      <td>United States of America</td>\n",
       "      <td>0</td>\n",
       "    </tr>\n",
       "    <tr>\n",
       "      <td>171</td>\n",
       "      <td>China, mainland</td>\n",
       "      <td>2</td>\n",
       "    </tr>\n",
       "  </tbody>\n",
       "</table>\n",
       "<p>172 rows × 2 columns</p>\n",
       "</div>"
      ],
      "text/plain": [
       "                      country  cluster\n",
       "0       Sao Tome and Principe        1\n",
       "1                    Kiribati        2\n",
       "2             Solomon Islands        1\n",
       "3                    Djibouti        1\n",
       "4               Guinea-Bissau        1\n",
       "..                        ...      ...\n",
       "167                    Mexico        4\n",
       "168        Russian Federation        0\n",
       "169                    Brazil        0\n",
       "170  United States of America        0\n",
       "171           China, mainland        2\n",
       "\n",
       "[172 rows x 2 columns]"
      ]
     },
     "execution_count": 55,
     "metadata": {},
     "output_type": "execute_result"
    }
   ],
   "source": [
    "country_cluster=X_scaled_clustered.reset_index()\n",
    "country_cluster=country_cluster[['country','cluster']]\n",
    "country_cluster\n",
    "#country_cluster.to_csv('country_cluster.csv')"
   ]
  },
  {
   "cell_type": "markdown",
   "metadata": {},
   "source": [
    "* Here below we are going to make dataframe of centroide and export in CSV as it is needed for project deliverable \n",
    "\n",
    "1) first we will make inner join with X=dendrogram dataframe and country_cluster so that we could add cluster on dataframe\n",
    "2) second we will group data frame by cluster and check mean of it so that we could see characteristic of each cluster and decide which cluster to use for our further market study"
   ]
  },
  {
   "cell_type": "code",
   "execution_count": 56,
   "metadata": {},
   "outputs": [],
   "source": [
    "centroide=pd.merge(total_data,country_cluster, on='country',how='inner')"
   ]
  },
  {
   "cell_type": "code",
   "execution_count": 57,
   "metadata": {},
   "outputs": [
    {
     "data": {
      "text/html": [
       "<div>\n",
       "<style scoped>\n",
       "    .dataframe tbody tr th:only-of-type {\n",
       "        vertical-align: middle;\n",
       "    }\n",
       "\n",
       "    .dataframe tbody tr th {\n",
       "        vertical-align: top;\n",
       "    }\n",
       "\n",
       "    .dataframe thead th {\n",
       "        text-align: right;\n",
       "    }\n",
       "</style>\n",
       "<table border=\"1\" class=\"dataframe\">\n",
       "  <thead>\n",
       "    <tr style=\"text-align: right;\">\n",
       "      <th></th>\n",
       "      <th>population_difference</th>\n",
       "      <th>animal_protein_vs_total_protein</th>\n",
       "      <th>protein_supply_quantity_gcapitaday</th>\n",
       "      <th>food_supply_kcalcapitaday</th>\n",
       "      <th>gdp</th>\n",
       "      <th>five_year_average</th>\n",
       "      <th>poultry_supply_per_cap</th>\n",
       "    </tr>\n",
       "    <tr>\n",
       "      <th>cluster</th>\n",
       "      <th></th>\n",
       "      <th></th>\n",
       "      <th></th>\n",
       "      <th></th>\n",
       "      <th></th>\n",
       "      <th></th>\n",
       "      <th></th>\n",
       "    </tr>\n",
       "  </thead>\n",
       "  <tbody>\n",
       "    <tr>\n",
       "      <td>0</td>\n",
       "      <td>0.462468</td>\n",
       "      <td>59.074212</td>\n",
       "      <td>106.413830</td>\n",
       "      <td>3378.106383</td>\n",
       "      <td>39636.719441</td>\n",
       "      <td>0.012880</td>\n",
       "      <td>29.258402</td>\n",
       "    </tr>\n",
       "    <tr>\n",
       "      <td>1</td>\n",
       "      <td>2.146201</td>\n",
       "      <td>26.526263</td>\n",
       "      <td>62.600000</td>\n",
       "      <td>2469.684211</td>\n",
       "      <td>2086.192444</td>\n",
       "      <td>0.019745</td>\n",
       "      <td>6.345442</td>\n",
       "    </tr>\n",
       "    <tr>\n",
       "      <td>2</td>\n",
       "      <td>0.844431</td>\n",
       "      <td>42.823153</td>\n",
       "      <td>85.275714</td>\n",
       "      <td>2980.371429</td>\n",
       "      <td>7315.000619</td>\n",
       "      <td>0.026821</td>\n",
       "      <td>17.607037</td>\n",
       "    </tr>\n",
       "    <tr>\n",
       "      <td>3</td>\n",
       "      <td>2.431819</td>\n",
       "      <td>28.760810</td>\n",
       "      <td>53.370000</td>\n",
       "      <td>2221.333333</td>\n",
       "      <td>1631.457992</td>\n",
       "      <td>0.282331</td>\n",
       "      <td>9.642548</td>\n",
       "    </tr>\n",
       "    <tr>\n",
       "      <td>4</td>\n",
       "      <td>0.970668</td>\n",
       "      <td>52.427690</td>\n",
       "      <td>81.118889</td>\n",
       "      <td>2813.629630</td>\n",
       "      <td>10643.358801</td>\n",
       "      <td>0.026173</td>\n",
       "      <td>52.445946</td>\n",
       "    </tr>\n",
       "  </tbody>\n",
       "</table>\n",
       "</div>"
      ],
      "text/plain": [
       "         population_difference  animal_protein_vs_total_protein  \\\n",
       "cluster                                                           \n",
       "0                     0.462468                        59.074212   \n",
       "1                     2.146201                        26.526263   \n",
       "2                     0.844431                        42.823153   \n",
       "3                     2.431819                        28.760810   \n",
       "4                     0.970668                        52.427690   \n",
       "\n",
       "         protein_supply_quantity_gcapitaday  food_supply_kcalcapitaday  \\\n",
       "cluster                                                                  \n",
       "0                                106.413830                3378.106383   \n",
       "1                                 62.600000                2469.684211   \n",
       "2                                 85.275714                2980.371429   \n",
       "3                                 53.370000                2221.333333   \n",
       "4                                 81.118889                2813.629630   \n",
       "\n",
       "                 gdp  five_year_average  poultry_supply_per_cap  \n",
       "cluster                                                          \n",
       "0       39636.719441           0.012880               29.258402  \n",
       "1        2086.192444           0.019745                6.345442  \n",
       "2        7315.000619           0.026821               17.607037  \n",
       "3        1631.457992           0.282331                9.642548  \n",
       "4       10643.358801           0.026173               52.445946  "
      ]
     },
     "execution_count": 57,
     "metadata": {},
     "output_type": "execute_result"
    }
   ],
   "source": [
    "centroide=centroide.groupby(\"cluster\").mean()\n",
    "centroide\n"
   ]
  },
  {
   "cell_type": "markdown",
   "metadata": {},
   "source": [
    "* Here we will see total piture of Dendrogram"
   ]
  },
  {
   "cell_type": "code",
   "execution_count": 114,
   "metadata": {},
   "outputs": [
    {
     "data": {
      "image/png": "[encoded data removed]",
      "text/plain": [
       "<Figure size 720x2160 with 1 Axes>"
      ]
     },
     "metadata": {
      "needs_background": "light"
     },
     "output_type": "display_data"
    }
   ],
   "source": [
    "# see dendrogram tree for all studies countries : 172 countries\n",
    "# Import the hierarchical clustering algorithm\n",
    "from sklearn.cluster import AgglomerativeClustering\n",
    "\n",
    "# Import functions created for this course\n",
    "from functions import *\n",
    "from scipy.cluster.hierarchy import linkage, fcluster \n",
    "\n",
    "sample = X_scaled_clustered\n",
    "Z = linkage(sample, 'ward') \n",
    "names = sample.index \n",
    "plot_dendrogram(Z, names, figsize=(10,30))\n",
    "\n",
    "#plt.savefig('dendrogram.png')"
   ]
  },
  {
   "cell_type": "markdown",
   "metadata": {},
   "source": [
    "## 3.2 Make Short List Countries"
   ]
  },
  {
   "cell_type": "markdown",
   "metadata": {},
   "source": [
    "* Now in previous chapter we were able to make dataframe with all countries(172) with their cluster. \n",
    "\n",
    "1) we want to investigate characteristic of each cluster, to see based on which features they were classified \\\n",
    "2) then we want to short list only 10-15 targeted countries so that we could narrow down out marketing extension target. \\\n",
    "3) lastly, we are going to visualize short list of countires with PCA"
   ]
  },
  {
   "cell_type": "markdown",
   "metadata": {},
   "source": [
    "* in order to perform 1) lets bring centroide data frame and try to figure out each cluster's characteristic"
   ]
  },
  {
   "cell_type": "code",
   "execution_count": 59,
   "metadata": {},
   "outputs": [
    {
     "data": {
      "text/html": [
       "<div>\n",
       "<style scoped>\n",
       "    .dataframe tbody tr th:only-of-type {\n",
       "        vertical-align: middle;\n",
       "    }\n",
       "\n",
       "    .dataframe tbody tr th {\n",
       "        vertical-align: top;\n",
       "    }\n",
       "\n",
       "    .dataframe thead th {\n",
       "        text-align: right;\n",
       "    }\n",
       "</style>\n",
       "<table border=\"1\" class=\"dataframe\">\n",
       "  <thead>\n",
       "    <tr style=\"text-align: right;\">\n",
       "      <th></th>\n",
       "      <th>population_difference</th>\n",
       "      <th>animal_protein_vs_total_protein</th>\n",
       "      <th>protein_supply_quantity_gcapitaday</th>\n",
       "      <th>food_supply_kcalcapitaday</th>\n",
       "      <th>gdp</th>\n",
       "      <th>five_year_average</th>\n",
       "      <th>poultry_supply_per_cap</th>\n",
       "    </tr>\n",
       "    <tr>\n",
       "      <th>cluster</th>\n",
       "      <th></th>\n",
       "      <th></th>\n",
       "      <th></th>\n",
       "      <th></th>\n",
       "      <th></th>\n",
       "      <th></th>\n",
       "      <th></th>\n",
       "    </tr>\n",
       "  </thead>\n",
       "  <tbody>\n",
       "    <tr>\n",
       "      <td>0</td>\n",
       "      <td>0.462468</td>\n",
       "      <td>59.074212</td>\n",
       "      <td>106.413830</td>\n",
       "      <td>3378.106383</td>\n",
       "      <td>39636.719441</td>\n",
       "      <td>0.012880</td>\n",
       "      <td>29.258402</td>\n",
       "    </tr>\n",
       "    <tr>\n",
       "      <td>1</td>\n",
       "      <td>2.146201</td>\n",
       "      <td>26.526263</td>\n",
       "      <td>62.600000</td>\n",
       "      <td>2469.684211</td>\n",
       "      <td>2086.192444</td>\n",
       "      <td>0.019745</td>\n",
       "      <td>6.345442</td>\n",
       "    </tr>\n",
       "    <tr>\n",
       "      <td>2</td>\n",
       "      <td>0.844431</td>\n",
       "      <td>42.823153</td>\n",
       "      <td>85.275714</td>\n",
       "      <td>2980.371429</td>\n",
       "      <td>7315.000619</td>\n",
       "      <td>0.026821</td>\n",
       "      <td>17.607037</td>\n",
       "    </tr>\n",
       "    <tr>\n",
       "      <td>3</td>\n",
       "      <td>2.431819</td>\n",
       "      <td>28.760810</td>\n",
       "      <td>53.370000</td>\n",
       "      <td>2221.333333</td>\n",
       "      <td>1631.457992</td>\n",
       "      <td>0.282331</td>\n",
       "      <td>9.642548</td>\n",
       "    </tr>\n",
       "    <tr>\n",
       "      <td>4</td>\n",
       "      <td>0.970668</td>\n",
       "      <td>52.427690</td>\n",
       "      <td>81.118889</td>\n",
       "      <td>2813.629630</td>\n",
       "      <td>10643.358801</td>\n",
       "      <td>0.026173</td>\n",
       "      <td>52.445946</td>\n",
       "    </tr>\n",
       "  </tbody>\n",
       "</table>\n",
       "</div>"
      ],
      "text/plain": [
       "         population_difference  animal_protein_vs_total_protein  \\\n",
       "cluster                                                           \n",
       "0                     0.462468                        59.074212   \n",
       "1                     2.146201                        26.526263   \n",
       "2                     0.844431                        42.823153   \n",
       "3                     2.431819                        28.760810   \n",
       "4                     0.970668                        52.427690   \n",
       "\n",
       "         protein_supply_quantity_gcapitaday  food_supply_kcalcapitaday  \\\n",
       "cluster                                                                  \n",
       "0                                106.413830                3378.106383   \n",
       "1                                 62.600000                2469.684211   \n",
       "2                                 85.275714                2980.371429   \n",
       "3                                 53.370000                2221.333333   \n",
       "4                                 81.118889                2813.629630   \n",
       "\n",
       "                 gdp  five_year_average  poultry_supply_per_cap  \n",
       "cluster                                                          \n",
       "0       39636.719441           0.012880               29.258402  \n",
       "1        2086.192444           0.019745                6.345442  \n",
       "2        7315.000619           0.026821               17.607037  \n",
       "3        1631.457992           0.282331                9.642548  \n",
       "4       10643.358801           0.026173               52.445946  "
      ]
     },
     "execution_count": 59,
     "metadata": {},
     "output_type": "execute_result"
    }
   ],
   "source": [
    "centroide.head()"
   ]
  },
  {
   "cell_type": "raw",
   "metadata": {},
   "source": [
    "cluster 1,2,3,== GDP is lower than average=> not considered for this study\n",
    "\n",
    "Cluster 4 = GDP is slightly lower than average, but food supply but food supply kcal is little low and protein supply quantity as well, we will look into them\n",
    "\n",
    "cluster 0: GDP is very high => let's take them and further look into how we could filter countries with other variable."
   ]
  },
  {
   "cell_type": "markdown",
   "metadata": {},
   "source": [
    "* Here below, let's get list of country with clsuter  0 and 4."
   ]
  },
  {
   "cell_type": "code",
   "execution_count": 60,
   "metadata": {},
   "outputs": [
    {
     "data": {
      "text/html": [
       "<div>\n",
       "<style scoped>\n",
       "    .dataframe tbody tr th:only-of-type {\n",
       "        vertical-align: middle;\n",
       "    }\n",
       "\n",
       "    .dataframe tbody tr th {\n",
       "        vertical-align: top;\n",
       "    }\n",
       "\n",
       "    .dataframe thead th {\n",
       "        text-align: right;\n",
       "    }\n",
       "</style>\n",
       "<table border=\"1\" class=\"dataframe\">\n",
       "  <thead>\n",
       "    <tr style=\"text-align: right;\">\n",
       "      <th></th>\n",
       "      <th>country</th>\n",
       "      <th>population_difference</th>\n",
       "      <th>animal_protein_vs_total_protein</th>\n",
       "      <th>protein_supply_quantity_gcapitaday</th>\n",
       "      <th>food_supply_kcalcapitaday</th>\n",
       "      <th>gdp</th>\n",
       "      <th>five_year_average</th>\n",
       "      <th>poultry_supply_per_cap</th>\n",
       "      <th>cluster</th>\n",
       "    </tr>\n",
       "  </thead>\n",
       "  <tbody>\n",
       "    <tr>\n",
       "      <td>5</td>\n",
       "      <td>Saint Kitts and Nevis</td>\n",
       "      <td>0.000000</td>\n",
       "      <td>64.222684</td>\n",
       "      <td>77.060000</td>\n",
       "      <td>2579.000000</td>\n",
       "      <td>18098.875957</td>\n",
       "      <td>0.000000</td>\n",
       "      <td>76.923077</td>\n",
       "      <td>4</td>\n",
       "    </tr>\n",
       "    <tr>\n",
       "      <td>8</td>\n",
       "      <td>Dominica</td>\n",
       "      <td>1.408451</td>\n",
       "      <td>55.548526</td>\n",
       "      <td>79.030000</td>\n",
       "      <td>2953.000000</td>\n",
       "      <td>7413.637732</td>\n",
       "      <td>0.062500</td>\n",
       "      <td>69.444444</td>\n",
       "      <td>4</td>\n",
       "    </tr>\n",
       "    <tr>\n",
       "      <td>9</td>\n",
       "      <td>Antigua and Barbuda</td>\n",
       "      <td>1.052632</td>\n",
       "      <td>64.747841</td>\n",
       "      <td>79.910000</td>\n",
       "      <td>2442.000000</td>\n",
       "      <td>15629.054576</td>\n",
       "      <td>0.000000</td>\n",
       "      <td>62.500000</td>\n",
       "      <td>4</td>\n",
       "    </tr>\n",
       "    <tr>\n",
       "      <td>10</td>\n",
       "      <td>Grenada</td>\n",
       "      <td>0.000000</td>\n",
       "      <td>56.683967</td>\n",
       "      <td>71.290000</td>\n",
       "      <td>2401.000000</td>\n",
       "      <td>10787.400403</td>\n",
       "      <td>0.008929</td>\n",
       "      <td>63.063063</td>\n",
       "      <td>4</td>\n",
       "    </tr>\n",
       "    <tr>\n",
       "      <td>17</td>\n",
       "      <td>Saint Vincent and the Grenadines</td>\n",
       "      <td>0.000000</td>\n",
       "      <td>56.138008</td>\n",
       "      <td>89.850000</td>\n",
       "      <td>2967.000000</td>\n",
       "      <td>7362.068966</td>\n",
       "      <td>0.031250</td>\n",
       "      <td>81.818182</td>\n",
       "      <td>4</td>\n",
       "    </tr>\n",
       "    <tr>\n",
       "      <td>...</td>\n",
       "      <td>...</td>\n",
       "      <td>...</td>\n",
       "      <td>...</td>\n",
       "      <td>...</td>\n",
       "      <td>...</td>\n",
       "      <td>...</td>\n",
       "      <td>...</td>\n",
       "      <td>...</td>\n",
       "      <td>...</td>\n",
       "    </tr>\n",
       "    <tr>\n",
       "      <td>165</td>\n",
       "      <td>Japan</td>\n",
       "      <td>-0.236073</td>\n",
       "      <td>55.681558</td>\n",
       "      <td>87.300000</td>\n",
       "      <td>2707.000000</td>\n",
       "      <td>39087.235938</td>\n",
       "      <td>0.013822</td>\n",
       "      <td>19.221396</td>\n",
       "      <td>0</td>\n",
       "    </tr>\n",
       "    <tr>\n",
       "      <td>167</td>\n",
       "      <td>Mexico</td>\n",
       "      <td>1.133222</td>\n",
       "      <td>48.972003</td>\n",
       "      <td>91.440000</td>\n",
       "      <td>3157.000000</td>\n",
       "      <td>9356.145765</td>\n",
       "      <td>0.034396</td>\n",
       "      <td>34.455706</td>\n",
       "      <td>4</td>\n",
       "    </tr>\n",
       "    <tr>\n",
       "      <td>168</td>\n",
       "      <td>Russian Federation</td>\n",
       "      <td>0.140177</td>\n",
       "      <td>54.826940</td>\n",
       "      <td>101.410000</td>\n",
       "      <td>3342.000000</td>\n",
       "      <td>11534.175152</td>\n",
       "      <td>0.023857</td>\n",
       "      <td>31.475153</td>\n",
       "      <td>0</td>\n",
       "    </tr>\n",
       "    <tr>\n",
       "      <td>169</td>\n",
       "      <td>Brazil</td>\n",
       "      <td>0.786686</td>\n",
       "      <td>56.199038</td>\n",
       "      <td>95.660000</td>\n",
       "      <td>3300.000000</td>\n",
       "      <td>8861.531858</td>\n",
       "      <td>0.021581</td>\n",
       "      <td>47.047534</td>\n",
       "      <td>0</td>\n",
       "    </tr>\n",
       "    <tr>\n",
       "      <td>170</td>\n",
       "      <td>United States of America</td>\n",
       "      <td>0.618607</td>\n",
       "      <td>64.685684</td>\n",
       "      <td>113.580000</td>\n",
       "      <td>3777.000000</td>\n",
       "      <td>62981.386956</td>\n",
       "      <td>0.032931</td>\n",
       "      <td>57.001614</td>\n",
       "      <td>0</td>\n",
       "    </tr>\n",
       "  </tbody>\n",
       "</table>\n",
       "<p>74 rows × 9 columns</p>\n",
       "</div>"
      ],
      "text/plain": [
       "                              country  population_difference  \\\n",
       "5               Saint Kitts and Nevis               0.000000   \n",
       "8                            Dominica               1.408451   \n",
       "9                 Antigua and Barbuda               1.052632   \n",
       "10                            Grenada               0.000000   \n",
       "17   Saint Vincent and the Grenadines               0.000000   \n",
       "..                                ...                    ...   \n",
       "165                             Japan              -0.236073   \n",
       "167                            Mexico               1.133222   \n",
       "168                Russian Federation               0.140177   \n",
       "169                            Brazil               0.786686   \n",
       "170          United States of America               0.618607   \n",
       "\n",
       "     animal_protein_vs_total_protein  protein_supply_quantity_gcapitaday  \\\n",
       "5                          64.222684                           77.060000   \n",
       "8                          55.548526                           79.030000   \n",
       "9                          64.747841                           79.910000   \n",
       "10                         56.683967                           71.290000   \n",
       "17                         56.138008                           89.850000   \n",
       "..                               ...                                 ...   \n",
       "165                        55.681558                           87.300000   \n",
       "167                        48.972003                           91.440000   \n",
       "168                        54.826940                          101.410000   \n",
       "169                        56.199038                           95.660000   \n",
       "170                        64.685684                          113.580000   \n",
       "\n",
       "     food_supply_kcalcapitaday          gdp  five_year_average  \\\n",
       "5                  2579.000000 18098.875957           0.000000   \n",
       "8                  2953.000000  7413.637732           0.062500   \n",
       "9                  2442.000000 15629.054576           0.000000   \n",
       "10                 2401.000000 10787.400403           0.008929   \n",
       "17                 2967.000000  7362.068966           0.031250   \n",
       "..                         ...          ...                ...   \n",
       "165                2707.000000 39087.235938           0.013822   \n",
       "167                3157.000000  9356.145765           0.034396   \n",
       "168                3342.000000 11534.175152           0.023857   \n",
       "169                3300.000000  8861.531858           0.021581   \n",
       "170                3777.000000 62981.386956           0.032931   \n",
       "\n",
       "     poultry_supply_per_cap  cluster  \n",
       "5                 76.923077        4  \n",
       "8                 69.444444        4  \n",
       "9                 62.500000        4  \n",
       "10                63.063063        4  \n",
       "17                81.818182        4  \n",
       "..                      ...      ...  \n",
       "165               19.221396        0  \n",
       "167               34.455706        4  \n",
       "168               31.475153        0  \n",
       "169               47.047534        0  \n",
       "170               57.001614        0  \n",
       "\n",
       "[74 rows x 9 columns]"
      ]
     },
     "execution_count": 60,
     "metadata": {},
     "output_type": "execute_result"
    }
   ],
   "source": [
    "potential_country=pd.merge(total_data,country_cluster,on='country')\n",
    "potential_country.to_csv('potential_country.csv')\n",
    "short_list_country=potential_country.loc[potential_country['cluster'].isin([0,4])]\n",
    "short_list_country\n"
   ]
  },
  {
   "cell_type": "markdown",
   "metadata": {},
   "source": [
    "* We are going to make short list of countries below\n",
    "- filter only country with positive population growth in recent year\n",
    "- filter only country with poultry supply is less than global average\n",
    "- filter only country where they have five year supply less than global average\n",
    "- filter only country with GRP more than mean"
   ]
  },
  {
   "cell_type": "code",
   "execution_count": 61,
   "metadata": {},
   "outputs": [
    {
     "data": {
      "text/html": [
       "<div>\n",
       "<style scoped>\n",
       "    .dataframe tbody tr th:only-of-type {\n",
       "        vertical-align: middle;\n",
       "    }\n",
       "\n",
       "    .dataframe tbody tr th {\n",
       "        vertical-align: top;\n",
       "    }\n",
       "\n",
       "    .dataframe thead th {\n",
       "        text-align: right;\n",
       "    }\n",
       "</style>\n",
       "<table border=\"1\" class=\"dataframe\">\n",
       "  <thead>\n",
       "    <tr style=\"text-align: right;\">\n",
       "      <th></th>\n",
       "      <th>country</th>\n",
       "      <th>population_difference</th>\n",
       "      <th>animal_protein_vs_total_protein</th>\n",
       "      <th>protein_supply_quantity_gcapitaday</th>\n",
       "      <th>food_supply_kcalcapitaday</th>\n",
       "      <th>gdp</th>\n",
       "      <th>five_year_average</th>\n",
       "      <th>poultry_supply_per_cap</th>\n",
       "      <th>cluster</th>\n",
       "    </tr>\n",
       "  </thead>\n",
       "  <tbody>\n",
       "    <tr>\n",
       "      <td>23</td>\n",
       "      <td>Luxembourg</td>\n",
       "      <td>2.027027</td>\n",
       "      <td>62.289935</td>\n",
       "      <td>108.300000</td>\n",
       "      <td>3470.000000</td>\n",
       "      <td>120137.955478</td>\n",
       "      <td>0.025000</td>\n",
       "      <td>18.211921</td>\n",
       "      <td>0</td>\n",
       "    </tr>\n",
       "    <tr>\n",
       "      <td>40</td>\n",
       "      <td>Estonia</td>\n",
       "      <td>0.303260</td>\n",
       "      <td>62.219475</td>\n",
       "      <td>105.160000</td>\n",
       "      <td>3247.000000</td>\n",
       "      <td>23528.804365</td>\n",
       "      <td>0.027803</td>\n",
       "      <td>21.919879</td>\n",
       "      <td>0</td>\n",
       "    </tr>\n",
       "    <tr>\n",
       "      <td>49</td>\n",
       "      <td>Uruguay</td>\n",
       "      <td>0.349142</td>\n",
       "      <td>53.531728</td>\n",
       "      <td>86.360000</td>\n",
       "      <td>3198.000000</td>\n",
       "      <td>17177.139135</td>\n",
       "      <td>-0.110281</td>\n",
       "      <td>9.857930</td>\n",
       "      <td>0</td>\n",
       "    </tr>\n",
       "    <tr>\n",
       "      <td>89</td>\n",
       "      <td>Norway</td>\n",
       "      <td>0.793051</td>\n",
       "      <td>59.957608</td>\n",
       "      <td>113.230000</td>\n",
       "      <td>3366.000000</td>\n",
       "      <td>81101.658048</td>\n",
       "      <td>0.011639</td>\n",
       "      <td>20.794305</td>\n",
       "      <td>0</td>\n",
       "    </tr>\n",
       "    <tr>\n",
       "      <td>93</td>\n",
       "      <td>Finland</td>\n",
       "      <td>0.217746</td>\n",
       "      <td>63.934565</td>\n",
       "      <td>117.980000</td>\n",
       "      <td>3340.000000</td>\n",
       "      <td>49955.341172</td>\n",
       "      <td>0.018269</td>\n",
       "      <td>20.822017</td>\n",
       "      <td>0</td>\n",
       "    </tr>\n",
       "    <tr>\n",
       "      <td>98</td>\n",
       "      <td>Switzerland</td>\n",
       "      <td>0.827815</td>\n",
       "      <td>62.801679</td>\n",
       "      <td>95.300000</td>\n",
       "      <td>3355.000000</td>\n",
       "      <td>82530.174862</td>\n",
       "      <td>0.003860</td>\n",
       "      <td>15.482055</td>\n",
       "      <td>0</td>\n",
       "    </tr>\n",
       "    <tr>\n",
       "      <td>105</td>\n",
       "      <td>Belgium</td>\n",
       "      <td>0.542907</td>\n",
       "      <td>58.763921</td>\n",
       "      <td>99.670000</td>\n",
       "      <td>3764.000000</td>\n",
       "      <td>47225.757205</td>\n",
       "      <td>0.013532</td>\n",
       "      <td>14.109040</td>\n",
       "      <td>0</td>\n",
       "    </tr>\n",
       "    <tr>\n",
       "      <td>106</td>\n",
       "      <td>Austria</td>\n",
       "      <td>0.804989</td>\n",
       "      <td>60.357634</td>\n",
       "      <td>109.050000</td>\n",
       "      <td>3694.000000</td>\n",
       "      <td>52047.260459</td>\n",
       "      <td>0.004482</td>\n",
       "      <td>19.795299</td>\n",
       "      <td>0</td>\n",
       "    </tr>\n",
       "    <tr>\n",
       "      <td>108</td>\n",
       "      <td>Sweden</td>\n",
       "      <td>0.676426</td>\n",
       "      <td>63.997346</td>\n",
       "      <td>105.520000</td>\n",
       "      <td>3182.000000</td>\n",
       "      <td>55704.968354</td>\n",
       "      <td>0.018070</td>\n",
       "      <td>18.953069</td>\n",
       "      <td>0</td>\n",
       "    </tr>\n",
       "    <tr>\n",
       "      <td>116</td>\n",
       "      <td>Netherlands</td>\n",
       "      <td>0.229129</td>\n",
       "      <td>65.567766</td>\n",
       "      <td>106.470000</td>\n",
       "      <td>3297.000000</td>\n",
       "      <td>53505.050866</td>\n",
       "      <td>-0.116643</td>\n",
       "      <td>13.716295</td>\n",
       "      <td>0</td>\n",
       "    </tr>\n",
       "    <tr>\n",
       "      <td>140</td>\n",
       "      <td>Republic of Korea</td>\n",
       "      <td>0.148740</td>\n",
       "      <td>51.652851</td>\n",
       "      <td>100.130000</td>\n",
       "      <td>3417.000000</td>\n",
       "      <td>33626.657541</td>\n",
       "      <td>0.014068</td>\n",
       "      <td>16.903776</td>\n",
       "      <td>0</td>\n",
       "    </tr>\n",
       "    <tr>\n",
       "      <td>156</td>\n",
       "      <td>Germany</td>\n",
       "      <td>0.563769</td>\n",
       "      <td>60.893961</td>\n",
       "      <td>105.150000</td>\n",
       "      <td>3554.000000</td>\n",
       "      <td>47993.473332</td>\n",
       "      <td>0.012731</td>\n",
       "      <td>20.042346</td>\n",
       "      <td>0</td>\n",
       "    </tr>\n",
       "  </tbody>\n",
       "</table>\n",
       "</div>"
      ],
      "text/plain": [
       "               country  population_difference  \\\n",
       "23          Luxembourg               2.027027   \n",
       "40             Estonia               0.303260   \n",
       "49             Uruguay               0.349142   \n",
       "89              Norway               0.793051   \n",
       "93             Finland               0.217746   \n",
       "98         Switzerland               0.827815   \n",
       "105            Belgium               0.542907   \n",
       "106            Austria               0.804989   \n",
       "108             Sweden               0.676426   \n",
       "116        Netherlands               0.229129   \n",
       "140  Republic of Korea               0.148740   \n",
       "156            Germany               0.563769   \n",
       "\n",
       "     animal_protein_vs_total_protein  protein_supply_quantity_gcapitaday  \\\n",
       "23                         62.289935                          108.300000   \n",
       "40                         62.219475                          105.160000   \n",
       "49                         53.531728                           86.360000   \n",
       "89                         59.957608                          113.230000   \n",
       "93                         63.934565                          117.980000   \n",
       "98                         62.801679                           95.300000   \n",
       "105                        58.763921                           99.670000   \n",
       "106                        60.357634                          109.050000   \n",
       "108                        63.997346                          105.520000   \n",
       "116                        65.567766                          106.470000   \n",
       "140                        51.652851                          100.130000   \n",
       "156                        60.893961                          105.150000   \n",
       "\n",
       "     food_supply_kcalcapitaday           gdp  five_year_average  \\\n",
       "23                 3470.000000 120137.955478           0.025000   \n",
       "40                 3247.000000  23528.804365           0.027803   \n",
       "49                 3198.000000  17177.139135          -0.110281   \n",
       "89                 3366.000000  81101.658048           0.011639   \n",
       "93                 3340.000000  49955.341172           0.018269   \n",
       "98                 3355.000000  82530.174862           0.003860   \n",
       "105                3764.000000  47225.757205           0.013532   \n",
       "106                3694.000000  52047.260459           0.004482   \n",
       "108                3182.000000  55704.968354           0.018070   \n",
       "116                3297.000000  53505.050866          -0.116643   \n",
       "140                3417.000000  33626.657541           0.014068   \n",
       "156                3554.000000  47993.473332           0.012731   \n",
       "\n",
       "     poultry_supply_per_cap  cluster  \n",
       "23                18.211921        0  \n",
       "40                21.919879        0  \n",
       "49                 9.857930        0  \n",
       "89                20.794305        0  \n",
       "93                20.822017        0  \n",
       "98                15.482055        0  \n",
       "105               14.109040        0  \n",
       "106               19.795299        0  \n",
       "108               18.953069        0  \n",
       "116               13.716295        0  \n",
       "140               16.903776        0  \n",
       "156               20.042346        0  "
      ]
     },
     "execution_count": 61,
     "metadata": {},
     "output_type": "execute_result"
    }
   ],
   "source": [
    "short_list_country=short_list_country.loc[(short_list_country['population_difference'] >0)                       \n",
    "        & (short_list_country['poultry_supply_per_cap']  <= poultry_data['poultry_supply_per_cap'].mean())\n",
    "        & (short_list_country['five_year_average']  <= poultry_supply_trend[\"five_year_average\"].mean())\n",
    "        & (short_list_country['gdp']  >= gdp_per_country[\"gdp\"].mean())]\n",
    "short_list_country\n"
   ]
  },
  {
   "cell_type": "code",
   "execution_count": 62,
   "metadata": {},
   "outputs": [],
   "source": [
    "short_list_country.to_csv('short_list_country.csv')"
   ]
  },
  {
   "cell_type": "markdown",
   "metadata": {},
   "source": [
    "## 3.3 Perform PCA"
   ]
  },
  {
   "cell_type": "raw",
   "metadata": {},
   "source": [
    "Bring scaled data that was previously used in chapter 3.1"
   ]
  },
  {
   "cell_type": "code",
   "execution_count": 63,
   "metadata": {},
   "outputs": [
    {
     "data": {
      "text/plain": [
       "array([[ 0.61960089, -0.78065082, -1.31621295, ..., -0.62260072,\n",
       "        -0.44612718, -0.67719892],\n",
       "       [ 0.45878085,  0.38526051, -0.39747687, ..., -0.64096458,\n",
       "        -0.44612718, -0.26557756],\n",
       "       [ 1.28878135, -0.87627927, -1.38132023, ..., -0.61916101,\n",
       "        -0.44612718, -0.93620154],\n",
       "       ...,\n",
       "       [-0.41561287,  0.83655336,  0.66980027, ..., -0.2865367 ,\n",
       "        -0.11951994,  1.3149086 ],\n",
       "       [-0.56748469,  1.36960089,  1.53403914, ...,  2.3521207 ,\n",
       "         0.05225337,  1.84272862],\n",
       "       [-0.70512082, -0.2218115 ,  0.91479656, ..., -0.24971512,\n",
       "        -0.24053851, -0.46601807]])"
      ]
     },
     "execution_count": 63,
     "metadata": {},
     "output_type": "execute_result"
    }
   ],
   "source": [
    "X_scaled"
   ]
  },
  {
   "cell_type": "markdown",
   "metadata": {},
   "source": [
    "Plot data before sclaing"
   ]
  },
  {
   "cell_type": "code",
   "execution_count": 64,
   "metadata": {},
   "outputs": [
    {
     "data": {
      "text/plain": [
       "<matplotlib.axes._subplots.AxesSubplot at 0x222d7c20788>"
      ]
     },
     "execution_count": 64,
     "metadata": {},
     "output_type": "execute_result"
    },
    {
     "data": {
      "image/png": "[encoded data removed]",
      "text/plain": [
       "<Figure size 864x360 with 1 Axes>"
      ]
     },
     "metadata": {
      "needs_background": "light"
     },
     "output_type": "display_data"
    }
   ],
   "source": [
    "pd.DataFrame(X_scaled,columns=X.columns).plot(kind='density',sharex=True,figsize=(12,5),layout=(10,1))"
   ]
  },
  {
   "cell_type": "markdown",
   "metadata": {},
   "source": [
    "Perform a PCA on our standardised data:"
   ]
  },
  {
   "cell_type": "code",
   "execution_count": 65,
   "metadata": {},
   "outputs": [
    {
     "data": {
      "text/plain": [
       "PCA(copy=True, iterated_power='auto', n_components=7, random_state=None,\n",
       "    svd_solver='auto', tol=0.0, whiten=False)"
      ]
     },
     "execution_count": 65,
     "metadata": {},
     "output_type": "execute_result"
    }
   ],
   "source": [
    "# Import the PCA function from sklearn\n",
    "from sklearn.decomposition import PCA\n",
    "\n",
    "# Select the number of principal components we will return\n",
    "num_components = 7\n",
    "\n",
    "# Create the PCA model\n",
    "pca = PCA(n_components=num_components)\n",
    "\n",
    "# Fit the model with the standardised data\n",
    "pca.fit(X_scaled)\n"
   ]
  },
  {
   "cell_type": "markdown",
   "metadata": {},
   "source": [
    "Analyze result"
   ]
  },
  {
   "cell_type": "markdown",
   "metadata": {},
   "source": [
    "Array of the variance of the data explained by each of the 10 principal components, starting with PC1, the principal component that explains most of the variance."
   ]
  },
  {
   "cell_type": "code",
   "execution_count": 66,
   "metadata": {},
   "outputs": [
    {
     "data": {
      "text/plain": [
       "array([0.5426636 , 0.14419034, 0.12070736, 0.09192886, 0.05911337,\n",
       "       0.02806805, 0.01332842])"
      ]
     },
     "execution_count": 66,
     "metadata": {},
     "output_type": "execute_result"
    }
   ],
   "source": [
    "pca.explained_variance_ratio_"
   ]
  },
  {
   "cell_type": "markdown",
   "metadata": {},
   "source": [
    "Express the explained variance ratio as a cumulative sum:"
   ]
  },
  {
   "cell_type": "code",
   "execution_count": 67,
   "metadata": {},
   "outputs": [
    {
     "data": {
      "text/plain": [
       "array([0.5426636 , 0.68685394, 0.8075613 , 0.89949016, 0.95860354,\n",
       "       0.98667158, 1.        ])"
      ]
     },
     "execution_count": 67,
     "metadata": {},
     "output_type": "execute_result"
    }
   ],
   "source": [
    "\n",
    "pca.explained_variance_ratio_.cumsum()"
   ]
  },
  {
   "cell_type": "markdown",
   "metadata": {},
   "source": [
    "Screeplot"
   ]
  },
  {
   "cell_type": "code",
   "execution_count": 68,
   "metadata": {},
   "outputs": [
    {
     "data": {
      "image/png": "[encoded data removed]",
      "text/plain": [
       "<Figure size 432x288 with 1 Axes>"
      ]
     },
     "metadata": {
      "needs_background": "light"
     },
     "output_type": "display_data"
    }
   ],
   "source": [
    "display_scree_plot(pca)"
   ]
  },
  {
   "cell_type": "code",
   "execution_count": 69,
   "metadata": {},
   "outputs": [],
   "source": [
    "\n",
    "pc1 = pca.components_[0]\n",
    "pc2 = pca.components_[1]\n",
    "pc3 = pca.components_[2]\n",
    "# etc"
   ]
  },
  {
   "cell_type": "code",
   "execution_count": 70,
   "metadata": {},
   "outputs": [
    {
     "data": {
      "text/plain": [
       "Index(['population_difference', 'animal_protein_vs_total_protein',\n",
       "       'protein_supply_quantity_gcapitaday', 'food_supply_kcalcapitaday',\n",
       "       'gdp', 'five_year_average', 'poultry_supply_per_cap'],\n",
       "      dtype='object')"
      ]
     },
     "execution_count": 70,
     "metadata": {},
     "output_type": "execute_result"
    }
   ],
   "source": [
    "X.columns"
   ]
  },
  {
   "cell_type": "code",
   "execution_count": 71,
   "metadata": {},
   "outputs": [
    {
     "data": {
      "text/plain": [
       "array([-0.34812328,  0.4533004 ,  0.46273663,  0.44073395,  0.38326453,\n",
       "       -0.12108552,  0.32156479])"
      ]
     },
     "execution_count": 71,
     "metadata": {},
     "output_type": "execute_result"
    }
   ],
   "source": [
    "pc1"
   ]
  },
  {
   "cell_type": "code",
   "execution_count": 72,
   "metadata": {},
   "outputs": [
    {
     "data": {
      "text/plain": [
       "array([0.29904542, 0.02362032, 0.13287234, 0.11747521, 0.17026755,\n",
       "       0.91815161, 0.08102476])"
      ]
     },
     "execution_count": 72,
     "metadata": {},
     "output_type": "execute_result"
    }
   ],
   "source": [
    "pc2 = pca.components_[1]\n",
    "pc2"
   ]
  },
  {
   "cell_type": "markdown",
   "metadata": {},
   "source": [
    "Correlation Circle"
   ]
  },
  {
   "cell_type": "code",
   "execution_count": 73,
   "metadata": {},
   "outputs": [
    {
     "data": {
      "image/png": "[encoded data removed]",
      "text/plain": [
       "<Figure size 720x720 with 1 Axes>"
      ]
     },
     "metadata": {
      "needs_background": "light"
     },
     "output_type": "display_data"
    }
   ],
   "source": [
    "\n",
    "# Generate a correlation circle\n",
    "pcs = pca.components_ \n",
    "display_circles(pcs, num_components, pca, [(0,1)], labels = np.array(X.columns),)"
   ]
  },
  {
   "cell_type": "code",
   "execution_count": 74,
   "metadata": {},
   "outputs": [
    {
     "data": {
      "image/png": "[encoded data removed]",
      "text/plain": [
       "<Figure size 720x720 with 1 Axes>"
      ]
     },
     "metadata": {
      "needs_background": "light"
     },
     "output_type": "display_data"
    }
   ],
   "source": [
    "\n",
    "# Generate a correlation circle\n",
    "pcs = pca.components_ \n",
    "display_circles(pcs, num_components, pca, [(1,2)], labels = np.array(X.columns),)"
   ]
  },
  {
   "cell_type": "raw",
   "metadata": {},
   "source": [
    "New Factorial Plane Repesentation"
   ]
  },
  {
   "cell_type": "code",
   "execution_count": 75,
   "metadata": {},
   "outputs": [
    {
     "data": {
      "image/png": "[encoded data removed]",
      "text/plain": [
       "<Figure size 504x432 with 1 Axes>"
      ]
     },
     "metadata": {
      "needs_background": "light"
     },
     "output_type": "display_data"
    }
   ],
   "source": [
    "\n",
    "# Transform the original scaled data to the new vector space\n",
    "X_projected = pca.transform(X_scaled) \n",
    "\n",
    "# Display a scatter plot of the data points in this new vector space\n",
    "display_factorial_planes(X_projected, num_components, pca, [(0,1)])\n",
    "plt.show()\n",
    "\n",
    "\n"
   ]
  },
  {
   "cell_type": "code",
   "execution_count": 76,
   "metadata": {},
   "outputs": [
    {
     "data": {
      "image/png": "[encoded data removed]",
      "text/plain": [
       "<Figure size 504x432 with 1 Axes>"
      ]
     },
     "metadata": {
      "needs_background": "light"
     },
     "output_type": "display_data"
    }
   ],
   "source": [
    "\n",
    "\n",
    "display_factorial_planes(X_projected, 7, pca, [(0,1)], \n",
    "                         illustrative_var = X_scaled_clustered[\"cluster\"], alpha = 0.99)\n",
    "\n",
    "\n"
   ]
  },
  {
   "cell_type": "markdown",
   "metadata": {},
   "source": [
    "## 3.4 K-Means Clustering"
   ]
  },
  {
   "cell_type": "markdown",
   "metadata": {},
   "source": [
    "Selecting the number of clusters"
   ]
  },
  {
   "cell_type": "code",
   "execution_count": 77,
   "metadata": {},
   "outputs": [],
   "source": [
    "\n",
    "# Import standard libraries\n",
    "import pandas as pd\n",
    "import numpy as np\n",
    "\n",
    "# Import the kmeans algorithm\n",
    "from sklearn.cluster import KMeans\n",
    "\n",
    "# Import functions created for this course\n",
    "from functions import *"
   ]
  },
  {
   "cell_type": "markdown",
   "metadata": {},
   "source": [
    "Perform Kmeans clustering"
   ]
  },
  {
   "cell_type": "code",
   "execution_count": 78,
   "metadata": {},
   "outputs": [],
   "source": [
    "\n",
    "# Create a k-means clustering model\n",
    "kmeans = KMeans(init='random', n_clusters=3, n_init=10)\n",
    "\n",
    "# Fit the data to the model\n",
    "kmeans.fit(X_scaled)\n",
    "\n",
    "# Determine which clusters each data point belongs to:\n",
    "clusters =  kmeans.predict(X_scaled)"
   ]
  },
  {
   "cell_type": "markdown",
   "metadata": {},
   "source": [
    "\n",
    "Put the cluster number on as a new column on the original data:"
   ]
  },
  {
   "cell_type": "code",
   "execution_count": 79,
   "metadata": {},
   "outputs": [
    {
     "data": {
      "text/html": [
       "<div>\n",
       "<style scoped>\n",
       "    .dataframe tbody tr th:only-of-type {\n",
       "        vertical-align: middle;\n",
       "    }\n",
       "\n",
       "    .dataframe tbody tr th {\n",
       "        vertical-align: top;\n",
       "    }\n",
       "\n",
       "    .dataframe thead th {\n",
       "        text-align: right;\n",
       "    }\n",
       "</style>\n",
       "<table border=\"1\" class=\"dataframe\">\n",
       "  <thead>\n",
       "    <tr style=\"text-align: right;\">\n",
       "      <th></th>\n",
       "      <th>population_difference</th>\n",
       "      <th>animal_protein_vs_total_protein</th>\n",
       "      <th>protein_supply_quantity_gcapitaday</th>\n",
       "      <th>food_supply_kcalcapitaday</th>\n",
       "      <th>gdp</th>\n",
       "      <th>five_year_average</th>\n",
       "      <th>poultry_supply_per_cap</th>\n",
       "      <th>cluster</th>\n",
       "    </tr>\n",
       "    <tr>\n",
       "      <th>country</th>\n",
       "      <th></th>\n",
       "      <th></th>\n",
       "      <th></th>\n",
       "      <th></th>\n",
       "      <th></th>\n",
       "      <th></th>\n",
       "      <th></th>\n",
       "      <th></th>\n",
       "    </tr>\n",
       "  </thead>\n",
       "  <tbody>\n",
       "    <tr>\n",
       "      <td>Sao Tome and Principe</td>\n",
       "      <td>0.619601</td>\n",
       "      <td>-0.780651</td>\n",
       "      <td>-1.316213</td>\n",
       "      <td>-0.920060</td>\n",
       "      <td>-0.622601</td>\n",
       "      <td>-0.446127</td>\n",
       "      <td>-0.677199</td>\n",
       "      <td>2</td>\n",
       "    </tr>\n",
       "    <tr>\n",
       "      <td>Kiribati</td>\n",
       "      <td>0.458781</td>\n",
       "      <td>0.385261</td>\n",
       "      <td>-0.397477</td>\n",
       "      <td>0.461685</td>\n",
       "      <td>-0.640965</td>\n",
       "      <td>-0.446127</td>\n",
       "      <td>-0.265578</td>\n",
       "      <td>1</td>\n",
       "    </tr>\n",
       "    <tr>\n",
       "      <td>Solomon Islands</td>\n",
       "      <td>1.288781</td>\n",
       "      <td>-0.876279</td>\n",
       "      <td>-1.381320</td>\n",
       "      <td>-0.996702</td>\n",
       "      <td>-0.619161</td>\n",
       "      <td>-0.446127</td>\n",
       "      <td>-0.936202</td>\n",
       "      <td>2</td>\n",
       "    </tr>\n",
       "    <tr>\n",
       "      <td>Djibouti</td>\n",
       "      <td>0.309326</td>\n",
       "      <td>-1.349097</td>\n",
       "      <td>-0.784262</td>\n",
       "      <td>-0.376997</td>\n",
       "      <td>-0.571862</td>\n",
       "      <td>1.445651</td>\n",
       "      <td>-1.013933</td>\n",
       "      <td>2</td>\n",
       "    </tr>\n",
       "    <tr>\n",
       "      <td>Guinea-Bissau</td>\n",
       "      <td>1.147331</td>\n",
       "      <td>-1.355169</td>\n",
       "      <td>-1.858774</td>\n",
       "      <td>-1.397430</td>\n",
       "      <td>-0.681295</td>\n",
       "      <td>-0.446127</td>\n",
       "      <td>-1.066629</td>\n",
       "      <td>2</td>\n",
       "    </tr>\n",
       "  </tbody>\n",
       "</table>\n",
       "</div>"
      ],
      "text/plain": [
       "                       population_difference  animal_protein_vs_total_protein  \\\n",
       "country                                                                         \n",
       "Sao Tome and Principe               0.619601                        -0.780651   \n",
       "Kiribati                            0.458781                         0.385261   \n",
       "Solomon Islands                     1.288781                        -0.876279   \n",
       "Djibouti                            0.309326                        -1.349097   \n",
       "Guinea-Bissau                       1.147331                        -1.355169   \n",
       "\n",
       "                       protein_supply_quantity_gcapitaday  \\\n",
       "country                                                     \n",
       "Sao Tome and Principe                           -1.316213   \n",
       "Kiribati                                        -0.397477   \n",
       "Solomon Islands                                 -1.381320   \n",
       "Djibouti                                        -0.784262   \n",
       "Guinea-Bissau                                   -1.858774   \n",
       "\n",
       "                       food_supply_kcalcapitaday       gdp  five_year_average  \\\n",
       "country                                                                         \n",
       "Sao Tome and Principe                  -0.920060 -0.622601          -0.446127   \n",
       "Kiribati                                0.461685 -0.640965          -0.446127   \n",
       "Solomon Islands                        -0.996702 -0.619161          -0.446127   \n",
       "Djibouti                               -0.376997 -0.571862           1.445651   \n",
       "Guinea-Bissau                          -1.397430 -0.681295          -0.446127   \n",
       "\n",
       "                       poultry_supply_per_cap  cluster  \n",
       "country                                                 \n",
       "Sao Tome and Principe               -0.677199        2  \n",
       "Kiribati                            -0.265578        1  \n",
       "Solomon Islands                     -0.936202        2  \n",
       "Djibouti                            -1.013933        2  \n",
       "Guinea-Bissau                       -1.066629        2  "
      ]
     },
     "execution_count": 79,
     "metadata": {},
     "output_type": "execute_result"
    }
   ],
   "source": [
    "\n",
    "# Add cluster number to the original data\n",
    "X_scaled_clustered = pd.DataFrame(X_scaled, columns=X.columns, index=X.index)\n",
    "X_scaled_clustered['cluster'] = clusters\n",
    "\n",
    "X_scaled_clustered.head()"
   ]
  },
  {
   "cell_type": "code",
   "execution_count": 81,
   "metadata": {},
   "outputs": [],
   "source": [
    "#X_scaled_clustered.to_csv('centroid.csv')"
   ]
  },
  {
   "cell_type": "markdown",
   "metadata": {},
   "source": [
    "Select number of clusters"
   ]
  },
  {
   "cell_type": "code",
   "execution_count": 82,
   "metadata": {},
   "outputs": [
    {
     "data": {
      "image/png": "[encoded data removed]",
      "text/plain": [
       "<Figure size 432x288 with 1 Axes>"
      ]
     },
     "metadata": {
      "needs_background": "light"
     },
     "output_type": "display_data"
    }
   ],
   "source": [
    "# Run a number of tests, for 1, 2, ... num_clusters\n",
    "num_clusters = 8\n",
    "kmeans_tests = [KMeans(n_clusters=i, init='random', n_init=10) for i in range(1, num_clusters)]\n",
    "score = [kmeans_tests[i].fit(X_scaled).score(X_scaled) for i in range(len(kmeans_tests))]\n",
    "\n",
    "# Plot the curve\n",
    "plt.plot(range(1, num_clusters),score)\n",
    "plt.xlabel('Number of Clusters')\n",
    "plt.ylabel('Score')\n",
    "plt.title('Elbow Curve')\n",
    "plt.show()"
   ]
  },
  {
   "cell_type": "code",
   "execution_count": 83,
   "metadata": {},
   "outputs": [],
   "source": [
    "from sklearn.decomposition import PCA\n",
    "\n",
    "# Create a PCA model to reduce our data to 2 dimensions for visualisation\n",
    "pca = PCA(n_components=2)\n",
    "pca.fit(X_scaled)\n",
    "\n",
    "# Transfor the scaled data to the new PCA space\n",
    "X_reduced = pca.transform(X_scaled)"
   ]
  },
  {
   "cell_type": "code",
   "execution_count": 84,
   "metadata": {},
   "outputs": [
    {
     "data": {
      "text/html": [
       "<div>\n",
       "<style scoped>\n",
       "    .dataframe tbody tr th:only-of-type {\n",
       "        vertical-align: middle;\n",
       "    }\n",
       "\n",
       "    .dataframe tbody tr th {\n",
       "        vertical-align: top;\n",
       "    }\n",
       "\n",
       "    .dataframe thead th {\n",
       "        text-align: right;\n",
       "    }\n",
       "</style>\n",
       "<table border=\"1\" class=\"dataframe\">\n",
       "  <thead>\n",
       "    <tr style=\"text-align: right;\">\n",
       "      <th></th>\n",
       "      <th>PC1</th>\n",
       "      <th>PC2</th>\n",
       "      <th>cluster</th>\n",
       "    </tr>\n",
       "    <tr>\n",
       "      <th>country</th>\n",
       "      <th></th>\n",
       "      <th></th>\n",
       "      <th></th>\n",
       "    </tr>\n",
       "  </thead>\n",
       "  <tbody>\n",
       "    <tr>\n",
       "      <td>Sao Tome and Principe</td>\n",
       "      <td>-1.986493</td>\n",
       "      <td>-0.686614</td>\n",
       "      <td>2</td>\n",
       "    </tr>\n",
       "    <tr>\n",
       "      <td>Kiribati</td>\n",
       "      <td>-0.242560</td>\n",
       "      <td>-0.392547</td>\n",
       "      <td>1</td>\n",
       "    </tr>\n",
       "    <tr>\n",
       "      <td>Solomon Islands</td>\n",
       "      <td>-2.408673</td>\n",
       "      <td>-0.526812</td>\n",
       "      <td>2</td>\n",
       "    </tr>\n",
       "    <tr>\n",
       "      <td>Djibouti</td>\n",
       "      <td>-1.968559</td>\n",
       "      <td>1.059946</td>\n",
       "      <td>2</td>\n",
       "    </tr>\n",
       "    <tr>\n",
       "      <td>Guinea-Bissau</td>\n",
       "      <td>-3.039815</td>\n",
       "      <td>-0.712086</td>\n",
       "      <td>2</td>\n",
       "    </tr>\n",
       "  </tbody>\n",
       "</table>\n",
       "</div>"
      ],
      "text/plain": [
       "                            PC1       PC2  cluster\n",
       "country                                           \n",
       "Sao Tome and Principe -1.986493 -0.686614        2\n",
       "Kiribati              -0.242560 -0.392547        1\n",
       "Solomon Islands       -2.408673 -0.526812        2\n",
       "Djibouti              -1.968559  1.059946        2\n",
       "Guinea-Bissau         -3.039815 -0.712086        2"
      ]
     },
     "execution_count": 84,
     "metadata": {},
     "output_type": "execute_result"
    }
   ],
   "source": [
    "# Convert to a data frame\n",
    "X_reduceddf = pd.DataFrame(X_reduced, index=X.index, columns=['PC1','PC2'])\n",
    "X_reduceddf['cluster'] = clusters\n",
    "X_reduceddf.head()"
   ]
  },
  {
   "cell_type": "code",
   "execution_count": 85,
   "metadata": {},
   "outputs": [
    {
     "name": "stdout",
     "output_type": "stream",
     "text": [
      "KMeans Scaled Silhouette Score: 0.45772630360328614\n"
     ]
    }
   ],
   "source": [
    "from sklearn.metrics import silhouette_score\n",
    "\n",
    "\n",
    "\n",
    "\n",
    "print('KMeans Scaled Silhouette Score: {}'.format(silhouette_score(X_reduceddf, kmeans.labels_, metric='euclidean')))"
   ]
  },
  {
   "cell_type": "code",
   "execution_count": 86,
   "metadata": {},
   "outputs": [],
   "source": [
    "centres_reduced = pca.transform(kmeans.cluster_centers_)"
   ]
  },
  {
   "cell_type": "code",
   "execution_count": 87,
   "metadata": {},
   "outputs": [
    {
     "data": {
      "text/plain": [
       "<matplotlib.collections.PathCollection at 0x222d15c5a08>"
      ]
     },
     "execution_count": 87,
     "metadata": {},
     "output_type": "execute_result"
    },
    {
     "data": {
      "image/png": "[encoded data removed]",
      "text/plain": [
       "<Figure size 504x432 with 1 Axes>"
      ]
     },
     "metadata": {
      "needs_background": "light"
     },
     "output_type": "display_data"
    }
   ],
   "source": [
    "display_factorial_planes(X_reduced, 2, pca, [(0,1)], illustrative_var = clusters, alpha = 0.8)\n",
    "plt.scatter(centres_reduced[:, 0], centres_reduced[:, 1],\n",
    "            marker='x', s=169, linewidths=3,\n",
    "            color='k', zorder=10)"
   ]
  },
  {
   "cell_type": "markdown",
   "metadata": {},
   "source": [
    "# 4. Statistical Tests"
   ]
  },
  {
   "cell_type": "markdown",
   "metadata": {},
   "source": [
    "## 4.1 Adequecy Test-find data fitting normal distribution among 7 variables found above"
   ]
  },
  {
   "cell_type": "markdown",
   "metadata": {},
   "source": [
    "* Use Kolmogorov-Smirnov test for goodness of fit. The Kolmogorov-Smirnov tests the null hypothesis that two distributions are identical."
   ]
  },
  {
   "cell_type": "code",
   "execution_count": 88,
   "metadata": {},
   "outputs": [
    {
     "name": "stdout",
     "output_type": "stream",
     "text": [
      "<class 'pandas.core.frame.DataFrame'>\n",
      "Index: 172 entries, Sao Tome and Principe to China, mainland\n",
      "Data columns (total 7 columns):\n",
      "population_difference                 172 non-null float64\n",
      "animal_protein_vs_total_protein       172 non-null float64\n",
      "protein_supply_quantity_gcapitaday    172 non-null float64\n",
      "food_supply_kcalcapitaday             172 non-null float64\n",
      "gdp                                   172 non-null float64\n",
      "five_year_average                     172 non-null float64\n",
      "poultry_supply_per_cap                172 non-null float64\n",
      "dtypes: float64(7)\n",
      "memory usage: 10.8+ KB\n"
     ]
    }
   ],
   "source": [
    "X.info()"
   ]
  },
  {
   "cell_type": "markdown",
   "metadata": {},
   "source": [
    "Run test on population difference variable"
   ]
  },
  {
   "cell_type": "code",
   "execution_count": 89,
   "metadata": {},
   "outputs": [
    {
     "data": {
      "image/png": "[encoded data removed]",
      "text/plain": [
       "<Figure size 432x288 with 1 Axes>"
      ]
     },
     "metadata": {
      "needs_background": "light"
     },
     "output_type": "display_data"
    },
    {
     "data": {
      "text/plain": [
       "KstestResult(statistic=0.046307411222500705, pvalue=0.8544497116257054)"
      ]
     },
     "execution_count": 89,
     "metadata": {},
     "output_type": "execute_result"
    }
   ],
   "source": [
    "import numpy as np\n",
    "from scipy.stats import norm, kstest\n",
    "import matplotlib.pyplot as plt\n",
    "\n",
    "#perform Kolmogorov-Smirnov test\n",
    "data_population_difference = X.population_difference\n",
    "loc, scale = norm.fit(data_population_difference)\n",
    "# create a normal distribution with loc and scale\n",
    "n = norm(loc=loc, scale=scale)\n",
    "plt.hist(data_population_difference, bins=np.arange(data_population_difference.min(), data_population_difference.max()+0.2, 0.2), rwidth=0.5)\n",
    "x = np.arange(data_population_difference.min(), data_population_difference.max()+0.2, 0.2)\n",
    "plt.plot(x, 350*n.pdf(x))\n",
    "plt.show()\n",
    "kstest(data_population_difference, n.cdf)"
   ]
  },
  {
   "cell_type": "code",
   "execution_count": 90,
   "metadata": {},
   "outputs": [],
   "source": [
    "# Since the p-value is more than .05, we accept the null hypothesis.\n",
    "# data fits normal distribution"
   ]
  },
  {
   "cell_type": "markdown",
   "metadata": {},
   "source": [
    "Rune test on animal protein portion variable"
   ]
  },
  {
   "cell_type": "code",
   "execution_count": 91,
   "metadata": {},
   "outputs": [
    {
     "data": {
      "image/png": "[encoded data removed]",
      "text/plain": [
       "<Figure size 432x288 with 1 Axes>"
      ]
     },
     "metadata": {
      "needs_background": "light"
     },
     "output_type": "display_data"
    },
    {
     "data": {
      "text/plain": [
       "KstestResult(statistic=0.09564995309042579, pvalue=0.08043313394984095)"
      ]
     },
     "execution_count": 91,
     "metadata": {},
     "output_type": "execute_result"
    }
   ],
   "source": [
    "data_protein = X.animal_protein_vs_total_protein\n",
    "loc, scale = norm.fit(data_protein)\n",
    "# create a normal distribution with loc and scale\n",
    "n = norm(loc=loc, scale=scale)\n",
    "plt.hist(data_protein, bins=np.arange(data_protein.min(), data_protein.max()+0.2, 0.2), rwidth=0.5)\n",
    "x = np.arange(data_protein.min(), data_protein.max()+0.2, 0.2)\n",
    "plt.plot(x, 350*n.pdf(x))\n",
    "plt.show()\n",
    "kstest(data_protein, n.cdf)"
   ]
  },
  {
   "cell_type": "code",
   "execution_count": 92,
   "metadata": {},
   "outputs": [],
   "source": [
    "# Since the p-value is more than .05, we accept the null hypothesis.\n",
    "# data fits normal distribution"
   ]
  },
  {
   "cell_type": "markdown",
   "metadata": {},
   "source": [
    "Reun test on protein supply quantity per capita variable"
   ]
  },
  {
   "cell_type": "code",
   "execution_count": 93,
   "metadata": {},
   "outputs": [
    {
     "data": {
      "image/png": "[encoded data removed]",
      "text/plain": [
       "<Figure size 432x288 with 1 Axes>"
      ]
     },
     "metadata": {
      "needs_background": "light"
     },
     "output_type": "display_data"
    },
    {
     "data": {
      "text/plain": [
       "KstestResult(statistic=0.08267072420842447, pvalue=0.18021004014548658)"
      ]
     },
     "execution_count": 93,
     "metadata": {},
     "output_type": "execute_result"
    }
   ],
   "source": [
    "data_protein_supply= X.protein_supply_quantity_gcapitaday\n",
    "loc, scale = norm.fit(data_protein_supply)\n",
    "# create a normal distribution with loc and scale\n",
    "n = norm(loc=loc, scale=scale)\n",
    "plt.hist(data_protein_supply, bins=np.arange(data_protein_supply.min(), data_protein_supply.max()+0.2, 0.2), rwidth=0.5)\n",
    "x = np.arange(data_protein_supply.min(), data_protein_supply.max()+0.2, 0.2)\n",
    "plt.plot(x, 350*n.pdf(x))\n",
    "plt.show()\n",
    "kstest(data_protein_supply, n.cdf)"
   ]
  },
  {
   "cell_type": "code",
   "execution_count": 94,
   "metadata": {},
   "outputs": [],
   "source": [
    "# Since the p-value is more than .05, we accept the null hypothesis.\n",
    "# data fits normal distribution"
   ]
  },
  {
   "cell_type": "markdown",
   "metadata": {},
   "source": [
    "Run test on food supply in terms of kcal variable"
   ]
  },
  {
   "cell_type": "code",
   "execution_count": 95,
   "metadata": {},
   "outputs": [
    {
     "data": {
      "image/png": "[encoded data removed]",
      "text/plain": [
       "<Figure size 432x288 with 1 Axes>"
      ]
     },
     "metadata": {
      "needs_background": "light"
     },
     "output_type": "display_data"
    },
    {
     "data": {
      "text/plain": [
       "KstestResult(statistic=0.07680492370666236, pvalue=0.24972162199518655)"
      ]
     },
     "execution_count": 95,
     "metadata": {},
     "output_type": "execute_result"
    }
   ],
   "source": [
    "data_food_supply= X.food_supply_kcalcapitaday\n",
    "loc, scale = norm.fit(data_food_supply)\n",
    "# create a normal distribution with loc and scale\n",
    "n = norm(loc=loc, scale=scale)\n",
    "plt.hist(data_food_supply, bins=np.arange(data_food_supply.min(), data_food_supply.max()+0.2, 0.2), rwidth=0.5)\n",
    "x = np.arange(data_food_supply.min(), data_food_supply.max()+0.2, 0.2)\n",
    "plt.plot(x, 350*n.pdf(x))\n",
    "plt.show()\n",
    "kstest(data_food_supply, n.cdf)"
   ]
  },
  {
   "cell_type": "code",
   "execution_count": 96,
   "metadata": {},
   "outputs": [],
   "source": [
    "# Since the p-value is more than .05, we accept the null hypothesis.\n",
    "# data fits normal distribution"
   ]
  },
  {
   "cell_type": "markdown",
   "metadata": {},
   "source": [
    "Run test on five year average of poultry supply variable"
   ]
  },
  {
   "cell_type": "code",
   "execution_count": 97,
   "metadata": {},
   "outputs": [
    {
     "data": {
      "image/png": "[encoded data removed]",
      "text/plain": [
       "<Figure size 432x288 with 1 Axes>"
      ]
     },
     "metadata": {
      "needs_background": "light"
     },
     "output_type": "display_data"
    },
    {
     "data": {
      "text/plain": [
       "KstestResult(statistic=1.0, pvalue=0.0)"
      ]
     },
     "execution_count": 97,
     "metadata": {},
     "output_type": "execute_result"
    }
   ],
   "source": [
    "data_poultry_consumption_trend= X.five_year_average\n",
    "loc, scale = norm.fit(data_poultry_consumption_trend)\n",
    "# create a normal distribution with loc and scale\n",
    "n = norm(loc=loc, scale=scale)\n",
    "plt.hist(data_food_supply, bins=np.arange(data_food_supply.min(), data_food_supply.max()+0.2, 0.2), rwidth=0.5)\n",
    "x = np.arange(data_food_supply.min(), data_food_supply.max()+0.2, 0.2)\n",
    "plt.plot(x, 350*n.pdf(x))\n",
    "plt.show()\n",
    "kstest(data_food_supply, n.cdf)"
   ]
  },
  {
   "cell_type": "code",
   "execution_count": 98,
   "metadata": {},
   "outputs": [],
   "source": [
    "# Since the p-value is less than .05, we accept the null hypothesis.\n",
    "# data does not normal distribution"
   ]
  },
  {
   "cell_type": "markdown",
   "metadata": {},
   "source": [
    "Run test on GDP variable"
   ]
  },
  {
   "cell_type": "code",
   "execution_count": 99,
   "metadata": {},
   "outputs": [
    {
     "data": {
      "image/png": "[encoded data removed]",
      "text/plain": [
       "<Figure size 432x288 with 1 Axes>"
      ]
     },
     "metadata": {
      "needs_background": "light"
     },
     "output_type": "display_data"
    },
    {
     "data": {
      "text/plain": [
       "KstestResult(statistic=0.24626618281249313, pvalue=1.1318865642574712e-09)"
      ]
     },
     "execution_count": 99,
     "metadata": {},
     "output_type": "execute_result"
    }
   ],
   "source": [
    "data_gdp= X.gdp\n",
    "loc, scale = norm.fit(data_gdp)\n",
    "# create a normal distribution with loc and scale\n",
    "n = norm(loc=loc, scale=scale)\n",
    "plt.hist(data_gdp, bins=np.arange(data_gdp.min(), data_gdp.max()+0.2, 0.2), rwidth=0.5)\n",
    "x = np.arange(data_gdp.min(), data_gdp.max()+0.2, 0.2)\n",
    "plt.plot(x, 350*n.pdf(x))\n",
    "plt.show()\n",
    "kstest(data_gdp, n.cdf)"
   ]
  },
  {
   "cell_type": "code",
   "execution_count": 100,
   "metadata": {},
   "outputs": [],
   "source": [
    "# Since the p-value is less than .05, we accept the null hypothesis.\n",
    "# data does not normal distribution"
   ]
  },
  {
   "cell_type": "markdown",
   "metadata": {},
   "source": [
    "Run test on Pultry Domestic Supply Per Capita variable"
   ]
  },
  {
   "cell_type": "code",
   "execution_count": 101,
   "metadata": {},
   "outputs": [
    {
     "data": {
      "image/png": "[encoded data removed]",
      "text/plain": [
       "<Figure size 432x288 with 1 Axes>"
      ]
     },
     "metadata": {
      "needs_background": "light"
     },
     "output_type": "display_data"
    },
    {
     "data": {
      "text/plain": [
       "KstestResult(statistic=0.12457768152616977, pvalue=0.008733357205001985)"
      ]
     },
     "execution_count": 101,
     "metadata": {},
     "output_type": "execute_result"
    }
   ],
   "source": [
    "data_poultry_per_cap= X.poultry_supply_per_cap\n",
    "loc, scale = norm.fit(data_poultry_per_cap)\n",
    "# create a normal distribution with loc and scale\n",
    "n = norm(loc=loc, scale=scale)\n",
    "plt.hist(data_poultry_per_cap, bins=np.arange(data_poultry_per_cap.min(), data_poultry_per_cap.max()+0.2, 0.2), rwidth=0.5)\n",
    "x = np.arange(data_poultry_per_cap.min(), data_poultry_per_cap.max()+0.2, 0.2)\n",
    "plt.plot(x, 350*n.pdf(x))\n",
    "plt.show()\n",
    "kstest(data_poultry_per_cap, n.cdf)"
   ]
  },
  {
   "cell_type": "code",
   "execution_count": 102,
   "metadata": {},
   "outputs": [],
   "source": [
    "# Since the p-value is less than .05, we accept the null hypothesis.\n",
    "# data does not normal distribution"
   ]
  },
  {
   "cell_type": "markdown",
   "metadata": {},
   "source": [
    "## 4.2 Guassian Test"
   ]
  },
  {
   "cell_type": "markdown",
   "metadata": {},
   "source": [
    "https://machinelearningmastery.com/statistical-hypothesis-tests-in-python-cheat-sheet/"
   ]
  },
  {
   "cell_type": "raw",
   "metadata": {},
   "source": [
    " Have a look on clustomer 0 and 1\n",
    " \n",
    "H0: the sample has a Gaussian distribution.\n",
    "H1: the sample does not have a Gaussian distribution."
   ]
  },
  {
   "cell_type": "code",
   "execution_count": 103,
   "metadata": {},
   "outputs": [
    {
     "data": {
      "text/html": [
       "<div>\n",
       "<style scoped>\n",
       "    .dataframe tbody tr th:only-of-type {\n",
       "        vertical-align: middle;\n",
       "    }\n",
       "\n",
       "    .dataframe tbody tr th {\n",
       "        vertical-align: top;\n",
       "    }\n",
       "\n",
       "    .dataframe thead th {\n",
       "        text-align: right;\n",
       "    }\n",
       "</style>\n",
       "<table border=\"1\" class=\"dataframe\">\n",
       "  <thead>\n",
       "    <tr style=\"text-align: right;\">\n",
       "      <th></th>\n",
       "      <th>population_difference</th>\n",
       "      <th>animal_protein_vs_total_protein</th>\n",
       "      <th>protein_supply_quantity_gcapitaday</th>\n",
       "      <th>food_supply_kcalcapitaday</th>\n",
       "      <th>gdp</th>\n",
       "      <th>five_year_average</th>\n",
       "      <th>poultry_supply_per_cap</th>\n",
       "    </tr>\n",
       "    <tr>\n",
       "      <th>country</th>\n",
       "      <th></th>\n",
       "      <th></th>\n",
       "      <th></th>\n",
       "      <th></th>\n",
       "      <th></th>\n",
       "      <th></th>\n",
       "      <th></th>\n",
       "    </tr>\n",
       "  </thead>\n",
       "  <tbody>\n",
       "    <tr>\n",
       "      <td>Sao Tome and Principe</td>\n",
       "      <td>1.932367</td>\n",
       "      <td>30.451542</td>\n",
       "      <td>54.480000</td>\n",
       "      <td>2447.000000</td>\n",
       "      <td>1968.732492</td>\n",
       "      <td>0.000000</td>\n",
       "      <td>9.478673</td>\n",
       "    </tr>\n",
       "    <tr>\n",
       "      <td>Kiribati</td>\n",
       "      <td>1.754386</td>\n",
       "      <td>49.014008</td>\n",
       "      <td>73.530000</td>\n",
       "      <td>3078.000000</td>\n",
       "      <td>1592.082641</td>\n",
       "      <td>0.000000</td>\n",
       "      <td>17.241379</td>\n",
       "    </tr>\n",
       "    <tr>\n",
       "      <td>Solomon Islands</td>\n",
       "      <td>2.672956</td>\n",
       "      <td>28.929042</td>\n",
       "      <td>53.130000</td>\n",
       "      <td>2412.000000</td>\n",
       "      <td>2039.282045</td>\n",
       "      <td>0.000000</td>\n",
       "      <td>4.594181</td>\n",
       "    </tr>\n",
       "    <tr>\n",
       "      <td>Djibouti</td>\n",
       "      <td>1.588983</td>\n",
       "      <td>21.401313</td>\n",
       "      <td>65.510000</td>\n",
       "      <td>2695.000000</td>\n",
       "      <td>3009.407574</td>\n",
       "      <td>0.125000</td>\n",
       "      <td>3.128259</td>\n",
       "    </tr>\n",
       "    <tr>\n",
       "      <td>Guinea-Bissau</td>\n",
       "      <td>2.516411</td>\n",
       "      <td>21.304650</td>\n",
       "      <td>43.230000</td>\n",
       "      <td>2229.000000</td>\n",
       "      <td>764.899506</td>\n",
       "      <td>0.000000</td>\n",
       "      <td>2.134472</td>\n",
       "    </tr>\n",
       "  </tbody>\n",
       "</table>\n",
       "</div>"
      ],
      "text/plain": [
       "                       population_difference  animal_protein_vs_total_protein  \\\n",
       "country                                                                         \n",
       "Sao Tome and Principe               1.932367                        30.451542   \n",
       "Kiribati                            1.754386                        49.014008   \n",
       "Solomon Islands                     2.672956                        28.929042   \n",
       "Djibouti                            1.588983                        21.401313   \n",
       "Guinea-Bissau                       2.516411                        21.304650   \n",
       "\n",
       "                       protein_supply_quantity_gcapitaday  \\\n",
       "country                                                     \n",
       "Sao Tome and Principe                           54.480000   \n",
       "Kiribati                                        73.530000   \n",
       "Solomon Islands                                 53.130000   \n",
       "Djibouti                                        65.510000   \n",
       "Guinea-Bissau                                   43.230000   \n",
       "\n",
       "                       food_supply_kcalcapitaday         gdp  \\\n",
       "country                                                        \n",
       "Sao Tome and Principe                2447.000000 1968.732492   \n",
       "Kiribati                             3078.000000 1592.082641   \n",
       "Solomon Islands                      2412.000000 2039.282045   \n",
       "Djibouti                             2695.000000 3009.407574   \n",
       "Guinea-Bissau                        2229.000000  764.899506   \n",
       "\n",
       "                       five_year_average  poultry_supply_per_cap  \n",
       "country                                                           \n",
       "Sao Tome and Principe           0.000000                9.478673  \n",
       "Kiribati                        0.000000               17.241379  \n",
       "Solomon Islands                 0.000000                4.594181  \n",
       "Djibouti                        0.125000                3.128259  \n",
       "Guinea-Bissau                   0.000000                2.134472  "
      ]
     },
     "execution_count": 103,
     "metadata": {},
     "output_type": "execute_result"
    }
   ],
   "source": [
    "X.head()"
   ]
  },
  {
   "cell_type": "code",
   "execution_count": 104,
   "metadata": {},
   "outputs": [],
   "source": [
    "X_info=X.reset_index()\n"
   ]
  },
  {
   "cell_type": "code",
   "execution_count": 105,
   "metadata": {},
   "outputs": [],
   "source": [
    "X_cluster=X_scaled_clustered.reset_index()\n",
    "X_cluster=X_cluster[['country','cluster']]\n",
    "#X_cluster=X_cluster[(X_cluster['cluster'] >=3)]\n",
    "X_cluster=pd.merge(X_cluster,X_info,on='country',how='inner')\n",
    "X_cluster_0=X_cluster[(X_cluster['cluster'] ==0)]\n",
    "X_cluster_1=X_cluster[(X_cluster['cluster'] ==1)]"
   ]
  },
  {
   "cell_type": "code",
   "execution_count": 106,
   "metadata": {},
   "outputs": [
    {
     "data": {
      "text/html": [
       "<div>\n",
       "<style scoped>\n",
       "    .dataframe tbody tr th:only-of-type {\n",
       "        vertical-align: middle;\n",
       "    }\n",
       "\n",
       "    .dataframe tbody tr th {\n",
       "        vertical-align: top;\n",
       "    }\n",
       "\n",
       "    .dataframe thead th {\n",
       "        text-align: right;\n",
       "    }\n",
       "</style>\n",
       "<table border=\"1\" class=\"dataframe\">\n",
       "  <thead>\n",
       "    <tr style=\"text-align: right;\">\n",
       "      <th></th>\n",
       "      <th>country</th>\n",
       "      <th>cluster</th>\n",
       "      <th>population_difference</th>\n",
       "      <th>animal_protein_vs_total_protein</th>\n",
       "      <th>protein_supply_quantity_gcapitaday</th>\n",
       "      <th>food_supply_kcalcapitaday</th>\n",
       "      <th>gdp</th>\n",
       "      <th>five_year_average</th>\n",
       "      <th>poultry_supply_per_cap</th>\n",
       "    </tr>\n",
       "  </thead>\n",
       "  <tbody>\n",
       "    <tr>\n",
       "      <td>19</td>\n",
       "      <td>Iceland</td>\n",
       "      <td>0</td>\n",
       "      <td>0.898204</td>\n",
       "      <td>71.668487</td>\n",
       "      <td>146.480000</td>\n",
       "      <td>3656.000000</td>\n",
       "      <td>76624.485693</td>\n",
       "      <td>0.027778</td>\n",
       "      <td>29.673591</td>\n",
       "    </tr>\n",
       "    <tr>\n",
       "      <td>23</td>\n",
       "      <td>Luxembourg</td>\n",
       "      <td>0</td>\n",
       "      <td>2.027027</td>\n",
       "      <td>62.289935</td>\n",
       "      <td>108.300000</td>\n",
       "      <td>3470.000000</td>\n",
       "      <td>120137.955478</td>\n",
       "      <td>0.025000</td>\n",
       "      <td>18.211921</td>\n",
       "    </tr>\n",
       "    <tr>\n",
       "      <td>25</td>\n",
       "      <td>Malta</td>\n",
       "      <td>0</td>\n",
       "      <td>0.228311</td>\n",
       "      <td>56.781846</td>\n",
       "      <td>116.340000</td>\n",
       "      <td>3419.000000</td>\n",
       "      <td>33671.589348</td>\n",
       "      <td>0.019231</td>\n",
       "      <td>31.890661</td>\n",
       "    </tr>\n",
       "    <tr>\n",
       "      <td>34</td>\n",
       "      <td>China, Macao SAR</td>\n",
       "      <td>0</td>\n",
       "      <td>1.444623</td>\n",
       "      <td>64.850037</td>\n",
       "      <td>109.360000</td>\n",
       "      <td>3326.000000</td>\n",
       "      <td>86248.547881</td>\n",
       "      <td>0.011905</td>\n",
       "      <td>34.810127</td>\n",
       "    </tr>\n",
       "    <tr>\n",
       "      <td>84</td>\n",
       "      <td>Lithuania</td>\n",
       "      <td>0</td>\n",
       "      <td>-1.546573</td>\n",
       "      <td>62.327089</td>\n",
       "      <td>126.510000</td>\n",
       "      <td>3410.000000</td>\n",
       "      <td>18583.568442</td>\n",
       "      <td>0.015709</td>\n",
       "      <td>29.632274</td>\n",
       "    </tr>\n",
       "    <tr>\n",
       "      <td>89</td>\n",
       "      <td>Norway</td>\n",
       "      <td>0</td>\n",
       "      <td>0.793051</td>\n",
       "      <td>59.957608</td>\n",
       "      <td>113.230000</td>\n",
       "      <td>3366.000000</td>\n",
       "      <td>81101.658048</td>\n",
       "      <td>0.011639</td>\n",
       "      <td>20.794305</td>\n",
       "    </tr>\n",
       "    <tr>\n",
       "      <td>93</td>\n",
       "      <td>Finland</td>\n",
       "      <td>0</td>\n",
       "      <td>0.217746</td>\n",
       "      <td>63.934565</td>\n",
       "      <td>117.980000</td>\n",
       "      <td>3340.000000</td>\n",
       "      <td>49955.341172</td>\n",
       "      <td>0.018269</td>\n",
       "      <td>20.822017</td>\n",
       "    </tr>\n",
       "    <tr>\n",
       "      <td>95</td>\n",
       "      <td>Ireland</td>\n",
       "      <td>0</td>\n",
       "      <td>1.388597</td>\n",
       "      <td>61.302682</td>\n",
       "      <td>117.450000</td>\n",
       "      <td>3885.000000</td>\n",
       "      <td>79661.622685</td>\n",
       "      <td>0.010937</td>\n",
       "      <td>26.146503</td>\n",
       "    </tr>\n",
       "    <tr>\n",
       "      <td>98</td>\n",
       "      <td>Switzerland</td>\n",
       "      <td>0</td>\n",
       "      <td>0.827815</td>\n",
       "      <td>62.801679</td>\n",
       "      <td>95.300000</td>\n",
       "      <td>3355.000000</td>\n",
       "      <td>82530.174862</td>\n",
       "      <td>0.003860</td>\n",
       "      <td>15.482055</td>\n",
       "    </tr>\n",
       "    <tr>\n",
       "      <td>103</td>\n",
       "      <td>Denmark</td>\n",
       "      <td>0</td>\n",
       "      <td>0.348918</td>\n",
       "      <td>68.139475</td>\n",
       "      <td>117.010000</td>\n",
       "      <td>3399.000000</td>\n",
       "      <td>61809.750887</td>\n",
       "      <td>0.060332</td>\n",
       "      <td>26.947149</td>\n",
       "    </tr>\n",
       "    <tr>\n",
       "      <td>105</td>\n",
       "      <td>Belgium</td>\n",
       "      <td>0</td>\n",
       "      <td>0.542907</td>\n",
       "      <td>58.763921</td>\n",
       "      <td>99.670000</td>\n",
       "      <td>3764.000000</td>\n",
       "      <td>47225.757205</td>\n",
       "      <td>0.013532</td>\n",
       "      <td>14.109040</td>\n",
       "    </tr>\n",
       "    <tr>\n",
       "      <td>106</td>\n",
       "      <td>Austria</td>\n",
       "      <td>0</td>\n",
       "      <td>0.804989</td>\n",
       "      <td>60.357634</td>\n",
       "      <td>109.050000</td>\n",
       "      <td>3694.000000</td>\n",
       "      <td>52047.260459</td>\n",
       "      <td>0.004482</td>\n",
       "      <td>19.795299</td>\n",
       "    </tr>\n",
       "    <tr>\n",
       "      <td>108</td>\n",
       "      <td>Sweden</td>\n",
       "      <td>0</td>\n",
       "      <td>0.676426</td>\n",
       "      <td>63.997346</td>\n",
       "      <td>105.520000</td>\n",
       "      <td>3182.000000</td>\n",
       "      <td>55704.968354</td>\n",
       "      <td>0.018070</td>\n",
       "      <td>18.953069</td>\n",
       "    </tr>\n",
       "    <tr>\n",
       "      <td>109</td>\n",
       "      <td>Kuwait</td>\n",
       "      <td>0</td>\n",
       "      <td>1.997041</td>\n",
       "      <td>49.403781</td>\n",
       "      <td>103.150000</td>\n",
       "      <td>3471.000000</td>\n",
       "      <td>33760.739169</td>\n",
       "      <td>0.038570</td>\n",
       "      <td>48.344211</td>\n",
       "    </tr>\n",
       "    <tr>\n",
       "      <td>112</td>\n",
       "      <td>New Zealand</td>\n",
       "      <td>0</td>\n",
       "      <td>0.871969</td>\n",
       "      <td>54.987212</td>\n",
       "      <td>93.840000</td>\n",
       "      <td>3192.000000</td>\n",
       "      <td>43776.465705</td>\n",
       "      <td>0.045952</td>\n",
       "      <td>44.064938</td>\n",
       "    </tr>\n",
       "    <tr>\n",
       "      <td>116</td>\n",
       "      <td>Netherlands</td>\n",
       "      <td>0</td>\n",
       "      <td>0.229129</td>\n",
       "      <td>65.567766</td>\n",
       "      <td>106.470000</td>\n",
       "      <td>3297.000000</td>\n",
       "      <td>53505.050866</td>\n",
       "      <td>-0.116643</td>\n",
       "      <td>13.716295</td>\n",
       "    </tr>\n",
       "    <tr>\n",
       "      <td>124</td>\n",
       "      <td>China, Hong Kong SAR</td>\n",
       "      <td>0</td>\n",
       "      <td>0.903367</td>\n",
       "      <td>73.110748</td>\n",
       "      <td>128.490000</td>\n",
       "      <td>3267.000000</td>\n",
       "      <td>48820.505446</td>\n",
       "      <td>-0.035367</td>\n",
       "      <td>40.151926</td>\n",
       "    </tr>\n",
       "    <tr>\n",
       "      <td>127</td>\n",
       "      <td>Portugal</td>\n",
       "      <td>0</td>\n",
       "      <td>-0.320731</td>\n",
       "      <td>63.629363</td>\n",
       "      <td>116.880000</td>\n",
       "      <td>3479.000000</td>\n",
       "      <td>23397.874237</td>\n",
       "      <td>0.010031</td>\n",
       "      <td>32.761310</td>\n",
       "    </tr>\n",
       "    <tr>\n",
       "      <td>136</td>\n",
       "      <td>United Arab Emirates</td>\n",
       "      <td>0</td>\n",
       "      <td>1.517867</td>\n",
       "      <td>45.813658</td>\n",
       "      <td>110.120000</td>\n",
       "      <td>3312.000000</td>\n",
       "      <td>43407.635143</td>\n",
       "      <td>0.112976</td>\n",
       "      <td>62.921815</td>\n",
       "    </tr>\n",
       "    <tr>\n",
       "      <td>137</td>\n",
       "      <td>Israel</td>\n",
       "      <td>0</td>\n",
       "      <td>1.673945</td>\n",
       "      <td>58.894496</td>\n",
       "      <td>126.820000</td>\n",
       "      <td>3527.000000</td>\n",
       "      <td>43841.825316</td>\n",
       "      <td>0.021292</td>\n",
       "      <td>73.848723</td>\n",
       "    </tr>\n",
       "    <tr>\n",
       "      <td>140</td>\n",
       "      <td>Republic of Korea</td>\n",
       "      <td>0</td>\n",
       "      <td>0.148740</td>\n",
       "      <td>51.652851</td>\n",
       "      <td>100.130000</td>\n",
       "      <td>3417.000000</td>\n",
       "      <td>33626.657541</td>\n",
       "      <td>0.014068</td>\n",
       "      <td>16.903776</td>\n",
       "    </tr>\n",
       "    <tr>\n",
       "      <td>144</td>\n",
       "      <td>Italy</td>\n",
       "      <td>0</td>\n",
       "      <td>-0.077463</td>\n",
       "      <td>53.479853</td>\n",
       "      <td>106.470000</td>\n",
       "      <td>3500.000000</td>\n",
       "      <td>35163.573799</td>\n",
       "      <td>0.006395</td>\n",
       "      <td>19.149884</td>\n",
       "    </tr>\n",
       "    <tr>\n",
       "      <td>146</td>\n",
       "      <td>Australia</td>\n",
       "      <td>0</td>\n",
       "      <td>1.273134</td>\n",
       "      <td>66.792631</td>\n",
       "      <td>105.850000</td>\n",
       "      <td>3391.000000</td>\n",
       "      <td>58689.490194</td>\n",
       "      <td>0.019996</td>\n",
       "      <td>48.638445</td>\n",
       "    </tr>\n",
       "    <tr>\n",
       "      <td>149</td>\n",
       "      <td>Spain</td>\n",
       "      <td>0</td>\n",
       "      <td>0.098613</td>\n",
       "      <td>62.186597</td>\n",
       "      <td>107.290000</td>\n",
       "      <td>3324.000000</td>\n",
       "      <td>30599.422680</td>\n",
       "      <td>0.012955</td>\n",
       "      <td>30.754074</td>\n",
       "    </tr>\n",
       "    <tr>\n",
       "      <td>150</td>\n",
       "      <td>Canada</td>\n",
       "      <td>0</td>\n",
       "      <td>0.933791</td>\n",
       "      <td>54.348659</td>\n",
       "      <td>104.400000</td>\n",
       "      <td>3567.000000</td>\n",
       "      <td>46343.371942</td>\n",
       "      <td>0.031981</td>\n",
       "      <td>40.404585</td>\n",
       "    </tr>\n",
       "    <tr>\n",
       "      <td>154</td>\n",
       "      <td>France</td>\n",
       "      <td>0</td>\n",
       "      <td>0.242628</td>\n",
       "      <td>59.578402</td>\n",
       "      <td>108.160000</td>\n",
       "      <td>3501.000000</td>\n",
       "      <td>41168.651446</td>\n",
       "      <td>0.002705</td>\n",
       "      <td>24.233913</td>\n",
       "    </tr>\n",
       "    <tr>\n",
       "      <td>156</td>\n",
       "      <td>Germany</td>\n",
       "      <td>0</td>\n",
       "      <td>0.563769</td>\n",
       "      <td>60.893961</td>\n",
       "      <td>105.150000</td>\n",
       "      <td>3554.000000</td>\n",
       "      <td>47993.473332</td>\n",
       "      <td>0.012731</td>\n",
       "      <td>20.042346</td>\n",
       "    </tr>\n",
       "    <tr>\n",
       "      <td>162</td>\n",
       "      <td>United Kingdom of Great Britain and Northern I...</td>\n",
       "      <td>0</td>\n",
       "      <td>0.621937</td>\n",
       "      <td>55.827394</td>\n",
       "      <td>103.820000</td>\n",
       "      <td>3343.000000</td>\n",
       "      <td>42889.386317</td>\n",
       "      <td>0.021429</td>\n",
       "      <td>31.708915</td>\n",
       "    </tr>\n",
       "    <tr>\n",
       "      <td>170</td>\n",
       "      <td>United States of America</td>\n",
       "      <td>0</td>\n",
       "      <td>0.618607</td>\n",
       "      <td>64.685684</td>\n",
       "      <td>113.580000</td>\n",
       "      <td>3777.000000</td>\n",
       "      <td>62981.386956</td>\n",
       "      <td>0.032931</td>\n",
       "      <td>57.001614</td>\n",
       "    </tr>\n",
       "  </tbody>\n",
       "</table>\n",
       "</div>"
      ],
      "text/plain": [
       "                                               country  cluster  \\\n",
       "19                                             Iceland        0   \n",
       "23                                          Luxembourg        0   \n",
       "25                                               Malta        0   \n",
       "34                                    China, Macao SAR        0   \n",
       "84                                           Lithuania        0   \n",
       "89                                              Norway        0   \n",
       "93                                             Finland        0   \n",
       "95                                             Ireland        0   \n",
       "98                                         Switzerland        0   \n",
       "103                                            Denmark        0   \n",
       "105                                            Belgium        0   \n",
       "106                                            Austria        0   \n",
       "108                                             Sweden        0   \n",
       "109                                             Kuwait        0   \n",
       "112                                        New Zealand        0   \n",
       "116                                        Netherlands        0   \n",
       "124                               China, Hong Kong SAR        0   \n",
       "127                                           Portugal        0   \n",
       "136                               United Arab Emirates        0   \n",
       "137                                             Israel        0   \n",
       "140                                  Republic of Korea        0   \n",
       "144                                              Italy        0   \n",
       "146                                          Australia        0   \n",
       "149                                              Spain        0   \n",
       "150                                             Canada        0   \n",
       "154                                             France        0   \n",
       "156                                            Germany        0   \n",
       "162  United Kingdom of Great Britain and Northern I...        0   \n",
       "170                           United States of America        0   \n",
       "\n",
       "     population_difference  animal_protein_vs_total_protein  \\\n",
       "19                0.898204                        71.668487   \n",
       "23                2.027027                        62.289935   \n",
       "25                0.228311                        56.781846   \n",
       "34                1.444623                        64.850037   \n",
       "84               -1.546573                        62.327089   \n",
       "89                0.793051                        59.957608   \n",
       "93                0.217746                        63.934565   \n",
       "95                1.388597                        61.302682   \n",
       "98                0.827815                        62.801679   \n",
       "103               0.348918                        68.139475   \n",
       "105               0.542907                        58.763921   \n",
       "106               0.804989                        60.357634   \n",
       "108               0.676426                        63.997346   \n",
       "109               1.997041                        49.403781   \n",
       "112               0.871969                        54.987212   \n",
       "116               0.229129                        65.567766   \n",
       "124               0.903367                        73.110748   \n",
       "127              -0.320731                        63.629363   \n",
       "136               1.517867                        45.813658   \n",
       "137               1.673945                        58.894496   \n",
       "140               0.148740                        51.652851   \n",
       "144              -0.077463                        53.479853   \n",
       "146               1.273134                        66.792631   \n",
       "149               0.098613                        62.186597   \n",
       "150               0.933791                        54.348659   \n",
       "154               0.242628                        59.578402   \n",
       "156               0.563769                        60.893961   \n",
       "162               0.621937                        55.827394   \n",
       "170               0.618607                        64.685684   \n",
       "\n",
       "     protein_supply_quantity_gcapitaday  food_supply_kcalcapitaday  \\\n",
       "19                           146.480000                3656.000000   \n",
       "23                           108.300000                3470.000000   \n",
       "25                           116.340000                3419.000000   \n",
       "34                           109.360000                3326.000000   \n",
       "84                           126.510000                3410.000000   \n",
       "89                           113.230000                3366.000000   \n",
       "93                           117.980000                3340.000000   \n",
       "95                           117.450000                3885.000000   \n",
       "98                            95.300000                3355.000000   \n",
       "103                          117.010000                3399.000000   \n",
       "105                           99.670000                3764.000000   \n",
       "106                          109.050000                3694.000000   \n",
       "108                          105.520000                3182.000000   \n",
       "109                          103.150000                3471.000000   \n",
       "112                           93.840000                3192.000000   \n",
       "116                          106.470000                3297.000000   \n",
       "124                          128.490000                3267.000000   \n",
       "127                          116.880000                3479.000000   \n",
       "136                          110.120000                3312.000000   \n",
       "137                          126.820000                3527.000000   \n",
       "140                          100.130000                3417.000000   \n",
       "144                          106.470000                3500.000000   \n",
       "146                          105.850000                3391.000000   \n",
       "149                          107.290000                3324.000000   \n",
       "150                          104.400000                3567.000000   \n",
       "154                          108.160000                3501.000000   \n",
       "156                          105.150000                3554.000000   \n",
       "162                          103.820000                3343.000000   \n",
       "170                          113.580000                3777.000000   \n",
       "\n",
       "              gdp  five_year_average  poultry_supply_per_cap  \n",
       "19   76624.485693           0.027778               29.673591  \n",
       "23  120137.955478           0.025000               18.211921  \n",
       "25   33671.589348           0.019231               31.890661  \n",
       "34   86248.547881           0.011905               34.810127  \n",
       "84   18583.568442           0.015709               29.632274  \n",
       "89   81101.658048           0.011639               20.794305  \n",
       "93   49955.341172           0.018269               20.822017  \n",
       "95   79661.622685           0.010937               26.146503  \n",
       "98   82530.174862           0.003860               15.482055  \n",
       "103  61809.750887           0.060332               26.947149  \n",
       "105  47225.757205           0.013532               14.109040  \n",
       "106  52047.260459           0.004482               19.795299  \n",
       "108  55704.968354           0.018070               18.953069  \n",
       "109  33760.739169           0.038570               48.344211  \n",
       "112  43776.465705           0.045952               44.064938  \n",
       "116  53505.050866          -0.116643               13.716295  \n",
       "124  48820.505446          -0.035367               40.151926  \n",
       "127  23397.874237           0.010031               32.761310  \n",
       "136  43407.635143           0.112976               62.921815  \n",
       "137  43841.825316           0.021292               73.848723  \n",
       "140  33626.657541           0.014068               16.903776  \n",
       "144  35163.573799           0.006395               19.149884  \n",
       "146  58689.490194           0.019996               48.638445  \n",
       "149  30599.422680           0.012955               30.754074  \n",
       "150  46343.371942           0.031981               40.404585  \n",
       "154  41168.651446           0.002705               24.233913  \n",
       "156  47993.473332           0.012731               20.042346  \n",
       "162  42889.386317           0.021429               31.708915  \n",
       "170  62981.386956           0.032931               57.001614  "
      ]
     },
     "execution_count": 106,
     "metadata": {},
     "output_type": "execute_result"
    }
   ],
   "source": [
    "X_cluster_0"
   ]
  },
  {
   "cell_type": "code",
   "execution_count": 107,
   "metadata": {},
   "outputs": [
    {
     "data": {
      "text/html": [
       "<div>\n",
       "<style scoped>\n",
       "    .dataframe tbody tr th:only-of-type {\n",
       "        vertical-align: middle;\n",
       "    }\n",
       "\n",
       "    .dataframe tbody tr th {\n",
       "        vertical-align: top;\n",
       "    }\n",
       "\n",
       "    .dataframe thead th {\n",
       "        text-align: right;\n",
       "    }\n",
       "</style>\n",
       "<table border=\"1\" class=\"dataframe\">\n",
       "  <thead>\n",
       "    <tr style=\"text-align: right;\">\n",
       "      <th></th>\n",
       "      <th>country</th>\n",
       "      <th>cluster</th>\n",
       "      <th>population_difference</th>\n",
       "      <th>animal_protein_vs_total_protein</th>\n",
       "      <th>protein_supply_quantity_gcapitaday</th>\n",
       "      <th>food_supply_kcalcapitaday</th>\n",
       "      <th>gdp</th>\n",
       "      <th>five_year_average</th>\n",
       "      <th>poultry_supply_per_cap</th>\n",
       "    </tr>\n",
       "  </thead>\n",
       "  <tbody>\n",
       "    <tr>\n",
       "      <td>1</td>\n",
       "      <td>Kiribati</td>\n",
       "      <td>1</td>\n",
       "      <td>1.754386</td>\n",
       "      <td>49.014008</td>\n",
       "      <td>73.530000</td>\n",
       "      <td>3078.000000</td>\n",
       "      <td>1592.082641</td>\n",
       "      <td>0.000000</td>\n",
       "      <td>17.241379</td>\n",
       "    </tr>\n",
       "    <tr>\n",
       "      <td>5</td>\n",
       "      <td>Saint Kitts and Nevis</td>\n",
       "      <td>1</td>\n",
       "      <td>0.000000</td>\n",
       "      <td>64.222684</td>\n",
       "      <td>77.060000</td>\n",
       "      <td>2579.000000</td>\n",
       "      <td>18098.875957</td>\n",
       "      <td>0.000000</td>\n",
       "      <td>76.923077</td>\n",
       "    </tr>\n",
       "    <tr>\n",
       "      <td>8</td>\n",
       "      <td>Dominica</td>\n",
       "      <td>1</td>\n",
       "      <td>1.408451</td>\n",
       "      <td>55.548526</td>\n",
       "      <td>79.030000</td>\n",
       "      <td>2953.000000</td>\n",
       "      <td>7413.637732</td>\n",
       "      <td>0.062500</td>\n",
       "      <td>69.444444</td>\n",
       "    </tr>\n",
       "    <tr>\n",
       "      <td>9</td>\n",
       "      <td>Antigua and Barbuda</td>\n",
       "      <td>1</td>\n",
       "      <td>1.052632</td>\n",
       "      <td>64.747841</td>\n",
       "      <td>79.910000</td>\n",
       "      <td>2442.000000</td>\n",
       "      <td>15629.054576</td>\n",
       "      <td>0.000000</td>\n",
       "      <td>62.500000</td>\n",
       "    </tr>\n",
       "    <tr>\n",
       "      <td>10</td>\n",
       "      <td>Grenada</td>\n",
       "      <td>1</td>\n",
       "      <td>0.000000</td>\n",
       "      <td>56.683967</td>\n",
       "      <td>71.290000</td>\n",
       "      <td>2401.000000</td>\n",
       "      <td>10787.400403</td>\n",
       "      <td>0.008929</td>\n",
       "      <td>63.063063</td>\n",
       "    </tr>\n",
       "    <tr>\n",
       "      <td>...</td>\n",
       "      <td>...</td>\n",
       "      <td>...</td>\n",
       "      <td>...</td>\n",
       "      <td>...</td>\n",
       "      <td>...</td>\n",
       "      <td>...</td>\n",
       "      <td>...</td>\n",
       "      <td>...</td>\n",
       "      <td>...</td>\n",
       "    </tr>\n",
       "    <tr>\n",
       "      <td>165</td>\n",
       "      <td>Japan</td>\n",
       "      <td>1</td>\n",
       "      <td>-0.236073</td>\n",
       "      <td>55.681558</td>\n",
       "      <td>87.300000</td>\n",
       "      <td>2707.000000</td>\n",
       "      <td>39087.235938</td>\n",
       "      <td>0.013822</td>\n",
       "      <td>19.221396</td>\n",
       "    </tr>\n",
       "    <tr>\n",
       "      <td>167</td>\n",
       "      <td>Mexico</td>\n",
       "      <td>1</td>\n",
       "      <td>1.133222</td>\n",
       "      <td>48.972003</td>\n",
       "      <td>91.440000</td>\n",
       "      <td>3157.000000</td>\n",
       "      <td>9356.145765</td>\n",
       "      <td>0.034396</td>\n",
       "      <td>34.455706</td>\n",
       "    </tr>\n",
       "    <tr>\n",
       "      <td>168</td>\n",
       "      <td>Russian Federation</td>\n",
       "      <td>1</td>\n",
       "      <td>0.140177</td>\n",
       "      <td>54.826940</td>\n",
       "      <td>101.410000</td>\n",
       "      <td>3342.000000</td>\n",
       "      <td>11534.175152</td>\n",
       "      <td>0.023857</td>\n",
       "      <td>31.475153</td>\n",
       "    </tr>\n",
       "    <tr>\n",
       "      <td>169</td>\n",
       "      <td>Brazil</td>\n",
       "      <td>1</td>\n",
       "      <td>0.786686</td>\n",
       "      <td>56.199038</td>\n",
       "      <td>95.660000</td>\n",
       "      <td>3300.000000</td>\n",
       "      <td>8861.531858</td>\n",
       "      <td>0.021581</td>\n",
       "      <td>47.047534</td>\n",
       "    </tr>\n",
       "    <tr>\n",
       "      <td>171</td>\n",
       "      <td>China, mainland</td>\n",
       "      <td>1</td>\n",
       "      <td>0.466284</td>\n",
       "      <td>39.348819</td>\n",
       "      <td>100.740000</td>\n",
       "      <td>3191.000000</td>\n",
       "      <td>9616.756315</td>\n",
       "      <td>0.013584</td>\n",
       "      <td>13.461301</td>\n",
       "    </tr>\n",
       "  </tbody>\n",
       "</table>\n",
       "<p>73 rows × 9 columns</p>\n",
       "</div>"
      ],
      "text/plain": [
       "                   country  cluster  population_difference  \\\n",
       "1                 Kiribati        1               1.754386   \n",
       "5    Saint Kitts and Nevis        1               0.000000   \n",
       "8                 Dominica        1               1.408451   \n",
       "9      Antigua and Barbuda        1               1.052632   \n",
       "10                 Grenada        1               0.000000   \n",
       "..                     ...      ...                    ...   \n",
       "165                  Japan        1              -0.236073   \n",
       "167                 Mexico        1               1.133222   \n",
       "168     Russian Federation        1               0.140177   \n",
       "169                 Brazil        1               0.786686   \n",
       "171        China, mainland        1               0.466284   \n",
       "\n",
       "     animal_protein_vs_total_protein  protein_supply_quantity_gcapitaday  \\\n",
       "1                          49.014008                           73.530000   \n",
       "5                          64.222684                           77.060000   \n",
       "8                          55.548526                           79.030000   \n",
       "9                          64.747841                           79.910000   \n",
       "10                         56.683967                           71.290000   \n",
       "..                               ...                                 ...   \n",
       "165                        55.681558                           87.300000   \n",
       "167                        48.972003                           91.440000   \n",
       "168                        54.826940                          101.410000   \n",
       "169                        56.199038                           95.660000   \n",
       "171                        39.348819                          100.740000   \n",
       "\n",
       "     food_supply_kcalcapitaday          gdp  five_year_average  \\\n",
       "1                  3078.000000  1592.082641           0.000000   \n",
       "5                  2579.000000 18098.875957           0.000000   \n",
       "8                  2953.000000  7413.637732           0.062500   \n",
       "9                  2442.000000 15629.054576           0.000000   \n",
       "10                 2401.000000 10787.400403           0.008929   \n",
       "..                         ...          ...                ...   \n",
       "165                2707.000000 39087.235938           0.013822   \n",
       "167                3157.000000  9356.145765           0.034396   \n",
       "168                3342.000000 11534.175152           0.023857   \n",
       "169                3300.000000  8861.531858           0.021581   \n",
       "171                3191.000000  9616.756315           0.013584   \n",
       "\n",
       "     poultry_supply_per_cap  \n",
       "1                 17.241379  \n",
       "5                 76.923077  \n",
       "8                 69.444444  \n",
       "9                 62.500000  \n",
       "10                63.063063  \n",
       "..                      ...  \n",
       "165               19.221396  \n",
       "167               34.455706  \n",
       "168               31.475153  \n",
       "169               47.047534  \n",
       "171               13.461301  \n",
       "\n",
       "[73 rows x 9 columns]"
      ]
     },
     "execution_count": 107,
     "metadata": {},
     "output_type": "execute_result"
    }
   ],
   "source": [
    "X_cluster_1"
   ]
  },
  {
   "cell_type": "markdown",
   "metadata": {},
   "source": [
    "* Compare Population Difference between clsuter 0 and clstuer 1"
   ]
  },
  {
   "cell_type": "code",
   "execution_count": 108,
   "metadata": {},
   "outputs": [
    {
     "data": {
      "image/png": "[encoded data removed]",
      "text/plain": [
       "<Figure size 432x288 with 1 Axes>"
      ]
     },
     "metadata": {
      "needs_background": "light"
     },
     "output_type": "display_data"
    }
   ],
   "source": [
    "import seaborn as sns\n",
    "\n",
    "clsuter_0_pop = X_cluster_0.population_difference.values\n",
    "clsuter_1_pop = X_cluster_1.population_difference.values\n",
    "\n",
    "sns.distplot(clsuter_0_pop, label ='Cluster 0')\n",
    "sns.distplot(clsuter_1_pop, label = 'Cluster 1')\n",
    "plt.legend()\n",
    "plt.title('Histogram of Cluster 0 and 1- Population Difference')\n",
    "plt.xlabel('Population difference')\n",
    "sns.despine()\n"
   ]
  },
  {
   "cell_type": "code",
   "execution_count": 109,
   "metadata": {},
   "outputs": [
    {
     "name": "stdout",
     "output_type": "stream",
     "text": [
      "stat=0.948, p=0.158\n",
      "Probably Gaussian, fail to reject H0\n",
      "stat=0.989, p=0.778\n",
      "Probably Gaussian, fail to reject H0\n"
     ]
    }
   ],
   "source": [
    "from scipy.stats import shapiro\n",
    "stat, p = shapiro(clsuter_0_pop)\n",
    "print('stat=%.3f, p=%.3f' % (stat, p))\n",
    "if p > 0.05:\n",
    "\tprint('Probably Gaussian, fail to reject H0')\n",
    "else:\n",
    "\tprint('Probably not Gaussian, fail to reject H1')\n",
    "    \n",
    "stat, p = shapiro(clsuter_1_pop)\n",
    "print('stat=%.3f, p=%.3f' % (stat, p))\n",
    "if p > 0.05:\n",
    "\tprint('Probably Gaussian, fail to reject H0')\n",
    "else:\n",
    "\tprint('Probably not Gaussian,fail to reject H1')"
   ]
  },
  {
   "cell_type": "code",
   "execution_count": 110,
   "metadata": {},
   "outputs": [
    {
     "data": {
      "image/png": "[encoded data removed]",
      "text/plain": [
       "<Figure size 432x288 with 1 Axes>"
      ]
     },
     "metadata": {
      "needs_background": "light"
     },
     "output_type": "display_data"
    }
   ],
   "source": [
    "import statsmodels.api as sm\n",
    "from scipy.stats import norm\n",
    "import pylab\n",
    "\n",
    "sm.qqplot(clsuter_0_pop, line='45')\n",
    "pylab.show()"
   ]
  },
  {
   "cell_type": "code",
   "execution_count": 111,
   "metadata": {},
   "outputs": [
    {
     "name": "stdout",
     "output_type": "stream",
     "text": [
      "0.4358289450239874 1.5798600679711907e-05\n"
     ]
    }
   ],
   "source": [
    "from scipy.stats import kstest, norm\n",
    "\n",
    "ks_statistic, p_value = kstest(clsuter_0_pop, 'norm')\n",
    "print(ks_statistic, p_value)"
   ]
  },
  {
   "cell_type": "code",
   "execution_count": 112,
   "metadata": {},
   "outputs": [
    {
     "data": {
      "image/png": "[encoded data removed]",
      "text/plain": [
       "<Figure size 432x288 with 1 Axes>"
      ]
     },
     "metadata": {
      "needs_background": "light"
     },
     "output_type": "display_data"
    }
   ],
   "source": [
    "import statsmodels.api as sm\n",
    "from scipy.stats import norm\n",
    "import pylab\n",
    "\n",
    "sm.qqplot(clsuter_1_pop, line='45')\n",
    "pylab.show()"
   ]
  },
  {
   "cell_type": "code",
   "execution_count": 113,
   "metadata": {},
   "outputs": [
    {
     "name": "stdout",
     "output_type": "stream",
     "text": [
      "0.2943889993703141 4.216943924579781e-06\n"
     ]
    }
   ],
   "source": [
    "from scipy.stats import kstest, norm\n",
    "\n",
    "ks_statistic, p_value = kstest(clsuter_1_pop, 'norm')\n",
    "print(ks_statistic, p_value)"
   ]
  },
  {
   "cell_type": "code",
   "execution_count": null,
   "metadata": {},
   "outputs": [],
   "source": []
  }
 ],
 "metadata": {
  "kernelspec": {
   "display_name": "Python 3",
   "language": "python",
   "name": "python3"
  },
  "language_info": {
   "codemirror_mode": {
    "name": "ipython",
    "version": 3
   },
   "file_extension": ".py",
   "mimetype": "text/x-python",
   "name": "python",
   "nbconvert_exporter": "python",
   "pygments_lexer": "ipython3",
   "version": "3.7.4"
  },
  "toc": {
   "base_numbering": 1,
   "nav_menu": {},
   "number_sections": false,
   "sideBar": true,
   "skip_h1_title": false,
   "title_cell": "Table of Contents",
   "title_sidebar": "Contents",
   "toc_cell": false,
   "toc_position": {
    "height": "calc(100% - 180px)",
    "left": "10px",
    "top": "150px",
    "width": "258.982px"
   },
   "toc_section_display": true,
   "toc_window_display": true
  },
  "varInspector": {
   "cols": {
    "lenName": 16,
    "lenType": 16,
    "lenVar": 40
   },
   "kernels_config": {
    "python": {
     "delete_cmd_postfix": "",
     "delete_cmd_prefix": "del ",
     "library": "var_list.py",
     "varRefreshCmd": "print(var_dic_list())"
    },
    "r": {
     "delete_cmd_postfix": ") ",
     "delete_cmd_prefix": "rm(",
     "library": "var_list.r",
     "varRefreshCmd": "cat(var_dic_list()) "
    }
   },
   "types_to_exclude": [
    "module",
    "function",
    "builtin_function_or_method",
    "instance",
    "_Feature"
   ],
   "window_display": false
  }
 },
 "nbformat": 4,
 "nbformat_minor": 2
}
